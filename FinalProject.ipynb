{
  "nbformat": 4,
  "nbformat_minor": 0,
  "metadata": {
    "colab": {
      "provenance": [],
      "collapsed_sections": [
        "Sqq3-EEN9gF9"
      ],
      "toc_visible": true
    },
    "kernelspec": {
      "name": "python3",
      "display_name": "Python 3"
    },
    "language_info": {
      "name": "python"
    }
  },
  "cells": [
    {
      "cell_type": "code",
      "execution_count": null,
      "metadata": {
        "colab": {
          "base_uri": "https://localhost:8080/"
        },
        "id": "962WQzQVmPeM",
        "outputId": "ee6c9e50-21c6-46c5-b663-cd7be6985caa"
      },
      "outputs": [
        {
          "output_type": "stream",
          "name": "stdout",
          "text": [
            "Looking in indexes: https://pypi.org/simple, https://us-python.pkg.dev/colab-wheels/public/simple/\n",
            "Requirement already satisfied: datascience in /usr/local/lib/python3.8/dist-packages (0.17.5)\n",
            "Requirement already satisfied: folium>=0.9.1 in /usr/local/lib/python3.8/dist-packages (from datascience) (0.12.1.post1)\n",
            "Requirement already satisfied: pandas in /usr/local/lib/python3.8/dist-packages (from datascience) (1.3.5)\n",
            "Requirement already satisfied: ipython in /usr/local/lib/python3.8/dist-packages (from datascience) (7.9.0)\n",
            "Requirement already satisfied: plotly in /usr/local/lib/python3.8/dist-packages (from datascience) (5.5.0)\n",
            "Requirement already satisfied: setuptools in /usr/local/lib/python3.8/dist-packages (from datascience) (57.4.0)\n",
            "Requirement already satisfied: numpy in /usr/local/lib/python3.8/dist-packages (from datascience) (1.21.6)\n",
            "Requirement already satisfied: branca in /usr/local/lib/python3.8/dist-packages (from datascience) (0.6.0)\n",
            "Requirement already satisfied: scipy in /usr/local/lib/python3.8/dist-packages (from datascience) (1.7.3)\n",
            "Requirement already satisfied: matplotlib>=3.0.0 in /usr/local/lib/python3.8/dist-packages (from datascience) (3.2.2)\n",
            "Requirement already satisfied: requests in /usr/local/lib/python3.8/dist-packages (from folium>=0.9.1->datascience) (2.25.1)\n",
            "Requirement already satisfied: jinja2>=2.9 in /usr/local/lib/python3.8/dist-packages (from folium>=0.9.1->datascience) (2.11.3)\n",
            "Requirement already satisfied: python-dateutil>=2.1 in /usr/local/lib/python3.8/dist-packages (from matplotlib>=3.0.0->datascience) (2.8.2)\n",
            "Requirement already satisfied: kiwisolver>=1.0.1 in /usr/local/lib/python3.8/dist-packages (from matplotlib>=3.0.0->datascience) (1.4.4)\n",
            "Requirement already satisfied: cycler>=0.10 in /usr/local/lib/python3.8/dist-packages (from matplotlib>=3.0.0->datascience) (0.11.0)\n",
            "Requirement already satisfied: pyparsing!=2.0.4,!=2.1.2,!=2.1.6,>=2.0.1 in /usr/local/lib/python3.8/dist-packages (from matplotlib>=3.0.0->datascience) (3.0.9)\n",
            "Requirement already satisfied: decorator in /usr/local/lib/python3.8/dist-packages (from ipython->datascience) (4.4.2)\n",
            "Requirement already satisfied: pickleshare in /usr/local/lib/python3.8/dist-packages (from ipython->datascience) (0.7.5)\n",
            "Requirement already satisfied: traitlets>=4.2 in /usr/local/lib/python3.8/dist-packages (from ipython->datascience) (5.7.1)\n",
            "Requirement already satisfied: backcall in /usr/local/lib/python3.8/dist-packages (from ipython->datascience) (0.2.0)\n",
            "Requirement already satisfied: pexpect in /usr/local/lib/python3.8/dist-packages (from ipython->datascience) (4.8.0)\n",
            "Requirement already satisfied: pygments in /usr/local/lib/python3.8/dist-packages (from ipython->datascience) (2.6.1)\n",
            "Requirement already satisfied: jedi>=0.10 in /usr/local/lib/python3.8/dist-packages (from ipython->datascience) (0.18.2)\n",
            "Requirement already satisfied: prompt-toolkit<2.1.0,>=2.0.0 in /usr/local/lib/python3.8/dist-packages (from ipython->datascience) (2.0.10)\n",
            "Requirement already satisfied: pytz>=2017.3 in /usr/local/lib/python3.8/dist-packages (from pandas->datascience) (2022.7)\n",
            "Requirement already satisfied: tenacity>=6.2.0 in /usr/local/lib/python3.8/dist-packages (from plotly->datascience) (8.1.0)\n",
            "Requirement already satisfied: six in /usr/local/lib/python3.8/dist-packages (from plotly->datascience) (1.15.0)\n",
            "Requirement already satisfied: parso<0.9.0,>=0.8.0 in /usr/local/lib/python3.8/dist-packages (from jedi>=0.10->ipython->datascience) (0.8.3)\n",
            "Requirement already satisfied: MarkupSafe>=0.23 in /usr/local/lib/python3.8/dist-packages (from jinja2>=2.9->folium>=0.9.1->datascience) (2.0.1)\n",
            "Requirement already satisfied: wcwidth in /usr/local/lib/python3.8/dist-packages (from prompt-toolkit<2.1.0,>=2.0.0->ipython->datascience) (0.2.5)\n",
            "Requirement already satisfied: ptyprocess>=0.5 in /usr/local/lib/python3.8/dist-packages (from pexpect->ipython->datascience) (0.7.0)\n",
            "Requirement already satisfied: certifi>=2017.4.17 in /usr/local/lib/python3.8/dist-packages (from requests->folium>=0.9.1->datascience) (2022.12.7)\n",
            "Requirement already satisfied: idna<3,>=2.5 in /usr/local/lib/python3.8/dist-packages (from requests->folium>=0.9.1->datascience) (2.10)\n",
            "Requirement already satisfied: urllib3<1.27,>=1.21.1 in /usr/local/lib/python3.8/dist-packages (from requests->folium>=0.9.1->datascience) (1.24.3)\n",
            "Requirement already satisfied: chardet<5,>=3.0.2 in /usr/local/lib/python3.8/dist-packages (from requests->folium>=0.9.1->datascience) (4.0.0)\n"
          ]
        }
      ],
      "source": [
        "!pip install datascience"
      ]
    },
    {
      "cell_type": "code",
      "source": [
        "from google.colab import drive\n",
        "drive.mount('/content/drive')"
      ],
      "metadata": {
        "colab": {
          "base_uri": "https://localhost:8080/"
        },
        "id": "6qlOekzjqBU8",
        "outputId": "8c72c9fa-1679-4ceb-fca1-b0198cc10224"
      },
      "execution_count": null,
      "outputs": [
        {
          "output_type": "stream",
          "name": "stdout",
          "text": [
            "Drive already mounted at /content/drive; to attempt to forcibly remount, call drive.mount(\"/content/drive\", force_remount=True).\n"
          ]
        }
      ]
    },
    {
      "cell_type": "code",
      "source": [
        "# Run this cell, but please don't change it.\n",
        "\n",
        "# These lines import the Numpy and Datascience modules.\n",
        "import numpy as np\n",
        "from datascience import *\n",
        "import pandas as pd\n",
        "from datascience import *\n",
        "\n",
        "\n",
        "# These lines do some fancy plotting magic.\n",
        "import matplotlib\n",
        "%matplotlib inline\n",
        "import matplotlib.pyplot as plots\n",
        "plots.style.use('fivethirtyeight')\n",
        "import warnings\n",
        "warnings.simplefilter('ignore', FutureWarning)\n"
      ],
      "metadata": {
        "id": "qCONnJiSpq2o"
      },
      "execution_count": null,
      "outputs": []
    },
    {
      "cell_type": "code",
      "source": [
        "!ls /content/drive/My\\ Drive/DS200Labs"
      ],
      "metadata": {
        "colab": {
          "base_uri": "https://localhost:8080/"
        },
        "id": "xFLu3rccqHtB",
        "outputId": "5e6236b4-00d2-4db2-9a75-03304a38c43f"
      },
      "execution_count": null,
      "outputs": [
        {
          "output_type": "stream",
          "name": "stdout",
          "text": [
            " 2019.csv\n",
            " 2020.csv\n",
            " 2021.csv\n",
            " 2022.csv\n",
            " AVG_4Years.xlsx\n",
            " AVG_Ranking.csv\n",
            " baby.csv\n",
            " Ben-NE-9-10-2015-pass.csv\n",
            " breast-cancer-wisconsin-data-wind.csv\n",
            " BreatCancerFinal.csv\n",
            " CancerDiagnosis\n",
            " CancerDiagnosis.pdf\n",
            " Convert_Jupyter_Notebook_To_HTML.ipynb\n",
            " cwur2022.csv\n",
            " cwurData.csv\n",
            " Data_Cleaning.html\n",
            " Data_Cleaning.ipynb\n",
            " Data_Collection.html\n",
            " Data_Collection.ipynb\n",
            " DS200_GuestLecture_Dec1-20_SharonHuang.pdf\n",
            " faithful.csv\n",
            "'First_Draft(1).ipynb'\n",
            " First_Draft.ipynb\n",
            " IMDB5000movies.csv\n",
            " IMDBReviewsSentiment.csv\n",
            " IRAhandle_tweets_1.csv\n",
            " IRIS.csv\n",
            " Lab10KakadeGaurang.html\n",
            " Lab10KakadeGaurang.ipynb\n",
            " Lab11KakadeGaurang.html\n",
            " Lab11KakadeGaurang.ipynb\n",
            " Lab12KakadeGaurang.html\n",
            " Lab12KakadeGaurang.ipynb\n",
            " Lab13KakadeGaurang.html\n",
            " Lab13KakadeGaurang.ipynb\n",
            "' Lab1KakadeGaurang.html'\n",
            "' Lab1KakadeGaurang.ipynb'\n",
            " Lab2KakadeGaurang.html\n",
            " Lab2KakadeGaurang.ipynb\n",
            " Lab3KakadeGaurang.html\n",
            " Lab3KakadeGaurang.ipynb\n",
            " Lab4KakadeGaurang.html\n",
            " Lab4KakadeGaurang.ipynb\n",
            " Lab5KakadeGaurang.html\n",
            " Lab5KakadeGaurang.ipynb\n",
            " Lab6KakadeGaurang.html\n",
            " Lab6KakadeGaurang.ipynb\n",
            " Lab7KakadeGaurang.html\n",
            " Lab7KakadeGaurang.ipynb\n",
            " Lab9KakadeGaurang.html\n",
            " Lab9KakadeGaurang.ipynb\n",
            "'Lesson 10 Application Focus of DS.pdf'\n",
            "'Lesson 11 Hypothesis Testing.pdf'\n",
            "'Lesson 12 clustering.pdf'\n",
            "'Lesson 15 Data Analtyics Pipeline.pdf'\n",
            " Lesson1_Lab1_ColabNotebookTable_Slides.pdf\n",
            " Lesson1_Lab_1_Intro_to_Jupyter_Table.ipynb\n",
            "'Lesson 2 Structured Data Representation and Queries.pdf'\n",
            "'Lesson 3 PopulationAndSampling.pdf'\n",
            "'Lesson 4 Correlation Analysis.pdf'\n",
            " Lesson5_Lab5Instructions4GatherTweets.pdf\n",
            "'Lesson 5 Social Media and Text Representation.pdf'\n",
            "'Lesson 6 Googles Teachable Machine.pdf'\n",
            "'Lesson 6 Train and Interpret DT-based Predictive Models.pdf'\n",
            "'Lesson 9 Model Complexity, Overfitting, Cross Validation.pdf'\n",
            " Model_Refinement.html\n",
            " Model_Refinement.ipynb\n",
            " NFL-Prediction\n",
            " NFL-Prediction.pdf\n",
            " player_data.csv\n",
            " Revised2019Data.csv\n",
            " Revised2019Data.xlsx\n",
            " Revised2020Data.csv\n",
            " Revised2020Data.xlsx\n",
            " Revised2021Data.csv\n",
            " Revised2021Data.xlsx\n",
            " Revised2022Data.csv\n",
            " Revised2022Data.xlsx\n",
            " Revised2023Data.csv\n",
            " Revised2023Data.xlsx\n",
            " salary_data.csv\n",
            "'Second_Draft(1).ipynb'\n",
            " SFSalaries2011_2014.csv\n",
            " station.csv\n",
            "'Topic 1 DS and Its Impacts.pdf'\n",
            "'Topic 7 Model Parameter Tuning, Evaluation, and Overfitting - v2.pptx.pdf'\n",
            " trip.csv\n",
            " university_scores.csv\n",
            " UnivRankData_final.xlsx\n"
          ]
        }
      ]
    },
    {
      "cell_type": "markdown",
      "source": [
        "## Analyzing World ranking of colleges in the World."
      ],
      "metadata": {
        "id": "PocIezlvMKFM"
      }
    },
    {
      "cell_type": "markdown",
      "source": [
        "# The Relationship between Rank and Teaching score"
      ],
      "metadata": {
        "id": "B12u3eUYyj-D"
      }
    },
    {
      "cell_type": "markdown",
      "source": [
        "Table of consists of rankings of top 91 colleges around the world in the year 2019."
      ],
      "metadata": {
        "id": "2OSWKzDuy-KP"
      }
    },
    {
      "cell_type": "code",
      "source": [
        "path1= \"/content/drive/My Drive/DS200Labs/2019.csv\"\n",
        "Univrank_2019 = Table.read_table(path1)\n",
        "Univrank_2019.show(25)"
      ],
      "metadata": {
        "colab": {
          "base_uri": "https://localhost:8080/",
          "height": 863
        },
        "id": "ez35PM8FqKA4",
        "outputId": "29716b38-8a79-4d09-bae0-ddc4703bcce1"
      },
      "execution_count": null,
      "outputs": [
        {
          "output_type": "display_data",
          "data": {
            "text/plain": [
              "<IPython.core.display.HTML object>"
            ],
            "text/html": [
              "<table border=\"1\" class=\"dataframe\">\n",
              "    <thead>\n",
              "        <tr>\n",
              "            <th>YEAR</th> <th>Ranking</th> <th>University </th> <th>Country</th> <th>Overall Score</th> <th>Teaching Score</th> <th>Research Score</th> <th>Citation Score</th> <th>Industry Income Score</th> <th>International Outlook Score</th>\n",
              "        </tr>\n",
              "    </thead>\n",
              "    <tbody>\n",
              "        <tr>\n",
              "            <td>2019</td> <td>1      </td> <td>University of Oxford                 </td> <td>United Kingdom</td> <td>96           </td> <td>91.8          </td> <td>99.5          </td> <td>99.1          </td> <td>67                   </td> <td>96.3                       </td>\n",
              "        </tr>\n",
              "        <tr>\n",
              "            <td>2019</td> <td>2      </td> <td>University of Cambridge              </td> <td>United Kingdom</td> <td>94.8         </td> <td>92.1          </td> <td>98.8          </td> <td>97.1          </td> <td>52.9                 </td> <td>94.3                       </td>\n",
              "        </tr>\n",
              "        <tr>\n",
              "            <td>2019</td> <td>3      </td> <td>Stanford University                  </td> <td>United States </td> <td>94.7         </td> <td>93.6          </td> <td>96.8          </td> <td>99.9          </td> <td>64.6                 </td> <td>79.3                       </td>\n",
              "        </tr>\n",
              "        <tr>\n",
              "            <td>2019</td> <td>4      </td> <td>Massachusetts Institute of Technology</td> <td>United States </td> <td>94.2         </td> <td>91.9          </td> <td>92.7          </td> <td>99.9          </td> <td>87.6                 </td> <td>89                         </td>\n",
              "        </tr>\n",
              "        <tr>\n",
              "            <td>2019</td> <td>5      </td> <td>California Institute of Technology   </td> <td>United States </td> <td>94.1         </td> <td>94.5          </td> <td>97.2          </td> <td>99.2          </td> <td>88.2                 </td> <td>62.3                       </td>\n",
              "        </tr>\n",
              "        <tr>\n",
              "            <td>2019</td> <td>6      </td> <td>Harvard University                   </td> <td>United States </td> <td>93.6         </td> <td>90.1          </td> <td>98.4          </td> <td>99.6          </td> <td>48.7                 </td> <td>79.7                       </td>\n",
              "        </tr>\n",
              "        <tr>\n",
              "            <td>2019</td> <td>7      </td> <td>Princeton University                 </td> <td>United States </td> <td>92.3         </td> <td>89.9          </td> <td>93.6          </td> <td>99.4          </td> <td>57.3                 </td> <td>80.1                       </td>\n",
              "        </tr>\n",
              "        <tr>\n",
              "            <td>2019</td> <td>8      </td> <td>Yale University                      </td> <td>United States </td> <td>91.3         </td> <td>91.6          </td> <td>93.5          </td> <td>97.8          </td> <td>51.5                 </td> <td>68.3                       </td>\n",
              "        </tr>\n",
              "        <tr>\n",
              "            <td>2019</td> <td>9      </td> <td>Imperial College London              </td> <td>United Kingdom</td> <td>90.3         </td> <td>85.8          </td> <td>87.7          </td> <td>97.8          </td> <td>67.3                 </td> <td>97.1                       </td>\n",
              "        </tr>\n",
              "        <tr>\n",
              "            <td>2019</td> <td>10     </td> <td>The University of Chicago            </td> <td>United States </td> <td>90.2         </td> <td>90.2          </td> <td>90.1          </td> <td>99            </td> <td>41.4                 </td> <td>70.9                       </td>\n",
              "        </tr>\n",
              "        <tr>\n",
              "            <td>2019</td> <td>11     </td> <td>ETH Zurich                           </td> <td>Switzerland   </td> <td>89.3         </td> <td>83.3          </td> <td>91.4          </td> <td>93.8          </td> <td>56.1                 </td> <td>98.2                       </td>\n",
              "        </tr>\n",
              "        <tr>\n",
              "            <td>2019</td> <td>12     </td> <td>Johns Hopkins University             </td> <td>United States </td> <td>89           </td> <td>81.9          </td> <td>90.5          </td> <td>98.5          </td> <td>95.5                 </td> <td>71.9                       </td>\n",
              "        </tr>\n",
              "        <tr>\n",
              "            <td>2019</td> <td>12     </td> <td>University of Pennsylvania           </td> <td>United States </td> <td>89           </td> <td>87.4          </td> <td>89.2          </td> <td>98.4          </td> <td>70.3                 </td> <td>63.6                       </td>\n",
              "        </tr>\n",
              "        <tr>\n",
              "            <td>2019</td> <td>14     </td> <td>UCL                                  </td> <td>United Kingdom</td> <td>87.8         </td> <td>79.1          </td> <td>90.1          </td> <td>95.9          </td> <td>42.4                 </td> <td>95.8                       </td>\n",
              "        </tr>\n",
              "        <tr>\n",
              "            <td>2019</td> <td>15     </td> <td>University of California, Berkeley   </td> <td>United States </td> <td>87.7         </td> <td>78.7          </td> <td>92.3          </td> <td>99.7          </td> <td>49.3                 </td> <td>69.8                       </td>\n",
              "        </tr>\n",
              "        <tr>\n",
              "            <td>2019</td> <td>16     </td> <td>Columbia University                  </td> <td>United States </td> <td>87.2         </td> <td>85.4          </td> <td>83.1          </td> <td>98.8          </td> <td>44.8                 </td> <td>79                         </td>\n",
              "        </tr>\n",
              "        <tr>\n",
              "            <td>2019</td> <td>17     </td> <td>University of California, Los Angeles</td> <td>United States </td> <td>86.4         </td> <td>82.6          </td> <td>87.9          </td> <td>97.8          </td> <td>49.4                 </td> <td>62.1                       </td>\n",
              "        </tr>\n",
              "        <tr>\n",
              "            <td>2019</td> <td>18     </td> <td>Duke University                      </td> <td>United States </td> <td>85.4         </td> <td>84.1          </td> <td>78.8          </td> <td>98.2          </td> <td>100                  </td> <td>61                         </td>\n",
              "        </tr>\n",
              "        <tr>\n",
              "            <td>2019</td> <td>19     </td> <td>Cornell University                   </td> <td>United States </td> <td>85.1         </td> <td>79.7          </td> <td>85.4          </td> <td>97.4          </td> <td>36.9                 </td> <td>71.8                       </td>\n",
              "        </tr>\n",
              "        <tr>\n",
              "            <td>2019</td> <td>20     </td> <td>University of Michigan-Ann Arbor     </td> <td>United States </td> <td>84.1         </td> <td>80            </td> <td>85.9          </td> <td>96            </td> <td>45.9                 </td> <td>58                         </td>\n",
              "        </tr>\n",
              "        <tr>\n",
              "            <td>2019</td> <td>21     </td> <td>University of Toronto                </td> <td>Canada        </td> <td>84           </td> <td>75.8          </td> <td>86.3          </td> <td>92.8          </td> <td>50.3                 </td> <td>82.8                       </td>\n",
              "        </tr>\n",
              "        <tr>\n",
              "            <td>2019</td> <td>22     </td> <td>Tsinghua University                  </td> <td>China         </td> <td>82.9         </td> <td>87.7          </td> <td>94.1          </td> <td>74.8          </td> <td>99.8                 </td> <td>45.8                       </td>\n",
              "        </tr>\n",
              "        <tr>\n",
              "            <td>2019</td> <td>23     </td> <td>National University of Singapore     </td> <td>Singapore     </td> <td>82.4         </td> <td>77.3          </td> <td>88.8          </td> <td>78.9          </td> <td>67.6                 </td> <td>95.5                       </td>\n",
              "        </tr>\n",
              "        <tr>\n",
              "            <td>2019</td> <td>24     </td> <td>Carnegie Mellon University           </td> <td>United States </td> <td>82           </td> <td>69            </td> <td>81.2          </td> <td>99.3          </td> <td>48.1                 </td> <td>79.4                       </td>\n",
              "        </tr>\n",
              "        <tr>\n",
              "            <td>2019</td> <td>25     </td> <td>Northwestern University              </td> <td>United States </td> <td>81.7         </td> <td>69            </td> <td>83.6          </td> <td>97.8          </td> <td>75.8                 </td> <td>63                         </td>\n",
              "        </tr>\n",
              "    </tbody>\n",
              "</table>\n",
              "<p>... (66 rows omitted)</p>"
            ]
          },
          "metadata": {}
        }
      ]
    },
    {
      "cell_type": "markdown",
      "source": [
        "Source: Times Higher Education Rankings 2019\"\n",
        "\n",
        "https://www.timeshighereducation.com/world-university-rankings/2019/world-ranking\n",
        "\n",
        "\n"
      ],
      "metadata": {
        "id": "RDN7O4qjLbyB"
      }
    },
    {
      "cell_type": "markdown",
      "source": [
        "#### General Statistics:"
      ],
      "metadata": {
        "id": "VbKBPFN-zOas"
      }
    },
    {
      "cell_type": "code",
      "source": [
        "Univrank_2019.stats()"
      ],
      "metadata": {
        "colab": {
          "base_uri": "https://localhost:8080/",
          "height": 175
        },
        "id": "JNJr1jzz1iNu",
        "outputId": "8c2a3760-7bf5-4b15-8c23-8640977bb7eb"
      },
      "execution_count": null,
      "outputs": [
        {
          "output_type": "execute_result",
          "data": {
            "text/plain": [
              "statistic | YEAR   | Ranking | University                               | Country       | Overall Score | Teaching Score | Research Score | Citation Score | Industry Income Score | International Outlook Score\n",
              "min       | 2019   | 1       | Australian National University           | Australia     | 62.4          | 40.6           | 39.7           | 55             | 34.8                  | 31.1\n",
              "max       | 2019   | 99      | École Polytechnique Fédérale de Lausanne | United States | 96            | 94.5           | 99.5           | 99.9           | 100                   | 99.7\n",
              "median    | 2019   | 44      |                                          |               | 73.7          | 63.2           | 70.4           | 93.2           | 54.1                  | 71.8\n",
              "sum       | 183729 | 4285    |                                          |               | 6821.3        | 5966.8         | 6433.7         | 8212.4         | 5595.2                | 6628"
            ],
            "text/html": [
              "<table border=\"1\" class=\"dataframe\">\n",
              "    <thead>\n",
              "        <tr>\n",
              "            <th>statistic</th> <th>YEAR</th> <th>Ranking</th> <th>University </th> <th>Country</th> <th>Overall Score</th> <th>Teaching Score</th> <th>Research Score</th> <th>Citation Score</th> <th>Industry Income Score</th> <th>International Outlook Score</th>\n",
              "        </tr>\n",
              "    </thead>\n",
              "    <tbody>\n",
              "        <tr>\n",
              "            <td>min      </td> <td>2019  </td> <td>1      </td> <td>Australian National University          </td> <td>Australia    </td> <td>62.4         </td> <td>40.6          </td> <td>39.7          </td> <td>55            </td> <td>34.8                 </td> <td>31.1                       </td>\n",
              "        </tr>\n",
              "        <tr>\n",
              "            <td>max      </td> <td>2019  </td> <td>99     </td> <td>École Polytechnique Fédérale de Lausanne</td> <td>United States</td> <td>96           </td> <td>94.5          </td> <td>99.5          </td> <td>99.9          </td> <td>100                  </td> <td>99.7                       </td>\n",
              "        </tr>\n",
              "        <tr>\n",
              "            <td>median   </td> <td>2019  </td> <td>44     </td> <td>                                        </td> <td>             </td> <td>73.7         </td> <td>63.2          </td> <td>70.4          </td> <td>93.2          </td> <td>54.1                 </td> <td>71.8                       </td>\n",
              "        </tr>\n",
              "        <tr>\n",
              "            <td>sum      </td> <td>183729</td> <td>4285   </td> <td>                                        </td> <td>             </td> <td>6821.3       </td> <td>5966.8        </td> <td>6433.7        </td> <td>8212.4        </td> <td>5595.2               </td> <td>6628                       </td>\n",
              "        </tr>\n",
              "    </tbody>\n",
              "</table>"
            ]
          },
          "metadata": {},
          "execution_count": 172
        }
      ]
    },
    {
      "cell_type": "markdown",
      "source": [
        "## Number of universities from each country in the Year 2019"
      ],
      "metadata": {
        "id": "__NlWvvxC1R9"
      }
    },
    {
      "cell_type": "code",
      "source": [
        "Univ_totals = Univrank_2019.group('Country')\n",
        "Univ_totals.sort('count', descending = True).show()"
      ],
      "metadata": {
        "colab": {
          "base_uri": "https://localhost:8080/",
          "height": 551
        },
        "id": "hffzcxhDDfSj",
        "outputId": "66db318e-c571-46e1-de86-edf8005bf38c"
      },
      "execution_count": null,
      "outputs": [
        {
          "output_type": "display_data",
          "data": {
            "text/plain": [
              "<IPython.core.display.HTML object>"
            ],
            "text/html": [
              "<table border=\"1\" class=\"dataframe\">\n",
              "    <thead>\n",
              "        <tr>\n",
              "            <th>Country</th> <th>count</th>\n",
              "        </tr>\n",
              "    </thead>\n",
              "    <tbody>\n",
              "        <tr>\n",
              "            <td>United States </td> <td>38   </td>\n",
              "        </tr>\n",
              "        <tr>\n",
              "            <td>United Kingdom</td> <td>11   </td>\n",
              "        </tr>\n",
              "        <tr>\n",
              "            <td>Netherlands   </td> <td>7    </td>\n",
              "        </tr>\n",
              "        <tr>\n",
              "            <td>Germany       </td> <td>6    </td>\n",
              "        </tr>\n",
              "        <tr>\n",
              "            <td>Australia     </td> <td>5    </td>\n",
              "        </tr>\n",
              "        <tr>\n",
              "            <td>Canada        </td> <td>5    </td>\n",
              "        </tr>\n",
              "        <tr>\n",
              "            <td>China         </td> <td>3    </td>\n",
              "        </tr>\n",
              "        <tr>\n",
              "            <td>Hong Kong     </td> <td>3    </td>\n",
              "        </tr>\n",
              "        <tr>\n",
              "            <td>Switzerland   </td> <td>3    </td>\n",
              "        </tr>\n",
              "        <tr>\n",
              "            <td>France        </td> <td>2    </td>\n",
              "        </tr>\n",
              "        <tr>\n",
              "            <td>Japan         </td> <td>2    </td>\n",
              "        </tr>\n",
              "        <tr>\n",
              "            <td>Singapore     </td> <td>2    </td>\n",
              "        </tr>\n",
              "        <tr>\n",
              "            <td>Belgium       </td> <td>1    </td>\n",
              "        </tr>\n",
              "        <tr>\n",
              "            <td>Finland       </td> <td>1    </td>\n",
              "        </tr>\n",
              "        <tr>\n",
              "            <td>South Korea   </td> <td>1    </td>\n",
              "        </tr>\n",
              "        <tr>\n",
              "            <td>Sweden        </td> <td>1    </td>\n",
              "        </tr>\n",
              "    </tbody>\n",
              "</table>"
            ]
          },
          "metadata": {}
        }
      ]
    },
    {
      "cell_type": "markdown",
      "source": [
        "## Isolating the columns of Interest\n",
        "\n",
        "## Ranking and Teaching score"
      ],
      "metadata": {
        "id": "5Wc3h-_4V78j"
      }
    },
    {
      "cell_type": "code",
      "source": [
        "RankByTS = Univrank_2019.select('Ranking','University ', 'Teaching Score')\n",
        "RankByTS.show(15)\n"
      ],
      "metadata": {
        "colab": {
          "base_uri": "https://localhost:8080/",
          "height": 549
        },
        "id": "jwaCKIGjWB_i",
        "outputId": "f4d43e09-5a2b-48d8-cd79-905312d3eaa8"
      },
      "execution_count": null,
      "outputs": [
        {
          "output_type": "display_data",
          "data": {
            "text/plain": [
              "<IPython.core.display.HTML object>"
            ],
            "text/html": [
              "<table border=\"1\" class=\"dataframe\">\n",
              "    <thead>\n",
              "        <tr>\n",
              "            <th>Ranking</th> <th>University </th> <th>Teaching Score</th>\n",
              "        </tr>\n",
              "    </thead>\n",
              "    <tbody>\n",
              "        <tr>\n",
              "            <td>1      </td> <td>University of Oxford                 </td> <td>91.8          </td>\n",
              "        </tr>\n",
              "        <tr>\n",
              "            <td>2      </td> <td>University of Cambridge              </td> <td>92.1          </td>\n",
              "        </tr>\n",
              "        <tr>\n",
              "            <td>3      </td> <td>Stanford University                  </td> <td>93.6          </td>\n",
              "        </tr>\n",
              "        <tr>\n",
              "            <td>4      </td> <td>Massachusetts Institute of Technology</td> <td>91.9          </td>\n",
              "        </tr>\n",
              "        <tr>\n",
              "            <td>5      </td> <td>California Institute of Technology   </td> <td>94.5          </td>\n",
              "        </tr>\n",
              "        <tr>\n",
              "            <td>6      </td> <td>Harvard University                   </td> <td>90.1          </td>\n",
              "        </tr>\n",
              "        <tr>\n",
              "            <td>7      </td> <td>Princeton University                 </td> <td>89.9          </td>\n",
              "        </tr>\n",
              "        <tr>\n",
              "            <td>8      </td> <td>Yale University                      </td> <td>91.6          </td>\n",
              "        </tr>\n",
              "        <tr>\n",
              "            <td>9      </td> <td>Imperial College London              </td> <td>85.8          </td>\n",
              "        </tr>\n",
              "        <tr>\n",
              "            <td>10     </td> <td>The University of Chicago            </td> <td>90.2          </td>\n",
              "        </tr>\n",
              "        <tr>\n",
              "            <td>11     </td> <td>ETH Zurich                           </td> <td>83.3          </td>\n",
              "        </tr>\n",
              "        <tr>\n",
              "            <td>12     </td> <td>Johns Hopkins University             </td> <td>81.9          </td>\n",
              "        </tr>\n",
              "        <tr>\n",
              "            <td>12     </td> <td>University of Pennsylvania           </td> <td>87.4          </td>\n",
              "        </tr>\n",
              "        <tr>\n",
              "            <td>14     </td> <td>UCL                                  </td> <td>79.1          </td>\n",
              "        </tr>\n",
              "        <tr>\n",
              "            <td>15     </td> <td>University of California, Berkeley   </td> <td>78.7          </td>\n",
              "        </tr>\n",
              "    </tbody>\n",
              "</table>\n",
              "<p>... (76 rows omitted)</p>"
            ]
          },
          "metadata": {}
        }
      ]
    },
    {
      "cell_type": "markdown",
      "source": [
        "## Teaching Score Bar Chart"
      ],
      "metadata": {
        "id": "VCpfCoLti7Fd"
      }
    },
    {
      "cell_type": "code",
      "source": [
        "RankByTS_BarChart = RankByTS.barh(\"Ranking\", \"Teaching Score\")"
      ],
      "metadata": {
        "colab": {
          "base_uri": "https://localhost:8080/",
          "height": 1000
        },
        "id": "FuLnHUmgjJuU",
        "outputId": "0e8233eb-ee93-4ebe-902b-a117e94f8297"
      },
      "execution_count": null,
      "outputs": [
        {
          "output_type": "display_data",
          "data": {
            "text/plain": [
              "<Figure size 432x3276 with 1 Axes>"
            ],
            "image/png": "[encoded data removed]"
          },
          "metadata": {}
        }
      ]
    },
    {
      "cell_type": "markdown",
      "source": [
        "## Scatter Plot for Ranking Vs Teaching score"
      ],
      "metadata": {
        "id": "uAyrxYs8mEnh"
      }
    },
    {
      "cell_type": "code",
      "source": [
        "RankByTS.scatter('Teaching Score', 'Ranking', fit_line = True)"
      ],
      "metadata": {
        "colab": {
          "base_uri": "https://localhost:8080/",
          "height": 359
        },
        "id": "4_6oVZ-jmSXr",
        "outputId": "80599fd1-6b3d-4c70-84e9-59c5149122b7"
      },
      "execution_count": null,
      "outputs": [
        {
          "output_type": "display_data",
          "data": {
            "text/plain": [
              "<Figure size 360x360 with 1 Axes>"
            ],
            "image/png": "[encoded data removed]"
          },
          "metadata": {}
        }
      ]
    },
    {
      "cell_type": "markdown",
      "source": [
        "## Ranking and Research score"
      ],
      "metadata": {
        "id": "4dq7buECcKSJ"
      }
    },
    {
      "cell_type": "code",
      "source": [
        "RankByRS = Univrank_2019.select('Ranking', 'University ', 'Research Score')\n",
        "RankByRS.sort('Research Score', descending = True).show(15)"
      ],
      "metadata": {
        "colab": {
          "base_uri": "https://localhost:8080/",
          "height": 549
        },
        "id": "0wYI7ygVcrL8",
        "outputId": "a45a5285-29dd-4e43-c890-9fb5128438c9"
      },
      "execution_count": null,
      "outputs": [
        {
          "output_type": "display_data",
          "data": {
            "text/plain": [
              "<IPython.core.display.HTML object>"
            ],
            "text/html": [
              "<table border=\"1\" class=\"dataframe\">\n",
              "    <thead>\n",
              "        <tr>\n",
              "            <th>Ranking</th> <th>University </th> <th>Research Score</th>\n",
              "        </tr>\n",
              "    </thead>\n",
              "    <tbody>\n",
              "        <tr>\n",
              "            <td>1      </td> <td>University of Oxford                 </td> <td>99.5          </td>\n",
              "        </tr>\n",
              "        <tr>\n",
              "            <td>2      </td> <td>University of Cambridge              </td> <td>98.8          </td>\n",
              "        </tr>\n",
              "        <tr>\n",
              "            <td>6      </td> <td>Harvard University                   </td> <td>98.4          </td>\n",
              "        </tr>\n",
              "        <tr>\n",
              "            <td>5      </td> <td>California Institute of Technology   </td> <td>97.2          </td>\n",
              "        </tr>\n",
              "        <tr>\n",
              "            <td>3      </td> <td>Stanford University                  </td> <td>96.8          </td>\n",
              "        </tr>\n",
              "        <tr>\n",
              "            <td>22     </td> <td>Tsinghua University                  </td> <td>94.1          </td>\n",
              "        </tr>\n",
              "        <tr>\n",
              "            <td>7      </td> <td>Princeton University                 </td> <td>93.6          </td>\n",
              "        </tr>\n",
              "        <tr>\n",
              "            <td>8      </td> <td>Yale University                      </td> <td>93.5          </td>\n",
              "        </tr>\n",
              "        <tr>\n",
              "            <td>4      </td> <td>Massachusetts Institute of Technology</td> <td>92.7          </td>\n",
              "        </tr>\n",
              "        <tr>\n",
              "            <td>15     </td> <td>University of California, Berkeley   </td> <td>92.3          </td>\n",
              "        </tr>\n",
              "        <tr>\n",
              "            <td>11     </td> <td>ETH Zurich                           </td> <td>91.4          </td>\n",
              "        </tr>\n",
              "        <tr>\n",
              "            <td>12     </td> <td>Johns Hopkins University             </td> <td>90.5          </td>\n",
              "        </tr>\n",
              "        <tr>\n",
              "            <td>10     </td> <td>The University of Chicago            </td> <td>90.1          </td>\n",
              "        </tr>\n",
              "        <tr>\n",
              "            <td>14     </td> <td>UCL                                  </td> <td>90.1          </td>\n",
              "        </tr>\n",
              "        <tr>\n",
              "            <td>12     </td> <td>University of Pennsylvania           </td> <td>89.2          </td>\n",
              "        </tr>\n",
              "    </tbody>\n",
              "</table>\n",
              "<p>... (76 rows omitted)</p>"
            ]
          },
          "metadata": {}
        }
      ]
    },
    {
      "cell_type": "markdown",
      "source": [
        "## Research Score Bar Chart"
      ],
      "metadata": {
        "id": "XxZYrlGNdaSN"
      }
    },
    {
      "cell_type": "code",
      "source": [
        "RankByRS_BarChart = RankByRS.barh(\"Ranking\", \"Research Score\")"
      ],
      "metadata": {
        "colab": {
          "base_uri": "https://localhost:8080/",
          "height": 1000
        },
        "id": "pRdmY2ZSdea8",
        "outputId": "4bdc0008-8627-4127-b8b7-1e1e4d7ed5f8"
      },
      "execution_count": null,
      "outputs": [
        {
          "output_type": "display_data",
          "data": {
            "text/plain": [
              "<Figure size 432x3276 with 1 Axes>"
            ],
            "image/png": "[encoded data removed]"
          },
          "metadata": {}
        }
      ]
    },
    {
      "cell_type": "markdown",
      "source": [
        "## Scatter Plot for Ranking Vs Research Score"
      ],
      "metadata": {
        "id": "X49iFVIxeRl3"
      }
    },
    {
      "cell_type": "code",
      "source": [
        "RankByRS.scatter('Research Score', 'Ranking', fit_line = True)"
      ],
      "metadata": {
        "colab": {
          "base_uri": "https://localhost:8080/",
          "height": 359
        },
        "id": "iGmTKMjveTS2",
        "outputId": "22bcc40b-0161-4d0d-e835-0284bc2f5b10"
      },
      "execution_count": null,
      "outputs": [
        {
          "output_type": "display_data",
          "data": {
            "text/plain": [
              "<Figure size 360x360 with 1 Axes>"
            ],
            "image/png": "[encoded data removed]"
          },
          "metadata": {}
        }
      ]
    },
    {
      "cell_type": "markdown",
      "source": [
        "## Ranking and Industry Income Score"
      ],
      "metadata": {
        "id": "1v71IrrlesYJ"
      }
    },
    {
      "cell_type": "code",
      "source": [
        "RankByIIS = Univrank_2019.select('Ranking', 'University ', 'Industry Income Score')\n",
        "RankByIIS.sort('Industry Income Score', descending = True).show(15)"
      ],
      "metadata": {
        "colab": {
          "base_uri": "https://localhost:8080/",
          "height": 549
        },
        "id": "GsCzScIje52B",
        "outputId": "cb20149a-0624-49e7-f8d6-1b62243a004c"
      },
      "execution_count": null,
      "outputs": [
        {
          "output_type": "display_data",
          "data": {
            "text/plain": [
              "<IPython.core.display.HTML object>"
            ],
            "text/html": [
              "<table border=\"1\" class=\"dataframe\">\n",
              "    <thead>\n",
              "        <tr>\n",
              "            <th>Ranking</th> <th>University </th> <th>Industry Income Score</th>\n",
              "        </tr>\n",
              "    </thead>\n",
              "    <tbody>\n",
              "        <tr>\n",
              "            <td>18     </td> <td>Duke University                              </td> <td>100                  </td>\n",
              "        </tr>\n",
              "        <tr>\n",
              "            <td>32     </td> <td>LMU Munich                                   </td> <td>100                  </td>\n",
              "        </tr>\n",
              "        <tr>\n",
              "            <td>44     </td> <td>Technical University of Munich               </td> <td>100                  </td>\n",
              "        </tr>\n",
              "        <tr>\n",
              "            <td>59     </td> <td>Wageningen University & Research             </td> <td>100                  </td>\n",
              "        </tr>\n",
              "        <tr>\n",
              "            <td>76     </td> <td>University of Freiburg                       </td> <td>100                  </td>\n",
              "        </tr>\n",
              "        <tr>\n",
              "            <td>48     </td> <td>KU Leuven                                    </td> <td>99.9                 </td>\n",
              "        </tr>\n",
              "        <tr>\n",
              "            <td>22     </td> <td>Tsinghua University                          </td> <td>99.8                 </td>\n",
              "        </tr>\n",
              "        <tr>\n",
              "            <td>58     </td> <td>Delft University of Technology               </td> <td>99.6                 </td>\n",
              "        </tr>\n",
              "        <tr>\n",
              "            <td>30     </td> <td>University of California, San Diego          </td> <td>96                   </td>\n",
              "        </tr>\n",
              "        <tr>\n",
              "            <td>65     </td> <td>Kyoto University                             </td> <td>95.6                 </td>\n",
              "        </tr>\n",
              "        <tr>\n",
              "            <td>12     </td> <td>Johns Hopkins University                     </td> <td>95.5                 </td>\n",
              "        </tr>\n",
              "        <tr>\n",
              "            <td>77     </td> <td>McMaster University                          </td> <td>93.5                 </td>\n",
              "        </tr>\n",
              "        <tr>\n",
              "            <td>93     </td> <td>University of Science and Technology of China</td> <td>89.2                 </td>\n",
              "        </tr>\n",
              "        <tr>\n",
              "            <td>5      </td> <td>California Institute of Technology           </td> <td>88.2                 </td>\n",
              "        </tr>\n",
              "        <tr>\n",
              "            <td>90     </td> <td>Charité - Universitätsmedizin Berlin         </td> <td>87.8                 </td>\n",
              "        </tr>\n",
              "    </tbody>\n",
              "</table>\n",
              "<p>... (76 rows omitted)</p>"
            ]
          },
          "metadata": {}
        }
      ]
    },
    {
      "cell_type": "markdown",
      "source": [
        "## Industry Income Score Bar Chart"
      ],
      "metadata": {
        "id": "0l8_RuZzfUaZ"
      }
    },
    {
      "cell_type": "code",
      "source": [
        "RankByIIS_BarChart = RankByIIS.barh(\"Ranking\", \"Industry Income Score\")"
      ],
      "metadata": {
        "colab": {
          "base_uri": "https://localhost:8080/",
          "height": 1000
        },
        "id": "FRM9Zm_jfXAC",
        "outputId": "0e6273ef-6238-40f0-965f-8d919762261a"
      },
      "execution_count": null,
      "outputs": [
        {
          "output_type": "display_data",
          "data": {
            "text/plain": [
              "<Figure size 432x3276 with 1 Axes>"
            ],
            "image/png": "[encoded data removed]"
          },
          "metadata": {}
        }
      ]
    },
    {
      "cell_type": "markdown",
      "source": [
        "## Scatter Plot for Ranking Vs Industry Income Score"
      ],
      "metadata": {
        "id": "CjrF90FSfuek"
      }
    },
    {
      "cell_type": "code",
      "source": [
        "RankByIIS.scatter('Industry Income Score', 'Ranking', fit_line = True)"
      ],
      "metadata": {
        "colab": {
          "base_uri": "https://localhost:8080/",
          "height": 359
        },
        "id": "vj3XT4_nf141",
        "outputId": "cba2dc94-e99f-47b4-8bc6-110d26a948df"
      },
      "execution_count": null,
      "outputs": [
        {
          "output_type": "display_data",
          "data": {
            "text/plain": [
              "<Figure size 360x360 with 1 Axes>"
            ],
            "image/png": "[encoded data removed]"
          },
          "metadata": {}
        }
      ]
    },
    {
      "cell_type": "markdown",
      "source": [
        "## Reading in 2020 World Ranking Data"
      ],
      "metadata": {
        "id": "q2cbwOjDHjuj"
      }
    },
    {
      "cell_type": "code",
      "source": [
        "path2= \"/content/drive/My Drive/DS200Labs/2020.csv\"\n",
        "Univrank_2020 = Table.read_table(path2)\n",
        "Univrank_2020.show(25)"
      ],
      "metadata": {
        "colab": {
          "base_uri": "https://localhost:8080/",
          "height": 863
        },
        "id": "KMpBSdCfHtqZ",
        "outputId": "3789d6fb-f621-439d-afca-289b30956682"
      },
      "execution_count": null,
      "outputs": [
        {
          "output_type": "display_data",
          "data": {
            "text/plain": [
              "<IPython.core.display.HTML object>"
            ],
            "text/html": [
              "<table border=\"1\" class=\"dataframe\">\n",
              "    <thead>\n",
              "        <tr>\n",
              "            <th>YEAR</th> <th>Ranking</th> <th>University </th> <th>Country</th> <th>Overall Score</th> <th>Teaching Score</th> <th>Research Score</th> <th>Citation Score</th> <th>Industry Income Score</th> <th>International Outlook Score</th>\n",
              "        </tr>\n",
              "    </thead>\n",
              "    <tbody>\n",
              "        <tr>\n",
              "            <td>2020</td> <td>1      </td> <td>University of Oxford                 </td> <td>United Kingdom</td> <td>95.4         </td> <td>90.5          </td> <td>99.6          </td> <td>98.4          </td> <td>65.5                 </td> <td>96.4                       </td>\n",
              "        </tr>\n",
              "        <tr>\n",
              "            <td>2020</td> <td>2      </td> <td>California Institute of Technology   </td> <td>United States </td> <td>94.5         </td> <td>92.1          </td> <td>97.2          </td> <td>97.9          </td> <td>88                   </td> <td>82.5                       </td>\n",
              "        </tr>\n",
              "        <tr>\n",
              "            <td>2020</td> <td>3      </td> <td>University of Cambridge              </td> <td>United Kingdom</td> <td>94.4         </td> <td>91.4          </td> <td>98.7          </td> <td>95.8          </td> <td>59.3                 </td> <td>95                         </td>\n",
              "        </tr>\n",
              "        <tr>\n",
              "            <td>2020</td> <td>4      </td> <td>Stanford University                  </td> <td>United States </td> <td>94.3         </td> <td>92.8          </td> <td>96.4          </td> <td>99.9          </td> <td>66.2                 </td> <td>79.5                       </td>\n",
              "        </tr>\n",
              "        <tr>\n",
              "            <td>2020</td> <td>5      </td> <td>Massachusetts Institute of Technology</td> <td>United States </td> <td>93.6         </td> <td>90.5          </td> <td>92.4          </td> <td>99.5          </td> <td>86.9                 </td> <td>89                         </td>\n",
              "        </tr>\n",
              "        <tr>\n",
              "            <td>2020</td> <td>6      </td> <td>Princeton University                 </td> <td>United States </td> <td>93.2         </td> <td>90.3          </td> <td>96.3          </td> <td>98.8          </td> <td>58.6                 </td> <td>81.1                       </td>\n",
              "        </tr>\n",
              "        <tr>\n",
              "            <td>2020</td> <td>7      </td> <td>Harvard University                   </td> <td>United States </td> <td>93           </td> <td>89.2          </td> <td>98.6          </td> <td>99.1          </td> <td>47.3                 </td> <td>76.3                       </td>\n",
              "        </tr>\n",
              "        <tr>\n",
              "            <td>2020</td> <td>8      </td> <td>Yale University                      </td> <td>United States </td> <td>91.7         </td> <td>92            </td> <td>94.8          </td> <td>97.3          </td> <td>52.4                 </td> <td>68.7                       </td>\n",
              "        </tr>\n",
              "        <tr>\n",
              "            <td>2020</td> <td>9      </td> <td>The University of Chicago            </td> <td>United States </td> <td>90.2         </td> <td>89.1          </td> <td>91.4          </td> <td>96.7          </td> <td>52.7                 </td> <td>76                         </td>\n",
              "        </tr>\n",
              "        <tr>\n",
              "            <td>2020</td> <td>10     </td> <td>Imperial College London              </td> <td>United Kingdom</td> <td>89.8         </td> <td>84.5          </td> <td>87.6          </td> <td>97            </td> <td>69.9                 </td> <td>97.1                       </td>\n",
              "        </tr>\n",
              "        <tr>\n",
              "            <td>2020</td> <td>11     </td> <td>University of Pennsylvania           </td> <td>United States </td> <td>89.6         </td> <td>87.5          </td> <td>90.4          </td> <td>98.2          </td> <td>74                   </td> <td>65                         </td>\n",
              "        </tr>\n",
              "        <tr>\n",
              "            <td>2020</td> <td>12     </td> <td>Johns Hopkins University             </td> <td>United States </td> <td>89.2         </td> <td>81.7          </td> <td>91.4          </td> <td>98.3          </td> <td>91.3                 </td> <td>73.2                       </td>\n",
              "        </tr>\n",
              "        <tr>\n",
              "            <td>2020</td> <td>13     </td> <td>ETH Zurich                           </td> <td>Switzerland   </td> <td>88.3         </td> <td>81.8          </td> <td>92.8          </td> <td>90.3          </td> <td>56.8                 </td> <td>98.2                       </td>\n",
              "        </tr>\n",
              "        <tr>\n",
              "            <td>2020</td> <td>13     </td> <td>University of California, Berkeley   </td> <td>United States </td> <td>88.3         </td> <td>83            </td> <td>90.6          </td> <td>99.2          </td> <td>46.1                 </td> <td>70.4                       </td>\n",
              "        </tr>\n",
              "        <tr>\n",
              "            <td>2020</td> <td>15     </td> <td>UCL                                  </td> <td>United Kingdom</td> <td>87.1         </td> <td>77.8          </td> <td>88.7          </td> <td>96.1          </td> <td>42.7                 </td> <td>96.2                       </td>\n",
              "        </tr>\n",
              "        <tr>\n",
              "            <td>2020</td> <td>16     </td> <td>Columbia University                  </td> <td>United States </td> <td>87           </td> <td>85.6          </td> <td>82.6          </td> <td>98.2          </td> <td>44.8                 </td> <td>79.3                       </td>\n",
              "        </tr>\n",
              "        <tr>\n",
              "            <td>2020</td> <td>17     </td> <td>University of California, Los Angeles</td> <td>United States </td> <td>86.8         </td> <td>83.1          </td> <td>88.6          </td> <td>97.3          </td> <td>51.3                 </td> <td>64.1                       </td>\n",
              "        </tr>\n",
              "        <tr>\n",
              "            <td>2020</td> <td>18     </td> <td>University of Toronto                </td> <td>Canada        </td> <td>85.5         </td> <td>76.6          </td> <td>89.5          </td> <td>93.6          </td> <td>50.5                 </td> <td>84.7                       </td>\n",
              "        </tr>\n",
              "        <tr>\n",
              "            <td>2020</td> <td>19     </td> <td>Cornell University                   </td> <td>United States </td> <td>85.1         </td> <td>79.7          </td> <td>86            </td> <td>96.6          </td> <td>37.1                 </td> <td>73.4                       </td>\n",
              "        </tr>\n",
              "        <tr>\n",
              "            <td>2020</td> <td>20     </td> <td>Duke University                      </td> <td>United States </td> <td>84           </td> <td>82.4          </td> <td>76.8          </td> <td>97            </td> <td>99.9                 </td> <td>61.5                       </td>\n",
              "        </tr>\n",
              "        <tr>\n",
              "            <td>2020</td> <td>21     </td> <td>University of Michigan-Ann Arbor     </td> <td>United States </td> <td>83.8         </td> <td>79.4          </td> <td>86.1          </td> <td>94.9          </td> <td>47.7                 </td> <td>59.2                       </td>\n",
              "        </tr>\n",
              "        <tr>\n",
              "            <td>2020</td> <td>22     </td> <td>Northwestern University              </td> <td>United States </td> <td>83.5         </td> <td>74.2          </td> <td>83.8          </td> <td>97.8          </td> <td>78.4                 </td> <td>64.1                       </td>\n",
              "        </tr>\n",
              "        <tr>\n",
              "            <td>2020</td> <td>23     </td> <td>Tsinghua University                  </td> <td>China         </td> <td>82.6         </td> <td>86.6          </td> <td>94            </td> <td>74.6          </td> <td>100                  </td> <td>47.4                       </td>\n",
              "        </tr>\n",
              "        <tr>\n",
              "            <td>2020</td> <td>24     </td> <td>Peking University                    </td> <td>China         </td> <td>82.3         </td> <td>89.1          </td> <td>90            </td> <td>73.2          </td> <td>86.6                 </td> <td>59.6                       </td>\n",
              "        </tr>\n",
              "        <tr>\n",
              "            <td>2020</td> <td>25     </td> <td>National University of Singapore     </td> <td>Singapore     </td> <td>81.9         </td> <td>76.8          </td> <td>90.4          </td> <td>76.9          </td> <td>58.8                 </td> <td>95.5                       </td>\n",
              "        </tr>\n",
              "    </tbody>\n",
              "</table>\n",
              "<p>... (66 rows omitted)</p>"
            ]
          },
          "metadata": {}
        }
      ]
    },
    {
      "cell_type": "markdown",
      "source": [
        "## Reading in 2021 World Ranking Data"
      ],
      "metadata": {
        "id": "TsuBaCIIH3Kj"
      }
    },
    {
      "cell_type": "code",
      "source": [
        "path3= \"/content/drive/My Drive/DS200Labs/2021.csv\"\n",
        "Univrank_2021 = Table.read_table(path3)\n",
        "Univrank_2021.show(25)"
      ],
      "metadata": {
        "colab": {
          "base_uri": "https://localhost:8080/",
          "height": 863
        },
        "id": "8shhZUbhH6fk",
        "outputId": "9e42f0b1-23ff-4090-b097-9acd8e0f0270"
      },
      "execution_count": null,
      "outputs": [
        {
          "output_type": "display_data",
          "data": {
            "text/plain": [
              "<IPython.core.display.HTML object>"
            ],
            "text/html": [
              "<table border=\"1\" class=\"dataframe\">\n",
              "    <thead>\n",
              "        <tr>\n",
              "            <th>YEAR</th> <th>Ranking</th> <th>University </th> <th>Country</th> <th>Overall Score</th> <th>Teaching Score</th> <th>Reseach Score</th> <th>Citation Score</th> <th>Industry Income Score</th> <th>International Outlook Score</th>\n",
              "        </tr>\n",
              "    </thead>\n",
              "    <tbody>\n",
              "        <tr>\n",
              "            <td>2021</td> <td>1      </td> <td>University of Oxford                 </td> <td>United Kingdom</td> <td>95.6         </td> <td>91.3          </td> <td>99.6         </td> <td>98            </td> <td>68.7                 </td> <td>96.4                       </td>\n",
              "        </tr>\n",
              "        <tr>\n",
              "            <td>2021</td> <td>2      </td> <td>Stanford University                  </td> <td>United States </td> <td>94.9         </td> <td>92.2          </td> <td>96.7         </td> <td>99.9          </td> <td>90.1                 </td> <td>79.5                       </td>\n",
              "        </tr>\n",
              "        <tr>\n",
              "            <td>2021</td> <td>3      </td> <td>Harvard University                   </td> <td>United States </td> <td>94.8         </td> <td>94.4          </td> <td>98.8         </td> <td>99.4          </td> <td>46.8                 </td> <td>77.7                       </td>\n",
              "        </tr>\n",
              "        <tr>\n",
              "            <td>2021</td> <td>4      </td> <td>California Institute of Technology   </td> <td>United States </td> <td>94.5         </td> <td>92.5          </td> <td>96.9         </td> <td>97            </td> <td>92.7                 </td> <td>83.6                       </td>\n",
              "        </tr>\n",
              "        <tr>\n",
              "            <td>2021</td> <td>5      </td> <td>Massachusetts Institute of Technology</td> <td>United States </td> <td>94.4         </td> <td>90.7          </td> <td>94.4         </td> <td>99.7          </td> <td>90.4                 </td> <td>90                         </td>\n",
              "        </tr>\n",
              "        <tr>\n",
              "            <td>2021</td> <td>6      </td> <td>University of Cambridge              </td> <td>United Kingdom</td> <td>94           </td> <td>90.3          </td> <td>99.2         </td> <td>95.6          </td> <td>52.1                 </td> <td>95.7                       </td>\n",
              "        </tr>\n",
              "        <tr>\n",
              "            <td>2021</td> <td>7      </td> <td>University of California, Berkeley   </td> <td>United States </td> <td>92.2         </td> <td>85.8          </td> <td>97.2         </td> <td>99.1          </td> <td>84.3                 </td> <td>72.3                       </td>\n",
              "        </tr>\n",
              "        <tr>\n",
              "            <td>2021</td> <td>8      </td> <td>Yale University                      </td> <td>United States </td> <td>91.6         </td> <td>91.9          </td> <td>93.8         </td> <td>97.9          </td> <td>56.1                 </td> <td>68.4                       </td>\n",
              "        </tr>\n",
              "        <tr>\n",
              "            <td>2021</td> <td>9      </td> <td>Princeton University                 </td> <td>United States </td> <td>91.5         </td> <td>88.8          </td> <td>92.5         </td> <td>98.9          </td> <td>58                   </td> <td>80.2                       </td>\n",
              "        </tr>\n",
              "        <tr>\n",
              "            <td>2021</td> <td>10     </td> <td>The University of Chicago            </td> <td>United States </td> <td>90.3         </td> <td>88.9          </td> <td>90.5         </td> <td>98.6          </td> <td>54.9                 </td> <td>74                         </td>\n",
              "        </tr>\n",
              "        <tr>\n",
              "            <td>2021</td> <td>11     </td> <td>Imperial College London              </td> <td>United Kingdom</td> <td>89.4         </td> <td>82.3          </td> <td>88.2         </td> <td>97.2          </td> <td>69.6                 </td> <td>97.4                       </td>\n",
              "        </tr>\n",
              "        <tr>\n",
              "            <td>2021</td> <td>12     </td> <td>Johns Hopkins University             </td> <td>United States </td> <td>89.2         </td> <td>81.6          </td> <td>91.8         </td> <td>97.7          </td> <td>93.4                 </td> <td>73.9                       </td>\n",
              "        </tr>\n",
              "        <tr>\n",
              "            <td>2021</td> <td>13     </td> <td>University of Pennsylvania           </td> <td>United States </td> <td>88.9         </td> <td>85.4          </td> <td>89.9         </td> <td>98.1          </td> <td>77.9                 </td> <td>66.3                       </td>\n",
              "        </tr>\n",
              "        <tr>\n",
              "            <td>2021</td> <td>14     </td> <td>ETH Zurich                           </td> <td>Switzerland   </td> <td>87.9         </td> <td>80.4          </td> <td>92.3         </td> <td>90.5          </td> <td>62.8                 </td> <td>98                         </td>\n",
              "        </tr>\n",
              "        <tr>\n",
              "            <td>2021</td> <td>15     </td> <td>University of California, Los Angeles</td> <td>United States </td> <td>87.1         </td> <td>82.5          </td> <td>90.2         </td> <td>96.5          </td> <td>57.6                 </td> <td>65.3                       </td>\n",
              "        </tr>\n",
              "        <tr>\n",
              "            <td>2021</td> <td>16     </td> <td>UCL                                  </td> <td>United Kingdom</td> <td>86.9         </td> <td>76.6          </td> <td>89.4         </td> <td>96.2          </td> <td>42.1                 </td> <td>96.5                       </td>\n",
              "        </tr>\n",
              "        <tr>\n",
              "            <td>2021</td> <td>17     </td> <td>Columbia University                  </td> <td>United States </td> <td>86.8         </td> <td>85.1          </td> <td>82.9         </td> <td>97.7          </td> <td>45                   </td> <td>79.8                       </td>\n",
              "        </tr>\n",
              "        <tr>\n",
              "            <td>2021</td> <td>18     </td> <td>University of Toronto                </td> <td>Canada        </td> <td>86           </td> <td>75.4          </td> <td>90.9         </td> <td>94.5          </td> <td>50                   </td> <td>87.2                       </td>\n",
              "        </tr>\n",
              "        <tr>\n",
              "            <td>2021</td> <td>19     </td> <td>Cornell University                   </td> <td>United States </td> <td>85.3         </td> <td>78.8          </td> <td>86.7         </td> <td>97.2          </td> <td>36.3                 </td> <td>73.7                       </td>\n",
              "        </tr>\n",
              "        <tr>\n",
              "            <td>2021</td> <td>20     </td> <td>Duke University                      </td> <td>United States </td> <td>84.8         </td> <td>80.7          </td> <td>80.4         </td> <td>96.9          </td> <td>99.7                 </td> <td>65.5                       </td>\n",
              "        </tr>\n",
              "        <tr>\n",
              "            <td>2021</td> <td>21     </td> <td>Tsinghua University                  </td> <td>China         </td> <td>84.8         </td> <td>87.7          </td> <td>94.9         </td> <td>78.8          </td> <td>100                  </td> <td>51.1                       </td>\n",
              "        </tr>\n",
              "        <tr>\n",
              "            <td>2021</td> <td>22     </td> <td>University of Michigan-Ann Arbor     </td> <td>United States </td> <td>84           </td> <td>79            </td> <td>86.9         </td> <td>95.4          </td> <td>47.2                 </td> <td>59.6                       </td>\n",
              "        </tr>\n",
              "        <tr>\n",
              "            <td>2021</td> <td>23     </td> <td>Peking University                    </td> <td>China         </td> <td>83.9         </td> <td>89.6          </td> <td>91.3         </td> <td>75.4          </td> <td>96.3                 </td> <td>61.2                       </td>\n",
              "        </tr>\n",
              "        <tr>\n",
              "            <td>2021</td> <td>24     </td> <td>Northwestern University              </td> <td>United States </td> <td>83.6         </td> <td>74.9          </td> <td>83.6         </td> <td>98.2          </td> <td>69.9                 </td> <td>64.5                       </td>\n",
              "        </tr>\n",
              "        <tr>\n",
              "            <td>2021</td> <td>25     </td> <td>National University of Singapore     </td> <td>Singapore     </td> <td>83.5         </td> <td>75.9          </td> <td>90.8         </td> <td>81.5          </td> <td>77.8                 </td> <td>94.8                       </td>\n",
              "        </tr>\n",
              "    </tbody>\n",
              "</table>\n",
              "<p>... (66 rows omitted)</p>"
            ]
          },
          "metadata": {}
        }
      ]
    },
    {
      "cell_type": "markdown",
      "source": [
        "## Reading in 2022 World Ranking Data"
      ],
      "metadata": {
        "id": "Tjo8ZtnDIA0c"
      }
    },
    {
      "cell_type": "code",
      "source": [
        "path4= \"/content/drive/My Drive/DS200Labs/2022.csv\"\n",
        "Univrank_2022 = Table.read_table(path4)\n",
        "Univrank_2022.show(25)"
      ],
      "metadata": {
        "colab": {
          "base_uri": "https://localhost:8080/",
          "height": 863
        },
        "id": "-NH9XNJGIFQ_",
        "outputId": "74628d2b-7b56-4941-8b98-7bd0e1ce47a6"
      },
      "execution_count": null,
      "outputs": [
        {
          "output_type": "display_data",
          "data": {
            "text/plain": [
              "<IPython.core.display.HTML object>"
            ],
            "text/html": [
              "<table border=\"1\" class=\"dataframe\">\n",
              "    <thead>\n",
              "        <tr>\n",
              "            <th>YEAR</th> <th>Ranking</th> <th>University </th> <th>Country</th> <th>Overall Score</th> <th>Teaching Score</th> <th>Reseach Score</th> <th>Citation Score</th> <th>Industry Income Score</th> <th>International Outlook Score</th>\n",
              "        </tr>\n",
              "    </thead>\n",
              "    <tbody>\n",
              "        <tr>\n",
              "            <td>2022</td> <td>1      </td> <td>University of Oxford                 </td> <td>United Kingdom</td> <td>95.7         </td> <td>91            </td> <td>99.6         </td> <td>98            </td> <td>74.4                 </td> <td>96.3                       </td>\n",
              "        </tr>\n",
              "        <tr>\n",
              "            <td>2022</td> <td>2      </td> <td>California Institute of Technology   </td> <td>United States </td> <td>95           </td> <td>93.6          </td> <td>96.9         </td> <td>97.8          </td> <td>90.4                 </td> <td>83.8                       </td>\n",
              "        </tr>\n",
              "        <tr>\n",
              "            <td>2022</td> <td>2      </td> <td>Harvard University                   </td> <td>United States </td> <td>95           </td> <td>94.5          </td> <td>98.9         </td> <td>99.2          </td> <td>48.9                 </td> <td>79.8                       </td>\n",
              "        </tr>\n",
              "        <tr>\n",
              "            <td>2022</td> <td>4      </td> <td>Stanford University                  </td> <td>United States </td> <td>94.9         </td> <td>92.3          </td> <td>96.8         </td> <td>99.9          </td> <td>91                   </td> <td>79.7                       </td>\n",
              "        </tr>\n",
              "        <tr>\n",
              "            <td>2022</td> <td>5      </td> <td>Massachusetts Institute of Technology</td> <td>United States </td> <td>94.6         </td> <td>90.9          </td> <td>94.4         </td> <td>99.7          </td> <td>93.7                 </td> <td>89.9                       </td>\n",
              "        </tr>\n",
              "        <tr>\n",
              "            <td>2022</td> <td>5      </td> <td>University of Cambridge              </td> <td>United Kingdom</td> <td>94.6         </td> <td>90.9          </td> <td>99.5         </td> <td>96.2          </td> <td>56.7                 </td> <td>95.8                       </td>\n",
              "        </tr>\n",
              "        <tr>\n",
              "            <td>2022</td> <td>7      </td> <td>Princeton University                 </td> <td>United States </td> <td>93.6         </td> <td>89.5          </td> <td>96           </td> <td>99            </td> <td>88.8                 </td> <td>80.7                       </td>\n",
              "        </tr>\n",
              "        <tr>\n",
              "            <td>2022</td> <td>8      </td> <td>University of California, Berkeley   </td> <td>United States </td> <td>92.2         </td> <td>85.7          </td> <td>96           </td> <td>99.1          </td> <td>84.7                 </td> <td>77.6                       </td>\n",
              "        </tr>\n",
              "        <tr>\n",
              "            <td>2022</td> <td>9      </td> <td>Yale University                      </td> <td>United States </td> <td>90.8         </td> <td>90.7          </td> <td>93           </td> <td>97            </td> <td>56.2                 </td> <td>69.9                       </td>\n",
              "        </tr>\n",
              "        <tr>\n",
              "            <td>2022</td> <td>10     </td> <td>The University of Chicago            </td> <td>United States </td> <td>89.8         </td> <td>87.2          </td> <td>90.6         </td> <td>98.3          </td> <td>56.3                 </td> <td>74.4                       </td>\n",
              "        </tr>\n",
              "        <tr>\n",
              "            <td>2022</td> <td>11     </td> <td>Columbia University                  </td> <td>United States </td> <td>89.6         </td> <td>87.8          </td> <td>89.6         </td> <td>97.3          </td> <td>48                   </td> <td>79.8                       </td>\n",
              "        </tr>\n",
              "        <tr>\n",
              "            <td>2022</td> <td>12     </td> <td>Imperial College London              </td> <td>United Kingdom</td> <td>89.3         </td> <td>81.4          </td> <td>88.3         </td> <td>97.6          </td> <td>70.8                 </td> <td>97.5                       </td>\n",
              "        </tr>\n",
              "        <tr>\n",
              "            <td>2022</td> <td>13     </td> <td>Johns Hopkins University             </td> <td>United States </td> <td>88.4         </td> <td>80            </td> <td>90.8         </td> <td>97.2          </td> <td>93.7                 </td> <td>74.6                       </td>\n",
              "        </tr>\n",
              "        <tr>\n",
              "            <td>2022</td> <td>13     </td> <td>University of Pennsylvania           </td> <td>United States </td> <td>88.4         </td> <td>84.5          </td> <td>89.2         </td> <td>97.1          </td> <td>77.6                 </td> <td>69.7                       </td>\n",
              "        </tr>\n",
              "        <tr>\n",
              "            <td>2022</td> <td>15     </td> <td>ETH Zurich                           </td> <td>Switzerland   </td> <td>88.2         </td> <td>81.3          </td> <td>92.4         </td> <td>90.7          </td> <td>62.5                 </td> <td>97.9                       </td>\n",
              "        </tr>\n",
              "        <tr>\n",
              "            <td>2022</td> <td>16     </td> <td>Peking University                    </td> <td>China         </td> <td>87.5         </td> <td>91.4          </td> <td>94.6         </td> <td>81.7          </td> <td>93.1                 </td> <td>65.1                       </td>\n",
              "        </tr>\n",
              "        <tr>\n",
              "            <td>2022</td> <td>16     </td> <td>Tsinghua University                  </td> <td>China         </td> <td>87.5         </td> <td>88.1          </td> <td>95.7         </td> <td>86.8          </td> <td>100                  </td> <td>50.6                       </td>\n",
              "        </tr>\n",
              "        <tr>\n",
              "            <td>2022</td> <td>18     </td> <td>UCL                                  </td> <td>United Kingdom</td> <td>87.2         </td> <td>76.8          </td> <td>88.9         </td> <td>96.9          </td> <td>44.7                 </td> <td>96.7                       </td>\n",
              "        </tr>\n",
              "        <tr>\n",
              "            <td>2022</td> <td>18     </td> <td>University of Toronto                </td> <td>Canada        </td> <td>87.2         </td> <td>77.6          </td> <td>93           </td> <td>92.6          </td> <td>61.2                 </td> <td>89.1                       </td>\n",
              "        </tr>\n",
              "        <tr>\n",
              "            <td>2022</td> <td>20     </td> <td>University of California, Los Angeles</td> <td>United States </td> <td>86.7         </td> <td>82.1          </td> <td>89.8         </td> <td>96            </td> <td>56.5                 </td> <td>65.1                       </td>\n",
              "        </tr>\n",
              "        <tr>\n",
              "            <td>2022</td> <td>21     </td> <td>National University of Singapore     </td> <td>Singapore     </td> <td>85.2         </td> <td>76.3          </td> <td>90.6         </td> <td>87.3          </td> <td>75.4                 </td> <td>94.4                       </td>\n",
              "        </tr>\n",
              "        <tr>\n",
              "            <td>2022</td> <td>22     </td> <td>Cornell University                   </td> <td>United States </td> <td>85           </td> <td>78.6          </td> <td>85.4         </td> <td>97.2          </td> <td>38.3                 </td> <td>75.4                       </td>\n",
              "        </tr>\n",
              "        <tr>\n",
              "            <td>2022</td> <td>23     </td> <td>Duke University                      </td> <td>United States </td> <td>83.5         </td> <td>79.2          </td> <td>78.6         </td> <td>95.6          </td> <td>99                   </td> <td>66.6                       </td>\n",
              "        </tr>\n",
              "        <tr>\n",
              "            <td>2022</td> <td>24     </td> <td>Northwestern University              </td> <td>United States </td> <td>83.1         </td> <td>74.3          </td> <td>82.1         </td> <td>97.6          </td> <td>81.6                 </td> <td>65.3                       </td>\n",
              "        </tr>\n",
              "        <tr>\n",
              "            <td>2022</td> <td>24     </td> <td>University of Michigan-Ann Arbor     </td> <td>United States </td> <td>83.1         </td> <td>78.6          </td> <td>85.4         </td> <td>94            </td> <td>48.9                 </td> <td>59.5                       </td>\n",
              "        </tr>\n",
              "    </tbody>\n",
              "</table>\n",
              "<p>... (66 rows omitted)</p>"
            ]
          },
          "metadata": {}
        }
      ]
    },
    {
      "cell_type": "markdown",
      "source": [
        "## Reading in the Average of World Ranking for 4 years (2019,2020,2021,2022)"
      ],
      "metadata": {
        "id": "_As8n5yIIQz4"
      }
    },
    {
      "cell_type": "code",
      "source": [
        "path5= \"/content/drive/My Drive/DS200Labs/AVG_Ranking.csv\"\n",
        "Univrank_AVG = Table.read_table(path5)\n",
        "Univrank_AVG.show(25)"
      ],
      "metadata": {
        "colab": {
          "base_uri": "https://localhost:8080/",
          "height": 1000
        },
        "id": "Xfvoy2AcIdeq",
        "outputId": "aa4759e8-9861-4a73-a219-ee8fd8cab5e6"
      },
      "execution_count": null,
      "outputs": [
        {
          "output_type": "display_data",
          "data": {
            "text/plain": [
              "<IPython.core.display.HTML object>"
            ],
            "text/html": [
              "<table border=\"1\" class=\"dataframe\">\n",
              "    <thead>\n",
              "        <tr>\n",
              "            <th>Average of University  Ranking</th> <th>University </th> <th>Country</th> <th>Average of Overall Score</th> <th>Average of Teaching Score</th> <th>Average of Research Score</th> <th>Average of Citation Score</th> <th>Industry Income Score</th> <th>Average of International Outlook Score</th>\n",
              "        </tr>\n",
              "    </thead>\n",
              "    <tbody>\n",
              "        <tr>\n",
              "            <td>1                             </td> <td>University of Oxford                 </td> <td>United Kingdom</td> <td>95.675                  </td> <td>91.15                    </td> <td>99.575                   </td> <td>98.375                   </td> <td>68.9                 </td> <td>96.35                                 </td>\n",
              "        </tr>\n",
              "        <tr>\n",
              "            <td>3.25                          </td> <td>California Institute of Technology   </td> <td>United States </td> <td>94.525                  </td> <td>93.175                   </td> <td>97.05                    </td> <td>97.975                   </td> <td>89.825               </td> <td>78.05                                 </td>\n",
              "        </tr>\n",
              "        <tr>\n",
              "            <td>3.25                          </td> <td>Stanford University                  </td> <td>United States </td> <td>94.7                    </td> <td>92.725                   </td> <td>96.675                   </td> <td>99.9                     </td> <td>77.975               </td> <td>79.5                                  </td>\n",
              "        </tr>\n",
              "        <tr>\n",
              "            <td>4                             </td> <td>University of Cambridge              </td> <td>United Kingdom</td> <td>94.45                   </td> <td>91.175                   </td> <td>99.05                    </td> <td>96.175                   </td> <td>55.25                </td> <td>95.2                                  </td>\n",
              "        </tr>\n",
              "        <tr>\n",
              "            <td>4.5                           </td> <td>Harvard University                   </td> <td>United States </td> <td>94.1                    </td> <td>92.05                    </td> <td>98.675                   </td> <td>99.325                   </td> <td>47.925               </td> <td>78.375                                </td>\n",
              "        </tr>\n",
              "        <tr>\n",
              "            <td>4.75                          </td> <td>Massachusetts Institute of Technology</td> <td>United States </td> <td>94.2                    </td> <td>91                       </td> <td>93.475                   </td> <td>99.7                     </td> <td>89.65                </td> <td>89.475                                </td>\n",
              "        </tr>\n",
              "        <tr>\n",
              "            <td>7.25                          </td> <td>Princeton University                 </td> <td>United States </td> <td>92.65                   </td> <td>89.625                   </td> <td>94.6                     </td> <td>99.025                   </td> <td>65.675               </td> <td>80.525                                </td>\n",
              "        </tr>\n",
              "        <tr>\n",
              "            <td>8.25                          </td> <td>Yale University                      </td> <td>United States </td> <td>91.35                   </td> <td>91.55                    </td> <td>93.775                   </td> <td>97.5                     </td> <td>54.05                </td> <td>68.825                                </td>\n",
              "        </tr>\n",
              "        <tr>\n",
              "            <td>9.75                          </td> <td>The University of Chicago            </td> <td>United States </td> <td>90.125                  </td> <td>88.85                    </td> <td>90.65                    </td> <td>98.15                    </td> <td>51.325               </td> <td>73.825                                </td>\n",
              "        </tr>\n",
              "        <tr>\n",
              "            <td>10.5                          </td> <td>Imperial College London              </td> <td>United Kingdom</td> <td>89.7                    </td> <td>83.5                     </td> <td>87.95                    </td> <td>97.4                     </td> <td>69.4                 </td> <td>97.275                                </td>\n",
              "        </tr>\n",
              "        <tr>\n",
              "            <td>10.75                         </td> <td>University of California, Berkeley   </td> <td>United States </td> <td>90.1                    </td> <td>83.3                     </td> <td>94.025                   </td> <td>99.275                   </td> <td>66.1                 </td> <td>72.525                                </td>\n",
              "        </tr>\n",
              "        <tr>\n",
              "            <td>12.25                         </td> <td>Johns Hopkins University             </td> <td>United States </td> <td>88.95                   </td> <td>81.3                     </td> <td>91.125                   </td> <td>97.925                   </td> <td>93.475               </td> <td>73.4                                  </td>\n",
              "        </tr>\n",
              "        <tr>\n",
              "            <td>12.25                         </td> <td>University of Pennsylvania           </td> <td>United States </td> <td>88.975                  </td> <td>86.2                     </td> <td>89.675                   </td> <td>97.95                    </td> <td>74.95                </td> <td>66.15                                 </td>\n",
              "        </tr>\n",
              "        <tr>\n",
              "            <td>13.25                         </td> <td>ETH Zurich                           </td> <td>Switzerland   </td> <td>88.425                  </td> <td>81.7                     </td> <td>92.225                   </td> <td>91.325                   </td> <td>59.55                </td> <td>98.075                                </td>\n",
              "        </tr>\n",
              "        <tr>\n",
              "            <td>15                            </td> <td>Columbia University                  </td> <td>United States </td> <td>87.65                   </td> <td>85.975                   </td> <td>84.55                    </td> <td>98                       </td> <td>45.65                </td> <td>79.475                                </td>\n",
              "        </tr>\n",
              "        <tr>\n",
              "            <td>15.75                         </td> <td>UCL                                  </td> <td>United Kingdom</td> <td>87.25                   </td> <td>77.575                   </td> <td>89.275                   </td> <td>96.275                   </td> <td>42.975               </td> <td>96.3                                  </td>\n",
              "        </tr>\n",
              "        <tr>\n",
              "            <td>17.25                         </td> <td>University of California, Los Angeles</td> <td>United States </td> <td>86.75                   </td> <td>82.575                   </td> <td>89.125                   </td> <td>96.9                     </td> <td>53.7                 </td> <td>64.15                                 </td>\n",
              "        </tr>\n",
              "        <tr>\n",
              "            <td>18.75                         </td> <td>University of Toronto                </td> <td>Canada        </td> <td>85.675                  </td> <td>76.35                    </td> <td>89.925                   </td> <td>93.375                   </td> <td>53                   </td> <td>85.95                                 </td>\n",
              "        </tr>\n",
              "        <tr>\n",
              "            <td>19.75                         </td> <td>Cornell University                   </td> <td>United States </td> <td>85.125                  </td> <td>79.2                     </td> <td>85.875                   </td> <td>97.1                     </td> <td>37.15                </td> <td>73.575                                </td>\n",
              "        </tr>\n",
              "        <tr>\n",
              "            <td>20.25                         </td> <td>Duke University                      </td> <td>United States </td> <td>84.425                  </td> <td>81.6                     </td> <td>78.65                    </td> <td>96.925                   </td> <td>99.65                </td> <td>63.65                                 </td>\n",
              "        </tr>\n",
              "        <tr>\n",
              "            <td>20.5                          </td> <td>Tsinghua University                  </td> <td>China         </td> <td>84.45                   </td> <td>87.525                   </td> <td>94.675                   </td> <td>78.75                    </td> <td>99.95                </td> <td>48.725                                </td>\n",
              "        </tr>\n",
              "        <tr>\n",
              "            <td>21.75                         </td> <td>University of Michigan-Ann Arbor     </td> <td>United States </td> <td>83.75                   </td> <td>79.25                    </td> <td>86.075                   </td> <td>95.075                   </td> <td>47.425               </td> <td>59.075                                </td>\n",
              "        </tr>\n",
              "        <tr>\n",
              "            <td>23.5                          </td> <td>National University of Singapore     </td> <td>Singapore     </td> <td>83.25                   </td> <td>76.575                   </td> <td>90.15                    </td> <td>81.15                    </td> <td>69.9                 </td> <td>95.05                                 </td>\n",
              "        </tr>\n",
              "        <tr>\n",
              "            <td>23.5                          </td> <td>Peking University                    </td> <td>China         </td> <td>83.25                   </td> <td>89.725                   </td> <td>89.075                   </td> <td>76.75                    </td> <td>81.075               </td> <td>60.85                                 </td>\n",
              "        </tr>\n",
              "        <tr>\n",
              "            <td>23.75                         </td> <td>Northwestern University              </td> <td>United States </td> <td>82.975                  </td> <td>73.1                     </td> <td>83.275                   </td> <td>97.85                    </td> <td>76.425               </td> <td>64.225                                </td>\n",
              "        </tr>\n",
              "    </tbody>\n",
              "</table>\n",
              "<p>... (66 rows omitted)</p>"
            ]
          },
          "metadata": {}
        }
      ]
    },
    {
      "cell_type": "code",
      "source": [],
      "metadata": {
        "id": "uhldOLI4acvD"
      },
      "execution_count": null,
      "outputs": []
    },
    {
      "cell_type": "markdown",
      "source": [
        "# Correlation"
      ],
      "metadata": {
        "id": "YM82BShbPUjD"
      }
    },
    {
      "cell_type": "markdown",
      "source": [
        "## Checking Correlation between Average Ranking and Average Teaching Score (AVG_Ranking.csv)"
      ],
      "metadata": {
        "id": "1lP5e87xIzWk"
      }
    },
    {
      "cell_type": "code",
      "source": [
        "Ranking_TeachingScore = Univrank_AVG.select('Average of University  Ranking', 'Average of Teaching Score' )\n",
        "Ranking_TeachingScore.show(20)"
      ],
      "metadata": {
        "id": "A7QVcsN-PqkP",
        "colab": {
          "base_uri": "https://localhost:8080/",
          "height": 706
        },
        "outputId": "3b864c9a-926e-401b-89a4-5693ba8355ac"
      },
      "execution_count": null,
      "outputs": [
        {
          "output_type": "display_data",
          "data": {
            "text/plain": [
              "<IPython.core.display.HTML object>"
            ],
            "text/html": [
              "<table border=\"1\" class=\"dataframe\">\n",
              "    <thead>\n",
              "        <tr>\n",
              "            <th>Average of University  Ranking</th> <th>Average of Teaching Score</th>\n",
              "        </tr>\n",
              "    </thead>\n",
              "    <tbody>\n",
              "        <tr>\n",
              "            <td>1                             </td> <td>91.15                    </td>\n",
              "        </tr>\n",
              "        <tr>\n",
              "            <td>3.25                          </td> <td>93.175                   </td>\n",
              "        </tr>\n",
              "        <tr>\n",
              "            <td>3.25                          </td> <td>92.725                   </td>\n",
              "        </tr>\n",
              "        <tr>\n",
              "            <td>4                             </td> <td>91.175                   </td>\n",
              "        </tr>\n",
              "        <tr>\n",
              "            <td>4.5                           </td> <td>92.05                    </td>\n",
              "        </tr>\n",
              "        <tr>\n",
              "            <td>4.75                          </td> <td>91                       </td>\n",
              "        </tr>\n",
              "        <tr>\n",
              "            <td>7.25                          </td> <td>89.625                   </td>\n",
              "        </tr>\n",
              "        <tr>\n",
              "            <td>8.25                          </td> <td>91.55                    </td>\n",
              "        </tr>\n",
              "        <tr>\n",
              "            <td>9.75                          </td> <td>88.85                    </td>\n",
              "        </tr>\n",
              "        <tr>\n",
              "            <td>10.5                          </td> <td>83.5                     </td>\n",
              "        </tr>\n",
              "        <tr>\n",
              "            <td>10.75                         </td> <td>83.3                     </td>\n",
              "        </tr>\n",
              "        <tr>\n",
              "            <td>12.25                         </td> <td>81.3                     </td>\n",
              "        </tr>\n",
              "        <tr>\n",
              "            <td>12.25                         </td> <td>86.2                     </td>\n",
              "        </tr>\n",
              "        <tr>\n",
              "            <td>13.25                         </td> <td>81.7                     </td>\n",
              "        </tr>\n",
              "        <tr>\n",
              "            <td>15                            </td> <td>85.975                   </td>\n",
              "        </tr>\n",
              "        <tr>\n",
              "            <td>15.75                         </td> <td>77.575                   </td>\n",
              "        </tr>\n",
              "        <tr>\n",
              "            <td>17.25                         </td> <td>82.575                   </td>\n",
              "        </tr>\n",
              "        <tr>\n",
              "            <td>18.75                         </td> <td>76.35                    </td>\n",
              "        </tr>\n",
              "        <tr>\n",
              "            <td>19.75                         </td> <td>79.2                     </td>\n",
              "        </tr>\n",
              "        <tr>\n",
              "            <td>20.25                         </td> <td>81.6                     </td>\n",
              "        </tr>\n",
              "    </tbody>\n",
              "</table>\n",
              "<p>... (71 rows omitted)</p>"
            ]
          },
          "metadata": {}
        }
      ]
    },
    {
      "cell_type": "markdown",
      "source": [
        "## Convert the two-column table into a DataFrame, using .to_df method of Tables."
      ],
      "metadata": {
        "id": "EyXHknSfaea5"
      }
    },
    {
      "cell_type": "code",
      "source": [
        "Ranking_TeachingScore_DF = Ranking_TeachingScore.to_df()\n",
        "Ranking_TeachingScore_DF.shape\n"
      ],
      "metadata": {
        "colab": {
          "base_uri": "https://localhost:8080/"
        },
        "id": "91VyaghcavLu",
        "outputId": "99a62de6-a147-41a2-b489-d2f9f9f72bc5"
      },
      "execution_count": null,
      "outputs": [
        {
          "output_type": "execute_result",
          "data": {
            "text/plain": [
              "(91, 2)"
            ]
          },
          "metadata": {},
          "execution_count": 188
        }
      ]
    },
    {
      "cell_type": "code",
      "source": [
        "Ranking_TeachingScore_DF.corr()"
      ],
      "metadata": {
        "colab": {
          "base_uri": "https://localhost:8080/",
          "height": 112
        },
        "id": "GMcy9X3GcY9d",
        "outputId": "ac6cd372-13bc-4477-fb3c-92781fc6a5dd"
      },
      "execution_count": null,
      "outputs": [
        {
          "output_type": "execute_result",
          "data": {
            "text/plain": [
              "                                Average of University  Ranking  \\\n",
              "Average of University  Ranking                        1.000000   \n",
              "Average of Teaching Score                            -0.881177   \n",
              "\n",
              "                                Average of Teaching Score  \n",
              "Average of University  Ranking                  -0.881177  \n",
              "Average of Teaching Score                        1.000000  "
            ],
            "text/html": [
              "\n",
              "  <div id=\"df-f976ce08-f06e-476c-8c50-50755a5ea845\">\n",
              "    <div class=\"colab-df-container\">\n",
              "      <div>\n",
              "<style scoped>\n",
              "    .dataframe tbody tr th:only-of-type {\n",
              "        vertical-align: middle;\n",
              "    }\n",
              "\n",
              "    .dataframe tbody tr th {\n",
              "        vertical-align: top;\n",
              "    }\n",
              "\n",
              "    .dataframe thead th {\n",
              "        text-align: right;\n",
              "    }\n",
              "</style>\n",
              "<table border=\"1\" class=\"dataframe\">\n",
              "  <thead>\n",
              "    <tr style=\"text-align: right;\">\n",
              "      <th></th>\n",
              "      <th>Average of University  Ranking</th>\n",
              "      <th>Average of Teaching Score</th>\n",
              "    </tr>\n",
              "  </thead>\n",
              "  <tbody>\n",
              "    <tr>\n",
              "      <th>Average of University  Ranking</th>\n",
              "      <td>1.000000</td>\n",
              "      <td>-0.881177</td>\n",
              "    </tr>\n",
              "    <tr>\n",
              "      <th>Average of Teaching Score</th>\n",
              "      <td>-0.881177</td>\n",
              "      <td>1.000000</td>\n",
              "    </tr>\n",
              "  </tbody>\n",
              "</table>\n",
              "</div>\n",
              "      <button class=\"colab-df-convert\" onclick=\"convertToInteractive('df-f976ce08-f06e-476c-8c50-50755a5ea845')\"\n",
              "              title=\"Convert this dataframe to an interactive table.\"\n",
              "              style=\"display:none;\">\n",
              "        \n",
              "  <svg xmlns=\"http://www.w3.org/2000/svg\" height=\"24px\"viewBox=\"0 0 24 24\"\n",
              "       width=\"24px\">\n",
              "    <path d=\"M0 0h24v24H0V0z\" fill=\"none\"/>\n",
              "    <path d=\"M18.56 5.44l.94 2.06.94-2.06 2.06-.94-2.06-.94-.94-2.06-.94 2.06-2.06.94zm-11 1L8.5 8.5l.94-2.06 2.06-.94-2.06-.94L8.5 2.5l-.94 2.06-2.06.94zm10 10l.94 2.06.94-2.06 2.06-.94-2.06-.94-.94-2.06-.94 2.06-2.06.94z\"/><path d=\"M17.41 7.96l-1.37-1.37c-.4-.4-.92-.59-1.43-.59-.52 0-1.04.2-1.43.59L10.3 9.45l-7.72 7.72c-.78.78-.78 2.05 0 2.83L4 21.41c.39.39.9.59 1.41.59.51 0 1.02-.2 1.41-.59l7.78-7.78 2.81-2.81c.8-.78.8-2.07 0-2.86zM5.41 20L4 18.59l7.72-7.72 1.47 1.35L5.41 20z\"/>\n",
              "  </svg>\n",
              "      </button>\n",
              "      \n",
              "  <style>\n",
              "    .colab-df-container {\n",
              "      display:flex;\n",
              "      flex-wrap:wrap;\n",
              "      gap: 12px;\n",
              "    }\n",
              "\n",
              "    .colab-df-convert {\n",
              "      background-color: #E8F0FE;\n",
              "      border: none;\n",
              "      border-radius: 50%;\n",
              "      cursor: pointer;\n",
              "      display: none;\n",
              "      fill: #1967D2;\n",
              "      height: 32px;\n",
              "      padding: 0 0 0 0;\n",
              "      width: 32px;\n",
              "    }\n",
              "\n",
              "    .colab-df-convert:hover {\n",
              "      background-color: #E2EBFA;\n",
              "      box-shadow: 0px 1px 2px rgba(60, 64, 67, 0.3), 0px 1px 3px 1px rgba(60, 64, 67, 0.15);\n",
              "      fill: #174EA6;\n",
              "    }\n",
              "\n",
              "    [theme=dark] .colab-df-convert {\n",
              "      background-color: #3B4455;\n",
              "      fill: #D2E3FC;\n",
              "    }\n",
              "\n",
              "    [theme=dark] .colab-df-convert:hover {\n",
              "      background-color: #434B5C;\n",
              "      box-shadow: 0px 1px 3px 1px rgba(0, 0, 0, 0.15);\n",
              "      filter: drop-shadow(0px 1px 2px rgba(0, 0, 0, 0.3));\n",
              "      fill: #FFFFFF;\n",
              "    }\n",
              "  </style>\n",
              "\n",
              "      <script>\n",
              "        const buttonEl =\n",
              "          document.querySelector('#df-f976ce08-f06e-476c-8c50-50755a5ea845 button.colab-df-convert');\n",
              "        buttonEl.style.display =\n",
              "          google.colab.kernel.accessAllowed ? 'block' : 'none';\n",
              "\n",
              "        async function convertToInteractive(key) {\n",
              "          const element = document.querySelector('#df-f976ce08-f06e-476c-8c50-50755a5ea845');\n",
              "          const dataTable =\n",
              "            await google.colab.kernel.invokeFunction('convertToInteractive',\n",
              "                                                     [key], {});\n",
              "          if (!dataTable) return;\n",
              "\n",
              "          const docLinkHtml = 'Like what you see? Visit the ' +\n",
              "            '<a target=\"_blank\" href=https://colab.research.google.com/notebooks/data_table.ipynb>data table notebook</a>'\n",
              "            + ' to learn more about interactive tables.';\n",
              "          element.innerHTML = '';\n",
              "          dataTable['output_type'] = 'display_data';\n",
              "          await google.colab.output.renderOutput(dataTable, element);\n",
              "          const docLink = document.createElement('div');\n",
              "          docLink.innerHTML = docLinkHtml;\n",
              "          element.appendChild(docLink);\n",
              "        }\n",
              "      </script>\n",
              "    </div>\n",
              "  </div>\n",
              "  "
            ]
          },
          "metadata": {},
          "execution_count": 189
        }
      ]
    },
    {
      "cell_type": "markdown",
      "source": [
        "## Checking Correlation between Average Ranking and Average Research Score"
      ],
      "metadata": {
        "id": "b0G5ynzvczEM"
      }
    },
    {
      "cell_type": "code",
      "source": [
        "Ranking_ResearchScore = Univrank_AVG.select('Average of University  Ranking', 'Average of Research Score' )\n",
        "Ranking_ResearchScore.show(20)"
      ],
      "metadata": {
        "colab": {
          "base_uri": "https://localhost:8080/",
          "height": 706
        },
        "id": "-Tzx4cAvdBFE",
        "outputId": "e59f55e3-e67b-45af-ffee-3573a6031b38"
      },
      "execution_count": null,
      "outputs": [
        {
          "output_type": "display_data",
          "data": {
            "text/plain": [
              "<IPython.core.display.HTML object>"
            ],
            "text/html": [
              "<table border=\"1\" class=\"dataframe\">\n",
              "    <thead>\n",
              "        <tr>\n",
              "            <th>Average of University  Ranking</th> <th>Average of Research Score</th>\n",
              "        </tr>\n",
              "    </thead>\n",
              "    <tbody>\n",
              "        <tr>\n",
              "            <td>1                             </td> <td>99.575                   </td>\n",
              "        </tr>\n",
              "        <tr>\n",
              "            <td>3.25                          </td> <td>97.05                    </td>\n",
              "        </tr>\n",
              "        <tr>\n",
              "            <td>3.25                          </td> <td>96.675                   </td>\n",
              "        </tr>\n",
              "        <tr>\n",
              "            <td>4                             </td> <td>99.05                    </td>\n",
              "        </tr>\n",
              "        <tr>\n",
              "            <td>4.5                           </td> <td>98.675                   </td>\n",
              "        </tr>\n",
              "        <tr>\n",
              "            <td>4.75                          </td> <td>93.475                   </td>\n",
              "        </tr>\n",
              "        <tr>\n",
              "            <td>7.25                          </td> <td>94.6                     </td>\n",
              "        </tr>\n",
              "        <tr>\n",
              "            <td>8.25                          </td> <td>93.775                   </td>\n",
              "        </tr>\n",
              "        <tr>\n",
              "            <td>9.75                          </td> <td>90.65                    </td>\n",
              "        </tr>\n",
              "        <tr>\n",
              "            <td>10.5                          </td> <td>87.95                    </td>\n",
              "        </tr>\n",
              "        <tr>\n",
              "            <td>10.75                         </td> <td>94.025                   </td>\n",
              "        </tr>\n",
              "        <tr>\n",
              "            <td>12.25                         </td> <td>91.125                   </td>\n",
              "        </tr>\n",
              "        <tr>\n",
              "            <td>12.25                         </td> <td>89.675                   </td>\n",
              "        </tr>\n",
              "        <tr>\n",
              "            <td>13.25                         </td> <td>92.225                   </td>\n",
              "        </tr>\n",
              "        <tr>\n",
              "            <td>15                            </td> <td>84.55                    </td>\n",
              "        </tr>\n",
              "        <tr>\n",
              "            <td>15.75                         </td> <td>89.275                   </td>\n",
              "        </tr>\n",
              "        <tr>\n",
              "            <td>17.25                         </td> <td>89.125                   </td>\n",
              "        </tr>\n",
              "        <tr>\n",
              "            <td>18.75                         </td> <td>89.925                   </td>\n",
              "        </tr>\n",
              "        <tr>\n",
              "            <td>19.75                         </td> <td>85.875                   </td>\n",
              "        </tr>\n",
              "        <tr>\n",
              "            <td>20.25                         </td> <td>78.65                    </td>\n",
              "        </tr>\n",
              "    </tbody>\n",
              "</table>\n",
              "<p>... (71 rows omitted)</p>"
            ]
          },
          "metadata": {}
        }
      ]
    },
    {
      "cell_type": "markdown",
      "source": [
        "## Convert the two-column table into a DataFrame, using .to_df method of Tables."
      ],
      "metadata": {
        "id": "3o8XF20tdP1c"
      }
    },
    {
      "cell_type": "code",
      "source": [
        "Ranking_ResearchScore_DF = Ranking_ResearchScore.to_df()\n",
        "Ranking_ResearchScore_DF.shape"
      ],
      "metadata": {
        "colab": {
          "base_uri": "https://localhost:8080/"
        },
        "id": "vnMFrI8DdQkK",
        "outputId": "86e02779-ad25-49f6-c4ec-5997064814a2"
      },
      "execution_count": null,
      "outputs": [
        {
          "output_type": "execute_result",
          "data": {
            "text/plain": [
              "(91, 2)"
            ]
          },
          "metadata": {},
          "execution_count": 191
        }
      ]
    },
    {
      "cell_type": "code",
      "source": [
        "Ranking_ResearchScore_DF.corr()"
      ],
      "metadata": {
        "colab": {
          "base_uri": "https://localhost:8080/",
          "height": 112
        },
        "id": "rFSSBUbYdZ7z",
        "outputId": "bf34d789-d4ec-4a2a-9977-8f2b524cb199"
      },
      "execution_count": null,
      "outputs": [
        {
          "output_type": "execute_result",
          "data": {
            "text/plain": [
              "                                Average of University  Ranking  \\\n",
              "Average of University  Ranking                        1.000000   \n",
              "Average of Research Score                            -0.923396   \n",
              "\n",
              "                                Average of Research Score  \n",
              "Average of University  Ranking                  -0.923396  \n",
              "Average of Research Score                        1.000000  "
            ],
            "text/html": [
              "\n",
              "  <div id=\"df-bae9b41e-ecf8-424d-b0fe-55952c80507c\">\n",
              "    <div class=\"colab-df-container\">\n",
              "      <div>\n",
              "<style scoped>\n",
              "    .dataframe tbody tr th:only-of-type {\n",
              "        vertical-align: middle;\n",
              "    }\n",
              "\n",
              "    .dataframe tbody tr th {\n",
              "        vertical-align: top;\n",
              "    }\n",
              "\n",
              "    .dataframe thead th {\n",
              "        text-align: right;\n",
              "    }\n",
              "</style>\n",
              "<table border=\"1\" class=\"dataframe\">\n",
              "  <thead>\n",
              "    <tr style=\"text-align: right;\">\n",
              "      <th></th>\n",
              "      <th>Average of University  Ranking</th>\n",
              "      <th>Average of Research Score</th>\n",
              "    </tr>\n",
              "  </thead>\n",
              "  <tbody>\n",
              "    <tr>\n",
              "      <th>Average of University  Ranking</th>\n",
              "      <td>1.000000</td>\n",
              "      <td>-0.923396</td>\n",
              "    </tr>\n",
              "    <tr>\n",
              "      <th>Average of Research Score</th>\n",
              "      <td>-0.923396</td>\n",
              "      <td>1.000000</td>\n",
              "    </tr>\n",
              "  </tbody>\n",
              "</table>\n",
              "</div>\n",
              "      <button class=\"colab-df-convert\" onclick=\"convertToInteractive('df-bae9b41e-ecf8-424d-b0fe-55952c80507c')\"\n",
              "              title=\"Convert this dataframe to an interactive table.\"\n",
              "              style=\"display:none;\">\n",
              "        \n",
              "  <svg xmlns=\"http://www.w3.org/2000/svg\" height=\"24px\"viewBox=\"0 0 24 24\"\n",
              "       width=\"24px\">\n",
              "    <path d=\"M0 0h24v24H0V0z\" fill=\"none\"/>\n",
              "    <path d=\"M18.56 5.44l.94 2.06.94-2.06 2.06-.94-2.06-.94-.94-2.06-.94 2.06-2.06.94zm-11 1L8.5 8.5l.94-2.06 2.06-.94-2.06-.94L8.5 2.5l-.94 2.06-2.06.94zm10 10l.94 2.06.94-2.06 2.06-.94-2.06-.94-.94-2.06-.94 2.06-2.06.94z\"/><path d=\"M17.41 7.96l-1.37-1.37c-.4-.4-.92-.59-1.43-.59-.52 0-1.04.2-1.43.59L10.3 9.45l-7.72 7.72c-.78.78-.78 2.05 0 2.83L4 21.41c.39.39.9.59 1.41.59.51 0 1.02-.2 1.41-.59l7.78-7.78 2.81-2.81c.8-.78.8-2.07 0-2.86zM5.41 20L4 18.59l7.72-7.72 1.47 1.35L5.41 20z\"/>\n",
              "  </svg>\n",
              "      </button>\n",
              "      \n",
              "  <style>\n",
              "    .colab-df-container {\n",
              "      display:flex;\n",
              "      flex-wrap:wrap;\n",
              "      gap: 12px;\n",
              "    }\n",
              "\n",
              "    .colab-df-convert {\n",
              "      background-color: #E8F0FE;\n",
              "      border: none;\n",
              "      border-radius: 50%;\n",
              "      cursor: pointer;\n",
              "      display: none;\n",
              "      fill: #1967D2;\n",
              "      height: 32px;\n",
              "      padding: 0 0 0 0;\n",
              "      width: 32px;\n",
              "    }\n",
              "\n",
              "    .colab-df-convert:hover {\n",
              "      background-color: #E2EBFA;\n",
              "      box-shadow: 0px 1px 2px rgba(60, 64, 67, 0.3), 0px 1px 3px 1px rgba(60, 64, 67, 0.15);\n",
              "      fill: #174EA6;\n",
              "    }\n",
              "\n",
              "    [theme=dark] .colab-df-convert {\n",
              "      background-color: #3B4455;\n",
              "      fill: #D2E3FC;\n",
              "    }\n",
              "\n",
              "    [theme=dark] .colab-df-convert:hover {\n",
              "      background-color: #434B5C;\n",
              "      box-shadow: 0px 1px 3px 1px rgba(0, 0, 0, 0.15);\n",
              "      filter: drop-shadow(0px 1px 2px rgba(0, 0, 0, 0.3));\n",
              "      fill: #FFFFFF;\n",
              "    }\n",
              "  </style>\n",
              "\n",
              "      <script>\n",
              "        const buttonEl =\n",
              "          document.querySelector('#df-bae9b41e-ecf8-424d-b0fe-55952c80507c button.colab-df-convert');\n",
              "        buttonEl.style.display =\n",
              "          google.colab.kernel.accessAllowed ? 'block' : 'none';\n",
              "\n",
              "        async function convertToInteractive(key) {\n",
              "          const element = document.querySelector('#df-bae9b41e-ecf8-424d-b0fe-55952c80507c');\n",
              "          const dataTable =\n",
              "            await google.colab.kernel.invokeFunction('convertToInteractive',\n",
              "                                                     [key], {});\n",
              "          if (!dataTable) return;\n",
              "\n",
              "          const docLinkHtml = 'Like what you see? Visit the ' +\n",
              "            '<a target=\"_blank\" href=https://colab.research.google.com/notebooks/data_table.ipynb>data table notebook</a>'\n",
              "            + ' to learn more about interactive tables.';\n",
              "          element.innerHTML = '';\n",
              "          dataTable['output_type'] = 'display_data';\n",
              "          await google.colab.output.renderOutput(dataTable, element);\n",
              "          const docLink = document.createElement('div');\n",
              "          docLink.innerHTML = docLinkHtml;\n",
              "          element.appendChild(docLink);\n",
              "        }\n",
              "      </script>\n",
              "    </div>\n",
              "  </div>\n",
              "  "
            ]
          },
          "metadata": {},
          "execution_count": 192
        }
      ]
    },
    {
      "cell_type": "markdown",
      "source": [
        "## Checking Correlation between Average Ranking and Average Industry Income Score"
      ],
      "metadata": {
        "id": "N63V9U9BdjYA"
      }
    },
    {
      "cell_type": "code",
      "source": [
        "Ranking_IndustryIncomeScore = Univrank_AVG.select('Average of University  Ranking', 'Industry Income Score' )\n",
        "Ranking_IndustryIncomeScore.show(20)"
      ],
      "metadata": {
        "colab": {
          "base_uri": "https://localhost:8080/",
          "height": 706
        },
        "id": "3_vU0N1vdrTr",
        "outputId": "c7c8f56f-3c60-4740-fe36-e27bae9c21da"
      },
      "execution_count": null,
      "outputs": [
        {
          "output_type": "display_data",
          "data": {
            "text/plain": [
              "<IPython.core.display.HTML object>"
            ],
            "text/html": [
              "<table border=\"1\" class=\"dataframe\">\n",
              "    <thead>\n",
              "        <tr>\n",
              "            <th>Average of University  Ranking</th> <th>Industry Income Score</th>\n",
              "        </tr>\n",
              "    </thead>\n",
              "    <tbody>\n",
              "        <tr>\n",
              "            <td>1                             </td> <td>68.9                 </td>\n",
              "        </tr>\n",
              "        <tr>\n",
              "            <td>3.25                          </td> <td>89.825               </td>\n",
              "        </tr>\n",
              "        <tr>\n",
              "            <td>3.25                          </td> <td>77.975               </td>\n",
              "        </tr>\n",
              "        <tr>\n",
              "            <td>4                             </td> <td>55.25                </td>\n",
              "        </tr>\n",
              "        <tr>\n",
              "            <td>4.5                           </td> <td>47.925               </td>\n",
              "        </tr>\n",
              "        <tr>\n",
              "            <td>4.75                          </td> <td>89.65                </td>\n",
              "        </tr>\n",
              "        <tr>\n",
              "            <td>7.25                          </td> <td>65.675               </td>\n",
              "        </tr>\n",
              "        <tr>\n",
              "            <td>8.25                          </td> <td>54.05                </td>\n",
              "        </tr>\n",
              "        <tr>\n",
              "            <td>9.75                          </td> <td>51.325               </td>\n",
              "        </tr>\n",
              "        <tr>\n",
              "            <td>10.5                          </td> <td>69.4                 </td>\n",
              "        </tr>\n",
              "        <tr>\n",
              "            <td>10.75                         </td> <td>66.1                 </td>\n",
              "        </tr>\n",
              "        <tr>\n",
              "            <td>12.25                         </td> <td>93.475               </td>\n",
              "        </tr>\n",
              "        <tr>\n",
              "            <td>12.25                         </td> <td>74.95                </td>\n",
              "        </tr>\n",
              "        <tr>\n",
              "            <td>13.25                         </td> <td>59.55                </td>\n",
              "        </tr>\n",
              "        <tr>\n",
              "            <td>15                            </td> <td>45.65                </td>\n",
              "        </tr>\n",
              "        <tr>\n",
              "            <td>15.75                         </td> <td>42.975               </td>\n",
              "        </tr>\n",
              "        <tr>\n",
              "            <td>17.25                         </td> <td>53.7                 </td>\n",
              "        </tr>\n",
              "        <tr>\n",
              "            <td>18.75                         </td> <td>53                   </td>\n",
              "        </tr>\n",
              "        <tr>\n",
              "            <td>19.75                         </td> <td>37.15                </td>\n",
              "        </tr>\n",
              "        <tr>\n",
              "            <td>20.25                         </td> <td>99.65                </td>\n",
              "        </tr>\n",
              "    </tbody>\n",
              "</table>\n",
              "<p>... (71 rows omitted)</p>"
            ]
          },
          "metadata": {}
        }
      ]
    },
    {
      "cell_type": "markdown",
      "source": [
        "## Convert the two-column table into a DataFrame, using .to_df method of Tables."
      ],
      "metadata": {
        "id": "VhVNAMTreSIS"
      }
    },
    {
      "cell_type": "code",
      "source": [
        "Ranking_IndustryIncomeScore_DF = Ranking_IndustryIncomeScore.to_df()\n",
        "Ranking_IndustryIncomeScore_DF.shape"
      ],
      "metadata": {
        "colab": {
          "base_uri": "https://localhost:8080/"
        },
        "id": "b8lURtrpeSo0",
        "outputId": "c590f8f7-e7ee-4a96-9d0f-87d6c1082389"
      },
      "execution_count": null,
      "outputs": [
        {
          "output_type": "execute_result",
          "data": {
            "text/plain": [
              "(91, 2)"
            ]
          },
          "metadata": {},
          "execution_count": 194
        }
      ]
    },
    {
      "cell_type": "code",
      "source": [
        "Ranking_IndustryIncomeScore_DF.corr()"
      ],
      "metadata": {
        "id": "5pxaROVcfjwG",
        "colab": {
          "base_uri": "https://localhost:8080/",
          "height": 112
        },
        "outputId": "c14f3228-61cc-462b-e0b0-42d6a920103f"
      },
      "execution_count": null,
      "outputs": [
        {
          "output_type": "execute_result",
          "data": {
            "text/plain": [
              "                                Average of University  Ranking  \\\n",
              "Average of University  Ranking                        1.000000   \n",
              "Industry Income Score                                -0.084469   \n",
              "\n",
              "                                Industry Income Score  \n",
              "Average of University  Ranking              -0.084469  \n",
              "Industry Income Score                        1.000000  "
            ],
            "text/html": [
              "\n",
              "  <div id=\"df-8801f60b-e660-4623-876d-154df6bd399c\">\n",
              "    <div class=\"colab-df-container\">\n",
              "      <div>\n",
              "<style scoped>\n",
              "    .dataframe tbody tr th:only-of-type {\n",
              "        vertical-align: middle;\n",
              "    }\n",
              "\n",
              "    .dataframe tbody tr th {\n",
              "        vertical-align: top;\n",
              "    }\n",
              "\n",
              "    .dataframe thead th {\n",
              "        text-align: right;\n",
              "    }\n",
              "</style>\n",
              "<table border=\"1\" class=\"dataframe\">\n",
              "  <thead>\n",
              "    <tr style=\"text-align: right;\">\n",
              "      <th></th>\n",
              "      <th>Average of University  Ranking</th>\n",
              "      <th>Industry Income Score</th>\n",
              "    </tr>\n",
              "  </thead>\n",
              "  <tbody>\n",
              "    <tr>\n",
              "      <th>Average of University  Ranking</th>\n",
              "      <td>1.000000</td>\n",
              "      <td>-0.084469</td>\n",
              "    </tr>\n",
              "    <tr>\n",
              "      <th>Industry Income Score</th>\n",
              "      <td>-0.084469</td>\n",
              "      <td>1.000000</td>\n",
              "    </tr>\n",
              "  </tbody>\n",
              "</table>\n",
              "</div>\n",
              "      <button class=\"colab-df-convert\" onclick=\"convertToInteractive('df-8801f60b-e660-4623-876d-154df6bd399c')\"\n",
              "              title=\"Convert this dataframe to an interactive table.\"\n",
              "              style=\"display:none;\">\n",
              "        \n",
              "  <svg xmlns=\"http://www.w3.org/2000/svg\" height=\"24px\"viewBox=\"0 0 24 24\"\n",
              "       width=\"24px\">\n",
              "    <path d=\"M0 0h24v24H0V0z\" fill=\"none\"/>\n",
              "    <path d=\"M18.56 5.44l.94 2.06.94-2.06 2.06-.94-2.06-.94-.94-2.06-.94 2.06-2.06.94zm-11 1L8.5 8.5l.94-2.06 2.06-.94-2.06-.94L8.5 2.5l-.94 2.06-2.06.94zm10 10l.94 2.06.94-2.06 2.06-.94-2.06-.94-.94-2.06-.94 2.06-2.06.94z\"/><path d=\"M17.41 7.96l-1.37-1.37c-.4-.4-.92-.59-1.43-.59-.52 0-1.04.2-1.43.59L10.3 9.45l-7.72 7.72c-.78.78-.78 2.05 0 2.83L4 21.41c.39.39.9.59 1.41.59.51 0 1.02-.2 1.41-.59l7.78-7.78 2.81-2.81c.8-.78.8-2.07 0-2.86zM5.41 20L4 18.59l7.72-7.72 1.47 1.35L5.41 20z\"/>\n",
              "  </svg>\n",
              "      </button>\n",
              "      \n",
              "  <style>\n",
              "    .colab-df-container {\n",
              "      display:flex;\n",
              "      flex-wrap:wrap;\n",
              "      gap: 12px;\n",
              "    }\n",
              "\n",
              "    .colab-df-convert {\n",
              "      background-color: #E8F0FE;\n",
              "      border: none;\n",
              "      border-radius: 50%;\n",
              "      cursor: pointer;\n",
              "      display: none;\n",
              "      fill: #1967D2;\n",
              "      height: 32px;\n",
              "      padding: 0 0 0 0;\n",
              "      width: 32px;\n",
              "    }\n",
              "\n",
              "    .colab-df-convert:hover {\n",
              "      background-color: #E2EBFA;\n",
              "      box-shadow: 0px 1px 2px rgba(60, 64, 67, 0.3), 0px 1px 3px 1px rgba(60, 64, 67, 0.15);\n",
              "      fill: #174EA6;\n",
              "    }\n",
              "\n",
              "    [theme=dark] .colab-df-convert {\n",
              "      background-color: #3B4455;\n",
              "      fill: #D2E3FC;\n",
              "    }\n",
              "\n",
              "    [theme=dark] .colab-df-convert:hover {\n",
              "      background-color: #434B5C;\n",
              "      box-shadow: 0px 1px 3px 1px rgba(0, 0, 0, 0.15);\n",
              "      filter: drop-shadow(0px 1px 2px rgba(0, 0, 0, 0.3));\n",
              "      fill: #FFFFFF;\n",
              "    }\n",
              "  </style>\n",
              "\n",
              "      <script>\n",
              "        const buttonEl =\n",
              "          document.querySelector('#df-8801f60b-e660-4623-876d-154df6bd399c button.colab-df-convert');\n",
              "        buttonEl.style.display =\n",
              "          google.colab.kernel.accessAllowed ? 'block' : 'none';\n",
              "\n",
              "        async function convertToInteractive(key) {\n",
              "          const element = document.querySelector('#df-8801f60b-e660-4623-876d-154df6bd399c');\n",
              "          const dataTable =\n",
              "            await google.colab.kernel.invokeFunction('convertToInteractive',\n",
              "                                                     [key], {});\n",
              "          if (!dataTable) return;\n",
              "\n",
              "          const docLinkHtml = 'Like what you see? Visit the ' +\n",
              "            '<a target=\"_blank\" href=https://colab.research.google.com/notebooks/data_table.ipynb>data table notebook</a>'\n",
              "            + ' to learn more about interactive tables.';\n",
              "          element.innerHTML = '';\n",
              "          dataTable['output_type'] = 'display_data';\n",
              "          await google.colab.output.renderOutput(dataTable, element);\n",
              "          const docLink = document.createElement('div');\n",
              "          docLink.innerHTML = docLinkHtml;\n",
              "          element.appendChild(docLink);\n",
              "        }\n",
              "      </script>\n",
              "    </div>\n",
              "  </div>\n",
              "  "
            ]
          },
          "metadata": {},
          "execution_count": 195
        }
      ]
    },
    {
      "cell_type": "markdown",
      "source": [
        "# Data Loading"
      ],
      "metadata": {
        "id": "elbOAhA7zak8"
      }
    },
    {
      "cell_type": "code",
      "source": [
        "import pandas as pd\n",
        "\n",
        "\n",
        "dataframe1 = pd.read_excel(\"/content/drive/My Drive/DS200Labs/Revised2021Data.xlsx\")"
      ],
      "metadata": {
        "id": "Edf65lMjzcq4"
      },
      "execution_count": null,
      "outputs": []
    },
    {
      "cell_type": "code",
      "source": [
        "dataframe2 = pd.read_excel(\"/content/drive/My Drive/DS200Labs/Revised2023Data.xlsx\")\n",
        "dataframe3 = pd.read_excel(\"/content/drive/My Drive/DS200Labs/Revised2020Data.xlsx\")\n",
        "\n",
        "dataframe5 = pd.read_excel(\"/content/drive/My Drive/DS200Labs/Revised2022Data.xlsx\")"
      ],
      "metadata": {
        "id": "vALqR_NXTRL4"
      },
      "execution_count": null,
      "outputs": []
    },
    {
      "cell_type": "code",
      "source": [
        "df = pd.concat([dataframe1,dataframe2,dataframe3,dataframe5],axis=0)"
      ],
      "metadata": {
        "id": "UOEM4VWyTh6P"
      },
      "execution_count": null,
      "outputs": []
    },
    {
      "cell_type": "code",
      "source": [
        "df_2023 = df[df['Year']==2023]"
      ],
      "metadata": {
        "id": "xHB5KhwGTmwd"
      },
      "execution_count": null,
      "outputs": []
    },
    {
      "cell_type": "code",
      "source": [
        "dataframe = df[df['Year']!=2023]"
      ],
      "metadata": {
        "id": "YooQYTCiTuWX"
      },
      "execution_count": null,
      "outputs": []
    },
    {
      "cell_type": "code",
      "source": [
        "dataframe.head()"
      ],
      "metadata": {
        "colab": {
          "base_uri": "https://localhost:8080/",
          "height": 206
        },
        "id": "rmUZoDWfzh6j",
        "outputId": "a63abc19-8ace-40ef-bc7c-79aa5942bca6"
      },
      "execution_count": null,
      "outputs": [
        {
          "output_type": "execute_result",
          "data": {
            "text/plain": [
              "   Year  Ranking                              University         Country  \\\n",
              "0  2021         1                   University of Oxford  United Kingdom   \n",
              "1  2021         2                    Stanford University   United States   \n",
              "2  2021         3                     Harvard University   United States   \n",
              "3  2021         4     California Institute of Technology   United States   \n",
              "4  2021         5  Massachusetts Institute of Technology   United States   \n",
              "\n",
              "  Overall Score  Teaching Score  Research Score  Citations Score  \\\n",
              "0          95.6            91.3            99.6             98.0   \n",
              "1          94.9            92.2            96.7             99.9   \n",
              "2          94.8            94.4            98.8             99.4   \n",
              "3          94.5            92.5            96.9             97.0   \n",
              "4          94.4            90.7            94.4             99.7   \n",
              "\n",
              "   Industy Income Score  International Outlook Score  \n",
              "0                  68.7                         96.4  \n",
              "1                  90.1                         79.5  \n",
              "2                  46.8                         77.7  \n",
              "3                  92.7                         83.6  \n",
              "4                  90.4                         90.0  "
            ],
            "text/html": [
              "\n",
              "  <div id=\"df-e170ea87-783e-489a-bdf3-8d506c12bbc8\">\n",
              "    <div class=\"colab-df-container\">\n",
              "      <div>\n",
              "<style scoped>\n",
              "    .dataframe tbody tr th:only-of-type {\n",
              "        vertical-align: middle;\n",
              "    }\n",
              "\n",
              "    .dataframe tbody tr th {\n",
              "        vertical-align: top;\n",
              "    }\n",
              "\n",
              "    .dataframe thead th {\n",
              "        text-align: right;\n",
              "    }\n",
              "</style>\n",
              "<table border=\"1\" class=\"dataframe\">\n",
              "  <thead>\n",
              "    <tr style=\"text-align: right;\">\n",
              "      <th></th>\n",
              "      <th>Year</th>\n",
              "      <th>Ranking</th>\n",
              "      <th>University</th>\n",
              "      <th>Country</th>\n",
              "      <th>Overall Score</th>\n",
              "      <th>Teaching Score</th>\n",
              "      <th>Research Score</th>\n",
              "      <th>Citations Score</th>\n",
              "      <th>Industy Income Score</th>\n",
              "      <th>International Outlook Score</th>\n",
              "    </tr>\n",
              "  </thead>\n",
              "  <tbody>\n",
              "    <tr>\n",
              "      <th>0</th>\n",
              "      <td>2021</td>\n",
              "      <td>1</td>\n",
              "      <td>University of Oxford</td>\n",
              "      <td>United Kingdom</td>\n",
              "      <td>95.6</td>\n",
              "      <td>91.3</td>\n",
              "      <td>99.6</td>\n",
              "      <td>98.0</td>\n",
              "      <td>68.7</td>\n",
              "      <td>96.4</td>\n",
              "    </tr>\n",
              "    <tr>\n",
              "      <th>1</th>\n",
              "      <td>2021</td>\n",
              "      <td>2</td>\n",
              "      <td>Stanford University</td>\n",
              "      <td>United States</td>\n",
              "      <td>94.9</td>\n",
              "      <td>92.2</td>\n",
              "      <td>96.7</td>\n",
              "      <td>99.9</td>\n",
              "      <td>90.1</td>\n",
              "      <td>79.5</td>\n",
              "    </tr>\n",
              "    <tr>\n",
              "      <th>2</th>\n",
              "      <td>2021</td>\n",
              "      <td>3</td>\n",
              "      <td>Harvard University</td>\n",
              "      <td>United States</td>\n",
              "      <td>94.8</td>\n",
              "      <td>94.4</td>\n",
              "      <td>98.8</td>\n",
              "      <td>99.4</td>\n",
              "      <td>46.8</td>\n",
              "      <td>77.7</td>\n",
              "    </tr>\n",
              "    <tr>\n",
              "      <th>3</th>\n",
              "      <td>2021</td>\n",
              "      <td>4</td>\n",
              "      <td>California Institute of Technology</td>\n",
              "      <td>United States</td>\n",
              "      <td>94.5</td>\n",
              "      <td>92.5</td>\n",
              "      <td>96.9</td>\n",
              "      <td>97.0</td>\n",
              "      <td>92.7</td>\n",
              "      <td>83.6</td>\n",
              "    </tr>\n",
              "    <tr>\n",
              "      <th>4</th>\n",
              "      <td>2021</td>\n",
              "      <td>5</td>\n",
              "      <td>Massachusetts Institute of Technology</td>\n",
              "      <td>United States</td>\n",
              "      <td>94.4</td>\n",
              "      <td>90.7</td>\n",
              "      <td>94.4</td>\n",
              "      <td>99.7</td>\n",
              "      <td>90.4</td>\n",
              "      <td>90.0</td>\n",
              "    </tr>\n",
              "  </tbody>\n",
              "</table>\n",
              "</div>\n",
              "      <button class=\"colab-df-convert\" onclick=\"convertToInteractive('df-e170ea87-783e-489a-bdf3-8d506c12bbc8')\"\n",
              "              title=\"Convert this dataframe to an interactive table.\"\n",
              "              style=\"display:none;\">\n",
              "        \n",
              "  <svg xmlns=\"http://www.w3.org/2000/svg\" height=\"24px\"viewBox=\"0 0 24 24\"\n",
              "       width=\"24px\">\n",
              "    <path d=\"M0 0h24v24H0V0z\" fill=\"none\"/>\n",
              "    <path d=\"M18.56 5.44l.94 2.06.94-2.06 2.06-.94-2.06-.94-.94-2.06-.94 2.06-2.06.94zm-11 1L8.5 8.5l.94-2.06 2.06-.94-2.06-.94L8.5 2.5l-.94 2.06-2.06.94zm10 10l.94 2.06.94-2.06 2.06-.94-2.06-.94-.94-2.06-.94 2.06-2.06.94z\"/><path d=\"M17.41 7.96l-1.37-1.37c-.4-.4-.92-.59-1.43-.59-.52 0-1.04.2-1.43.59L10.3 9.45l-7.72 7.72c-.78.78-.78 2.05 0 2.83L4 21.41c.39.39.9.59 1.41.59.51 0 1.02-.2 1.41-.59l7.78-7.78 2.81-2.81c.8-.78.8-2.07 0-2.86zM5.41 20L4 18.59l7.72-7.72 1.47 1.35L5.41 20z\"/>\n",
              "  </svg>\n",
              "      </button>\n",
              "      \n",
              "  <style>\n",
              "    .colab-df-container {\n",
              "      display:flex;\n",
              "      flex-wrap:wrap;\n",
              "      gap: 12px;\n",
              "    }\n",
              "\n",
              "    .colab-df-convert {\n",
              "      background-color: #E8F0FE;\n",
              "      border: none;\n",
              "      border-radius: 50%;\n",
              "      cursor: pointer;\n",
              "      display: none;\n",
              "      fill: #1967D2;\n",
              "      height: 32px;\n",
              "      padding: 0 0 0 0;\n",
              "      width: 32px;\n",
              "    }\n",
              "\n",
              "    .colab-df-convert:hover {\n",
              "      background-color: #E2EBFA;\n",
              "      box-shadow: 0px 1px 2px rgba(60, 64, 67, 0.3), 0px 1px 3px 1px rgba(60, 64, 67, 0.15);\n",
              "      fill: #174EA6;\n",
              "    }\n",
              "\n",
              "    [theme=dark] .colab-df-convert {\n",
              "      background-color: #3B4455;\n",
              "      fill: #D2E3FC;\n",
              "    }\n",
              "\n",
              "    [theme=dark] .colab-df-convert:hover {\n",
              "      background-color: #434B5C;\n",
              "      box-shadow: 0px 1px 3px 1px rgba(0, 0, 0, 0.15);\n",
              "      filter: drop-shadow(0px 1px 2px rgba(0, 0, 0, 0.3));\n",
              "      fill: #FFFFFF;\n",
              "    }\n",
              "  </style>\n",
              "\n",
              "      <script>\n",
              "        const buttonEl =\n",
              "          document.querySelector('#df-e170ea87-783e-489a-bdf3-8d506c12bbc8 button.colab-df-convert');\n",
              "        buttonEl.style.display =\n",
              "          google.colab.kernel.accessAllowed ? 'block' : 'none';\n",
              "\n",
              "        async function convertToInteractive(key) {\n",
              "          const element = document.querySelector('#df-e170ea87-783e-489a-bdf3-8d506c12bbc8');\n",
              "          const dataTable =\n",
              "            await google.colab.kernel.invokeFunction('convertToInteractive',\n",
              "                                                     [key], {});\n",
              "          if (!dataTable) return;\n",
              "\n",
              "          const docLinkHtml = 'Like what you see? Visit the ' +\n",
              "            '<a target=\"_blank\" href=https://colab.research.google.com/notebooks/data_table.ipynb>data table notebook</a>'\n",
              "            + ' to learn more about interactive tables.';\n",
              "          element.innerHTML = '';\n",
              "          dataTable['output_type'] = 'display_data';\n",
              "          await google.colab.output.renderOutput(dataTable, element);\n",
              "          const docLink = document.createElement('div');\n",
              "          docLink.innerHTML = docLinkHtml;\n",
              "          element.appendChild(docLink);\n",
              "        }\n",
              "      </script>\n",
              "    </div>\n",
              "  </div>\n",
              "  "
            ]
          },
          "metadata": {},
          "execution_count": 201
        }
      ]
    },
    {
      "cell_type": "code",
      "source": [
        "dataframe.columns"
      ],
      "metadata": {
        "colab": {
          "base_uri": "https://localhost:8080/"
        },
        "id": "FL9e-XSH0OqW",
        "outputId": "6b12c260-0f00-4886-cd06-9408c81cb2f4"
      },
      "execution_count": null,
      "outputs": [
        {
          "output_type": "execute_result",
          "data": {
            "text/plain": [
              "Index(['Year', 'Ranking ', 'University', 'Country', 'Overall Score',\n",
              "       'Teaching Score', 'Research Score', 'Citations Score',\n",
              "       'Industy Income Score', 'International Outlook Score'],\n",
              "      dtype='object')"
            ]
          },
          "metadata": {},
          "execution_count": 202
        }
      ]
    },
    {
      "cell_type": "code",
      "source": [
        "dataframe['Ranking '].describe()"
      ],
      "metadata": {
        "colab": {
          "base_uri": "https://localhost:8080/"
        },
        "id": "ph2vmhOC0Hwg",
        "outputId": "8b6a0a90-ba9f-4c04-85ed-ddc7d9a13487"
      },
      "execution_count": null,
      "outputs": [
        {
          "output_type": "execute_result",
          "data": {
            "text/plain": [
              "count    604.000000\n",
              "mean     100.738411\n",
              "std       57.964658\n",
              "min        1.000000\n",
              "25%       51.000000\n",
              "50%      101.000000\n",
              "75%      151.000000\n",
              "max      200.000000\n",
              "Name: Ranking , dtype: float64"
            ]
          },
          "metadata": {},
          "execution_count": 203
        }
      ]
    },
    {
      "cell_type": "code",
      "source": [
        "features = ['Overall Score', \t'Teaching Score', \t'Research Score' \t,'Citations Score', \t'Industy Income Score', \t'International Outlook Score']\n",
        "\n",
        "labels = []\n",
        "\n",
        "for i in dataframe['Ranking ']:\n",
        "  if(i<=20):\n",
        "    labels.append('High')\n",
        "  if(i>20 and i<=50):\n",
        "    labels.append('Medium')\n",
        "  if(i>50):\n",
        "    labels.append('Low')"
      ],
      "metadata": {
        "id": "VcoIZRuHzvaN"
      },
      "execution_count": null,
      "outputs": []
    },
    {
      "cell_type": "code",
      "source": [
        "features = dataframe.drop(['Ranking ','Year','University','Country'],axis=1)\n",
        "label_data = labels"
      ],
      "metadata": {
        "id": "gTcG1R0c0frT"
      },
      "execution_count": null,
      "outputs": []
    },
    {
      "cell_type": "code",
      "source": [
        "features['Overall Score'] = features['Overall Score'].replace('50.1–53.7','50')"
      ],
      "metadata": {
        "id": "qEwAjqIMT93q"
      },
      "execution_count": null,
      "outputs": []
    },
    {
      "cell_type": "code",
      "source": [
        "features['Overall Score'] = features['Overall Score'].replace('50.4–53.9','52')"
      ],
      "metadata": {
        "id": "-9YrElV28lJR"
      },
      "execution_count": null,
      "outputs": []
    },
    {
      "cell_type": "code",
      "source": [
        "features"
      ],
      "metadata": {
        "colab": {
          "base_uri": "https://localhost:8080/",
          "height": 424
        },
        "id": "gCDAv2pHUuRS",
        "outputId": "d46b6188-407d-4054-fa32-69a72046c39e"
      },
      "execution_count": null,
      "outputs": [
        {
          "output_type": "execute_result",
          "data": {
            "text/plain": [
              "    Overall Score  Teaching Score  Research Score  Citations Score  \\\n",
              "0            95.6            91.3            99.6             98.0   \n",
              "1            94.9            92.2            96.7             99.9   \n",
              "2            94.8            94.4            98.8             99.4   \n",
              "3            94.5            92.5            96.9             97.0   \n",
              "4            94.4            90.7            94.4             99.7   \n",
              "..            ...             ...             ...              ...   \n",
              "197            54            34.4            33.6             83.1   \n",
              "198            54            34.4            31.2             97.5   \n",
              "199            54            51.5            41.7             70.9   \n",
              "200            54            56.5            38.6             67.8   \n",
              "201            52            27.0            38.0             79.3   \n",
              "\n",
              "     Industy Income Score  International Outlook Score  \n",
              "0                    68.7                         96.4  \n",
              "1                    90.1                         79.5  \n",
              "2                    46.8                         77.7  \n",
              "3                    92.7                         83.6  \n",
              "4                    90.4                         90.0  \n",
              "..                    ...                          ...  \n",
              "197                  51.6                         98.6  \n",
              "198                  48.5                         51.4  \n",
              "199                  55.9                         44.3  \n",
              "200                  36.9                         55.4  \n",
              "201                  49.8                         78.5  \n",
              "\n",
              "[604 rows x 6 columns]"
            ],
            "text/html": [
              "\n",
              "  <div id=\"df-d41ea5aa-e9b6-4fce-8e74-f1f1e022391f\">\n",
              "    <div class=\"colab-df-container\">\n",
              "      <div>\n",
              "<style scoped>\n",
              "    .dataframe tbody tr th:only-of-type {\n",
              "        vertical-align: middle;\n",
              "    }\n",
              "\n",
              "    .dataframe tbody tr th {\n",
              "        vertical-align: top;\n",
              "    }\n",
              "\n",
              "    .dataframe thead th {\n",
              "        text-align: right;\n",
              "    }\n",
              "</style>\n",
              "<table border=\"1\" class=\"dataframe\">\n",
              "  <thead>\n",
              "    <tr style=\"text-align: right;\">\n",
              "      <th></th>\n",
              "      <th>Overall Score</th>\n",
              "      <th>Teaching Score</th>\n",
              "      <th>Research Score</th>\n",
              "      <th>Citations Score</th>\n",
              "      <th>Industy Income Score</th>\n",
              "      <th>International Outlook Score</th>\n",
              "    </tr>\n",
              "  </thead>\n",
              "  <tbody>\n",
              "    <tr>\n",
              "      <th>0</th>\n",
              "      <td>95.6</td>\n",
              "      <td>91.3</td>\n",
              "      <td>99.6</td>\n",
              "      <td>98.0</td>\n",
              "      <td>68.7</td>\n",
              "      <td>96.4</td>\n",
              "    </tr>\n",
              "    <tr>\n",
              "      <th>1</th>\n",
              "      <td>94.9</td>\n",
              "      <td>92.2</td>\n",
              "      <td>96.7</td>\n",
              "      <td>99.9</td>\n",
              "      <td>90.1</td>\n",
              "      <td>79.5</td>\n",
              "    </tr>\n",
              "    <tr>\n",
              "      <th>2</th>\n",
              "      <td>94.8</td>\n",
              "      <td>94.4</td>\n",
              "      <td>98.8</td>\n",
              "      <td>99.4</td>\n",
              "      <td>46.8</td>\n",
              "      <td>77.7</td>\n",
              "    </tr>\n",
              "    <tr>\n",
              "      <th>3</th>\n",
              "      <td>94.5</td>\n",
              "      <td>92.5</td>\n",
              "      <td>96.9</td>\n",
              "      <td>97.0</td>\n",
              "      <td>92.7</td>\n",
              "      <td>83.6</td>\n",
              "    </tr>\n",
              "    <tr>\n",
              "      <th>4</th>\n",
              "      <td>94.4</td>\n",
              "      <td>90.7</td>\n",
              "      <td>94.4</td>\n",
              "      <td>99.7</td>\n",
              "      <td>90.4</td>\n",
              "      <td>90.0</td>\n",
              "    </tr>\n",
              "    <tr>\n",
              "      <th>...</th>\n",
              "      <td>...</td>\n",
              "      <td>...</td>\n",
              "      <td>...</td>\n",
              "      <td>...</td>\n",
              "      <td>...</td>\n",
              "      <td>...</td>\n",
              "    </tr>\n",
              "    <tr>\n",
              "      <th>197</th>\n",
              "      <td>54</td>\n",
              "      <td>34.4</td>\n",
              "      <td>33.6</td>\n",
              "      <td>83.1</td>\n",
              "      <td>51.6</td>\n",
              "      <td>98.6</td>\n",
              "    </tr>\n",
              "    <tr>\n",
              "      <th>198</th>\n",
              "      <td>54</td>\n",
              "      <td>34.4</td>\n",
              "      <td>31.2</td>\n",
              "      <td>97.5</td>\n",
              "      <td>48.5</td>\n",
              "      <td>51.4</td>\n",
              "    </tr>\n",
              "    <tr>\n",
              "      <th>199</th>\n",
              "      <td>54</td>\n",
              "      <td>51.5</td>\n",
              "      <td>41.7</td>\n",
              "      <td>70.9</td>\n",
              "      <td>55.9</td>\n",
              "      <td>44.3</td>\n",
              "    </tr>\n",
              "    <tr>\n",
              "      <th>200</th>\n",
              "      <td>54</td>\n",
              "      <td>56.5</td>\n",
              "      <td>38.6</td>\n",
              "      <td>67.8</td>\n",
              "      <td>36.9</td>\n",
              "      <td>55.4</td>\n",
              "    </tr>\n",
              "    <tr>\n",
              "      <th>201</th>\n",
              "      <td>52</td>\n",
              "      <td>27.0</td>\n",
              "      <td>38.0</td>\n",
              "      <td>79.3</td>\n",
              "      <td>49.8</td>\n",
              "      <td>78.5</td>\n",
              "    </tr>\n",
              "  </tbody>\n",
              "</table>\n",
              "<p>604 rows × 6 columns</p>\n",
              "</div>\n",
              "      <button class=\"colab-df-convert\" onclick=\"convertToInteractive('df-d41ea5aa-e9b6-4fce-8e74-f1f1e022391f')\"\n",
              "              title=\"Convert this dataframe to an interactive table.\"\n",
              "              style=\"display:none;\">\n",
              "        \n",
              "  <svg xmlns=\"http://www.w3.org/2000/svg\" height=\"24px\"viewBox=\"0 0 24 24\"\n",
              "       width=\"24px\">\n",
              "    <path d=\"M0 0h24v24H0V0z\" fill=\"none\"/>\n",
              "    <path d=\"M18.56 5.44l.94 2.06.94-2.06 2.06-.94-2.06-.94-.94-2.06-.94 2.06-2.06.94zm-11 1L8.5 8.5l.94-2.06 2.06-.94-2.06-.94L8.5 2.5l-.94 2.06-2.06.94zm10 10l.94 2.06.94-2.06 2.06-.94-2.06-.94-.94-2.06-.94 2.06-2.06.94z\"/><path d=\"M17.41 7.96l-1.37-1.37c-.4-.4-.92-.59-1.43-.59-.52 0-1.04.2-1.43.59L10.3 9.45l-7.72 7.72c-.78.78-.78 2.05 0 2.83L4 21.41c.39.39.9.59 1.41.59.51 0 1.02-.2 1.41-.59l7.78-7.78 2.81-2.81c.8-.78.8-2.07 0-2.86zM5.41 20L4 18.59l7.72-7.72 1.47 1.35L5.41 20z\"/>\n",
              "  </svg>\n",
              "      </button>\n",
              "      \n",
              "  <style>\n",
              "    .colab-df-container {\n",
              "      display:flex;\n",
              "      flex-wrap:wrap;\n",
              "      gap: 12px;\n",
              "    }\n",
              "\n",
              "    .colab-df-convert {\n",
              "      background-color: #E8F0FE;\n",
              "      border: none;\n",
              "      border-radius: 50%;\n",
              "      cursor: pointer;\n",
              "      display: none;\n",
              "      fill: #1967D2;\n",
              "      height: 32px;\n",
              "      padding: 0 0 0 0;\n",
              "      width: 32px;\n",
              "    }\n",
              "\n",
              "    .colab-df-convert:hover {\n",
              "      background-color: #E2EBFA;\n",
              "      box-shadow: 0px 1px 2px rgba(60, 64, 67, 0.3), 0px 1px 3px 1px rgba(60, 64, 67, 0.15);\n",
              "      fill: #174EA6;\n",
              "    }\n",
              "\n",
              "    [theme=dark] .colab-df-convert {\n",
              "      background-color: #3B4455;\n",
              "      fill: #D2E3FC;\n",
              "    }\n",
              "\n",
              "    [theme=dark] .colab-df-convert:hover {\n",
              "      background-color: #434B5C;\n",
              "      box-shadow: 0px 1px 3px 1px rgba(0, 0, 0, 0.15);\n",
              "      filter: drop-shadow(0px 1px 2px rgba(0, 0, 0, 0.3));\n",
              "      fill: #FFFFFF;\n",
              "    }\n",
              "  </style>\n",
              "\n",
              "      <script>\n",
              "        const buttonEl =\n",
              "          document.querySelector('#df-d41ea5aa-e9b6-4fce-8e74-f1f1e022391f button.colab-df-convert');\n",
              "        buttonEl.style.display =\n",
              "          google.colab.kernel.accessAllowed ? 'block' : 'none';\n",
              "\n",
              "        async function convertToInteractive(key) {\n",
              "          const element = document.querySelector('#df-d41ea5aa-e9b6-4fce-8e74-f1f1e022391f');\n",
              "          const dataTable =\n",
              "            await google.colab.kernel.invokeFunction('convertToInteractive',\n",
              "                                                     [key], {});\n",
              "          if (!dataTable) return;\n",
              "\n",
              "          const docLinkHtml = 'Like what you see? Visit the ' +\n",
              "            '<a target=\"_blank\" href=https://colab.research.google.com/notebooks/data_table.ipynb>data table notebook</a>'\n",
              "            + ' to learn more about interactive tables.';\n",
              "          element.innerHTML = '';\n",
              "          dataTable['output_type'] = 'display_data';\n",
              "          await google.colab.output.renderOutput(dataTable, element);\n",
              "          const docLink = document.createElement('div');\n",
              "          docLink.innerHTML = docLinkHtml;\n",
              "          element.appendChild(docLink);\n",
              "        }\n",
              "      </script>\n",
              "    </div>\n",
              "  </div>\n",
              "  "
            ]
          },
          "metadata": {},
          "execution_count": 208
        }
      ]
    },
    {
      "cell_type": "markdown",
      "metadata": {
        "id": "H_Yenoymd2yR"
      },
      "source": [
        "# Label Encoding\n"
      ]
    },
    {
      "cell_type": "code",
      "execution_count": null,
      "metadata": {
        "id": "r-g2JP9fb4ty"
      },
      "outputs": [],
      "source": [
        "from sklearn import preprocessing\n",
        "\n",
        "# Encoding label\n",
        "le = preprocessing.LabelEncoder()\n",
        "\n",
        "y = le.fit_transform(label_data)\n"
      ]
    },
    {
      "cell_type": "code",
      "execution_count": null,
      "metadata": {
        "colab": {
          "base_uri": "https://localhost:8080/"
        },
        "id": "6s38_6dxZMZJ",
        "outputId": "2c7c8092-9725-457b-ea52-b2c971d735e3"
      },
      "outputs": [
        {
          "output_type": "stream",
          "name": "stdout",
          "text": [
            "Original form is  ['High' 'Low' 'Medium']\n",
            "Encoded labels are  [0, 1, 2]  respectively\n"
          ]
        }
      ],
      "source": [
        "print(\"Original form is \", le.classes_)\n",
        "print(\"Encoded labels are \", [0,1,2],\" respectively\")\n"
      ]
    },
    {
      "cell_type": "markdown",
      "source": [
        "# Train Test Split"
      ],
      "metadata": {
        "id": "NALJ69m91A1y"
      }
    },
    {
      "cell_type": "code",
      "source": [
        "from sklearn.model_selection import train_test_split\n",
        "X_train,X_test,y_train,y_test = train_test_split(features,y,random_state=15,shuffle=True,train_size=0.80)\n",
        "\n",
        "\n",
        "X_train = pd.DataFrame(X_train)\n",
        "X_test = pd.DataFrame(X_test)\n",
        "y_train = pd.DataFrame(y_train)\n",
        "y_test = pd.DataFrame(y_test)\n"
      ],
      "metadata": {
        "id": "BQ0rbqjJ1CqC"
      },
      "execution_count": null,
      "outputs": []
    },
    {
      "cell_type": "markdown",
      "metadata": {
        "id": "bnCZiNIQRyxI"
      },
      "source": [
        "# Machine Learning models Models"
      ]
    },
    {
      "cell_type": "code",
      "source": [
        "# libraris\n",
        "from matplotlib import pyplot as plt\n",
        "import seaborn as sns\n",
        "import numpy as np\n",
        "import pandas as pd\n",
        "from sklearn import model_selection\n",
        "from sklearn.pipeline import make_pipeline\n",
        "from sklearn.preprocessing import StandardScaler\n",
        "from sklearn.linear_model import LogisticRegression\n",
        "from sklearn.tree import DecisionTreeClassifier\n",
        "from sklearn.ensemble import RandomForestClassifier\n",
        "from sklearn.neighbors import KNeighborsClassifier\n",
        "from sklearn.discriminant_analysis import LinearDiscriminantAnalysis\n",
        "from sklearn.naive_bayes import GaussianNB\n",
        "from sklearn.svm import SVC\n",
        "from sklearn.metrics import f1_score\n",
        "from sklearn.metrics import precision_score\n",
        "from sklearn.metrics import confusion_matrix, classification_report\n",
        "from sklearn.metrics import accuracy_score, precision_score, recall_score"
      ],
      "metadata": {
        "id": "qanX1ScQ1ocL"
      },
      "execution_count": null,
      "outputs": []
    },
    {
      "cell_type": "markdown",
      "metadata": {
        "id": "EkTg2_5diEJ6"
      },
      "source": [
        "## Logistic Regression Model"
      ]
    },
    {
      "cell_type": "code",
      "execution_count": null,
      "metadata": {
        "colab": {
          "base_uri": "https://localhost:8080/"
        },
        "id": "13BjphgUubVP",
        "outputId": "4e135dcc-f773-444c-b640-db75091da664"
      },
      "outputs": [
        {
          "output_type": "stream",
          "name": "stderr",
          "text": [
            "/usr/local/lib/python3.8/dist-packages/sklearn/utils/validation.py:993: DataConversionWarning: A column-vector y was passed when a 1d array was expected. Please change the shape of y to (n_samples, ), for example using ravel().\n",
            "  y = column_or_1d(y, warn=True)\n",
            "/usr/local/lib/python3.8/dist-packages/sklearn/linear_model/_logistic.py:814: ConvergenceWarning: lbfgs failed to converge (status=1):\n",
            "STOP: TOTAL NO. of ITERATIONS REACHED LIMIT.\n",
            "\n",
            "Increase the number of iterations (max_iter) or scale the data as shown in:\n",
            "    https://scikit-learn.org/stable/modules/preprocessing.html\n",
            "Please also refer to the documentation for alternative solver options:\n",
            "    https://scikit-learn.org/stable/modules/linear_model.html#logistic-regression\n",
            "  n_iter_i = _check_optimize_result(\n"
          ]
        }
      ],
      "source": [
        "# Logistice Regression Model\n",
        "lrModel = LogisticRegression().fit(X_train, y_train)\n",
        "\n",
        "# dataset prediction\n",
        "y_pred = lrModel.predict(X_test)"
      ]
    },
    {
      "cell_type": "markdown",
      "metadata": {
        "id": "EeZLbEy0-Ign"
      },
      "source": [
        "### K Fold cross validation and metrics"
      ]
    },
    {
      "cell_type": "code",
      "execution_count": null,
      "metadata": {
        "id": "RA5ZSn8k-K7V",
        "colab": {
          "base_uri": "https://localhost:8080/"
        },
        "outputId": "20da3bcb-b6c1-4bb5-e729-694d2de0f2a7"
      },
      "outputs": [
        {
          "output_type": "stream",
          "name": "stderr",
          "text": [
            "/usr/local/lib/python3.8/dist-packages/sklearn/utils/validation.py:993: DataConversionWarning: A column-vector y was passed when a 1d array was expected. Please change the shape of y to (n_samples, ), for example using ravel().\n",
            "  y = column_or_1d(y, warn=True)\n",
            "/usr/local/lib/python3.8/dist-packages/sklearn/linear_model/_logistic.py:814: ConvergenceWarning: lbfgs failed to converge (status=1):\n",
            "STOP: TOTAL NO. of ITERATIONS REACHED LIMIT.\n",
            "\n",
            "Increase the number of iterations (max_iter) or scale the data as shown in:\n",
            "    https://scikit-learn.org/stable/modules/preprocessing.html\n",
            "Please also refer to the documentation for alternative solver options:\n",
            "    https://scikit-learn.org/stable/modules/linear_model.html#logistic-regression\n",
            "  n_iter_i = _check_optimize_result(\n",
            "/usr/local/lib/python3.8/dist-packages/sklearn/utils/validation.py:993: DataConversionWarning: A column-vector y was passed when a 1d array was expected. Please change the shape of y to (n_samples, ), for example using ravel().\n",
            "  y = column_or_1d(y, warn=True)\n",
            "/usr/local/lib/python3.8/dist-packages/sklearn/linear_model/_logistic.py:814: ConvergenceWarning: lbfgs failed to converge (status=1):\n",
            "STOP: TOTAL NO. of ITERATIONS REACHED LIMIT.\n",
            "\n",
            "Increase the number of iterations (max_iter) or scale the data as shown in:\n",
            "    https://scikit-learn.org/stable/modules/preprocessing.html\n",
            "Please also refer to the documentation for alternative solver options:\n",
            "    https://scikit-learn.org/stable/modules/linear_model.html#logistic-regression\n",
            "  n_iter_i = _check_optimize_result(\n",
            "/usr/local/lib/python3.8/dist-packages/sklearn/utils/validation.py:993: DataConversionWarning: A column-vector y was passed when a 1d array was expected. Please change the shape of y to (n_samples, ), for example using ravel().\n",
            "  y = column_or_1d(y, warn=True)\n",
            "/usr/local/lib/python3.8/dist-packages/sklearn/linear_model/_logistic.py:814: ConvergenceWarning: lbfgs failed to converge (status=1):\n",
            "STOP: TOTAL NO. of ITERATIONS REACHED LIMIT.\n",
            "\n",
            "Increase the number of iterations (max_iter) or scale the data as shown in:\n",
            "    https://scikit-learn.org/stable/modules/preprocessing.html\n",
            "Please also refer to the documentation for alternative solver options:\n",
            "    https://scikit-learn.org/stable/modules/linear_model.html#logistic-regression\n",
            "  n_iter_i = _check_optimize_result(\n",
            "/usr/local/lib/python3.8/dist-packages/sklearn/utils/validation.py:993: DataConversionWarning: A column-vector y was passed when a 1d array was expected. Please change the shape of y to (n_samples, ), for example using ravel().\n",
            "  y = column_or_1d(y, warn=True)\n",
            "/usr/local/lib/python3.8/dist-packages/sklearn/linear_model/_logistic.py:814: ConvergenceWarning: lbfgs failed to converge (status=1):\n",
            "STOP: TOTAL NO. of ITERATIONS REACHED LIMIT.\n",
            "\n",
            "Increase the number of iterations (max_iter) or scale the data as shown in:\n",
            "    https://scikit-learn.org/stable/modules/preprocessing.html\n",
            "Please also refer to the documentation for alternative solver options:\n",
            "    https://scikit-learn.org/stable/modules/linear_model.html#logistic-regression\n",
            "  n_iter_i = _check_optimize_result(\n",
            "/usr/local/lib/python3.8/dist-packages/sklearn/utils/validation.py:993: DataConversionWarning: A column-vector y was passed when a 1d array was expected. Please change the shape of y to (n_samples, ), for example using ravel().\n",
            "  y = column_or_1d(y, warn=True)\n",
            "/usr/local/lib/python3.8/dist-packages/sklearn/linear_model/_logistic.py:814: ConvergenceWarning: lbfgs failed to converge (status=1):\n",
            "STOP: TOTAL NO. of ITERATIONS REACHED LIMIT.\n",
            "\n",
            "Increase the number of iterations (max_iter) or scale the data as shown in:\n",
            "    https://scikit-learn.org/stable/modules/preprocessing.html\n",
            "Please also refer to the documentation for alternative solver options:\n",
            "    https://scikit-learn.org/stable/modules/linear_model.html#logistic-regression\n",
            "  n_iter_i = _check_optimize_result(\n",
            "/usr/local/lib/python3.8/dist-packages/sklearn/utils/validation.py:993: DataConversionWarning: A column-vector y was passed when a 1d array was expected. Please change the shape of y to (n_samples, ), for example using ravel().\n",
            "  y = column_or_1d(y, warn=True)\n",
            "/usr/local/lib/python3.8/dist-packages/sklearn/linear_model/_logistic.py:814: ConvergenceWarning: lbfgs failed to converge (status=1):\n",
            "STOP: TOTAL NO. of ITERATIONS REACHED LIMIT.\n",
            "\n",
            "Increase the number of iterations (max_iter) or scale the data as shown in:\n",
            "    https://scikit-learn.org/stable/modules/preprocessing.html\n",
            "Please also refer to the documentation for alternative solver options:\n",
            "    https://scikit-learn.org/stable/modules/linear_model.html#logistic-regression\n",
            "  n_iter_i = _check_optimize_result(\n",
            "/usr/local/lib/python3.8/dist-packages/sklearn/utils/validation.py:993: DataConversionWarning: A column-vector y was passed when a 1d array was expected. Please change the shape of y to (n_samples, ), for example using ravel().\n",
            "  y = column_or_1d(y, warn=True)\n",
            "/usr/local/lib/python3.8/dist-packages/sklearn/linear_model/_logistic.py:814: ConvergenceWarning: lbfgs failed to converge (status=1):\n",
            "STOP: TOTAL NO. of ITERATIONS REACHED LIMIT.\n",
            "\n",
            "Increase the number of iterations (max_iter) or scale the data as shown in:\n",
            "    https://scikit-learn.org/stable/modules/preprocessing.html\n",
            "Please also refer to the documentation for alternative solver options:\n",
            "    https://scikit-learn.org/stable/modules/linear_model.html#logistic-regression\n",
            "  n_iter_i = _check_optimize_result(\n",
            "/usr/local/lib/python3.8/dist-packages/sklearn/utils/validation.py:993: DataConversionWarning: A column-vector y was passed when a 1d array was expected. Please change the shape of y to (n_samples, ), for example using ravel().\n",
            "  y = column_or_1d(y, warn=True)\n",
            "/usr/local/lib/python3.8/dist-packages/sklearn/linear_model/_logistic.py:814: ConvergenceWarning: lbfgs failed to converge (status=1):\n",
            "STOP: TOTAL NO. of ITERATIONS REACHED LIMIT.\n",
            "\n",
            "Increase the number of iterations (max_iter) or scale the data as shown in:\n",
            "    https://scikit-learn.org/stable/modules/preprocessing.html\n",
            "Please also refer to the documentation for alternative solver options:\n",
            "    https://scikit-learn.org/stable/modules/linear_model.html#logistic-regression\n",
            "  n_iter_i = _check_optimize_result(\n",
            "/usr/local/lib/python3.8/dist-packages/sklearn/utils/validation.py:993: DataConversionWarning: A column-vector y was passed when a 1d array was expected. Please change the shape of y to (n_samples, ), for example using ravel().\n",
            "  y = column_or_1d(y, warn=True)\n",
            "/usr/local/lib/python3.8/dist-packages/sklearn/linear_model/_logistic.py:814: ConvergenceWarning: lbfgs failed to converge (status=1):\n",
            "STOP: TOTAL NO. of ITERATIONS REACHED LIMIT.\n",
            "\n",
            "Increase the number of iterations (max_iter) or scale the data as shown in:\n",
            "    https://scikit-learn.org/stable/modules/preprocessing.html\n",
            "Please also refer to the documentation for alternative solver options:\n",
            "    https://scikit-learn.org/stable/modules/linear_model.html#logistic-regression\n",
            "  n_iter_i = _check_optimize_result(\n",
            "/usr/local/lib/python3.8/dist-packages/sklearn/utils/validation.py:993: DataConversionWarning: A column-vector y was passed when a 1d array was expected. Please change the shape of y to (n_samples, ), for example using ravel().\n",
            "  y = column_or_1d(y, warn=True)\n"
          ]
        },
        {
          "output_type": "stream",
          "name": "stdout",
          "text": [
            "\n",
            "\n",
            "Cross-Validation Testing accuracy: 0.876 +/- 0.065\n",
            "\n",
            "\n",
            "Cross-Validation Training accuracy: 0.881 +/- 0.050\n"
          ]
        },
        {
          "output_type": "stream",
          "name": "stderr",
          "text": [
            "/usr/local/lib/python3.8/dist-packages/sklearn/linear_model/_logistic.py:814: ConvergenceWarning: lbfgs failed to converge (status=1):\n",
            "STOP: TOTAL NO. of ITERATIONS REACHED LIMIT.\n",
            "\n",
            "Increase the number of iterations (max_iter) or scale the data as shown in:\n",
            "    https://scikit-learn.org/stable/modules/preprocessing.html\n",
            "Please also refer to the documentation for alternative solver options:\n",
            "    https://scikit-learn.org/stable/modules/linear_model.html#logistic-regression\n",
            "  n_iter_i = _check_optimize_result(\n"
          ]
        }
      ],
      "source": [
        "from sklearn.model_selection import StratifiedKFold\n",
        "\n",
        "strtfdKFold = StratifiedKFold(n_splits=10)\n",
        "kfold = strtfdKFold.split(X_train, y_train)\n",
        "scores = []\n",
        "scores_training = []\n",
        "for k, (train, test) in enumerate(kfold):\n",
        "  lrModel.fit(X_train.iloc[train, :], y_train.iloc[train])\n",
        "  score = lrModel.score(X_train.iloc[test, :], y_train.iloc[test])\n",
        "\n",
        "  sc_train = lrModel.score(X_train.iloc[train, :], y_train.iloc[train])\n",
        "  scores.append(score)\n",
        "  scores_training.append(sc_train)\n",
        "  # print('Fold: %2d, Training/Test Split Distribution: %s, Accuracy: %.3f' % (k+1, np.bincount(y_train.iloc[train]), score))\n",
        "\n",
        "print('\\n\\nCross-Validation Testing accuracy: %.3f +/- %.3f' %(np.mean(scores), np.std(scores)))\n",
        "print('\\n\\nCross-Validation Training accuracy: %.3f +/- %.3f' %(np.mean(scores_training), np.std(scores_training)))"
      ]
    },
    {
      "cell_type": "code",
      "execution_count": null,
      "metadata": {
        "id": "-ux02-6abnn_",
        "colab": {
          "base_uri": "https://localhost:8080/"
        },
        "outputId": "ae9c264c-7cfd-4771-b8f9-e051c7664ef7"
      },
      "outputs": [
        {
          "output_type": "stream",
          "name": "stdout",
          "text": [
            "\n",
            "\n",
            "Cross-Validation accuracy: 0.876 +/- 0.065\n"
          ]
        }
      ],
      "source": [
        "\n",
        "print('\\n\\nCross-Validation accuracy: %.3f +/- %.3f' %(np.mean(scores), np.std(scores)))"
      ]
    },
    {
      "cell_type": "code",
      "execution_count": null,
      "metadata": {
        "id": "uDUv7Cc8wgix",
        "colab": {
          "base_uri": "https://localhost:8080/"
        },
        "outputId": "18193fc2-6840-4827-caca-733d694fccfa"
      },
      "outputs": [
        {
          "output_type": "stream",
          "name": "stdout",
          "text": [
            "Accuracy Score :  0.826446280992\n"
          ]
        }
      ],
      "source": [
        "# accuracy score\n",
        "accLRModel = accuracy_score(y_test,y_pred)\n",
        "print(\"Accuracy Score : \", accLRModel)"
      ]
    },
    {
      "cell_type": "code",
      "execution_count": null,
      "metadata": {
        "id": "F_1j20x0j4t-",
        "colab": {
          "base_uri": "https://localhost:8080/"
        },
        "outputId": "f2be8274-83e4-49de-fccc-87cfa28bf022"
      },
      "outputs": [
        {
          "output_type": "stream",
          "name": "stdout",
          "text": [
            "              precision    recall  f1-score   support\n",
            "\n",
            "           0       0.53      0.82      0.64        11\n",
            "           1       0.90      0.94      0.92        94\n",
            "           2       0.50      0.19      0.27        16\n",
            "\n",
            "    accuracy                           0.83       121\n",
            "   macro avg       0.64      0.65      0.61       121\n",
            "weighted avg       0.81      0.83      0.81       121\n",
            "\n",
            "F1 score :  0.806625881006\n",
            "Precision score :  0.811832170885\n"
          ]
        }
      ],
      "source": [
        "report = classification_report(y_test, y_pred)\n",
        "\n",
        "print(report)\n",
        "\n",
        "# f1 score metrics\n",
        "f1_score_value = f1_score(y_test,y_pred,average='weighted')\n",
        "print(\"F1 score : \", f1_score_value)\n",
        "\n",
        "# precision metrics\n",
        "precision_score_value = precision_score(y_test,y_pred,average='weighted')\n",
        "print(\"Precision score : \", precision_score_value)\n"
      ]
    },
    {
      "cell_type": "markdown",
      "metadata": {
        "id": "GCyvC3HSK4VX"
      },
      "source": [
        "### Logistic regression feature importance"
      ]
    },
    {
      "cell_type": "code",
      "source": [
        "# feature importance based on logistic regression model\n",
        "\n",
        "from sklearn.inspection import permutation_importance\n",
        "feature_score_logistic_reg = permutation_importance(lrModel, X_train, y_train, n_repeats=10,\n",
        "                           random_state=0)\n",
        "logistic_feature_score = pd.Series(feature_score_logistic_reg.importances_mean, index=['Overall Score', \t'Teaching Score', \t'Research Score' \t,'Citations Score', \t'Industy Income Score', \t'International Outlook Score'])\n",
        "\n",
        "logistic_feature_score"
      ],
      "metadata": {
        "colab": {
          "base_uri": "https://localhost:8080/"
        },
        "id": "gt2NV7sp2r52",
        "outputId": "cb7937fb-efd2-48c9-e945-2559317c0702"
      },
      "execution_count": null,
      "outputs": [
        {
          "output_type": "execute_result",
          "data": {
            "text/plain": [
              "Overall Score                  0.293582\n",
              "Teaching Score                 0.502692\n",
              "Research Score                 0.543271\n",
              "Citations Score                0.359627\n",
              "Industy Income Score           0.088613\n",
              "International Outlook Score    0.213458\n",
              "dtype: float64"
            ]
          },
          "metadata": {},
          "execution_count": 218
        }
      ]
    },
    {
      "cell_type": "code",
      "execution_count": null,
      "metadata": {
        "colab": {
          "base_uri": "https://localhost:8080/",
          "height": 484
        },
        "id": "1W4UYrQYLHM4",
        "outputId": "77d5d918-50a0-4c8a-c32a-918afb7d54c8"
      },
      "outputs": [
        {
          "output_type": "display_data",
          "data": {
            "text/plain": [
              "<Figure size 2160x648 with 1 Axes>"
            ],
            "image/png": "[encoded data removed]"
          },
          "metadata": {}
        }
      ],
      "source": [
        "# plotting feature importance of the decision_tree\n",
        "\n",
        "plt.figure(figsize=(30, 9))\n",
        "plt.bar(logistic_feature_score.index,logistic_feature_score,color = \"darkorange\")\n",
        "plt.xlabel(\"Logistic regression feature importance\")\n",
        "\n",
        "plt.show()\n"
      ]
    },
    {
      "cell_type": "markdown",
      "metadata": {
        "id": "SRwZKncPaInS"
      },
      "source": [
        "## Hyper parameter tuning of LR"
      ]
    },
    {
      "cell_type": "code",
      "execution_count": null,
      "metadata": {
        "id": "WzWhqLKYbNJH"
      },
      "outputs": [],
      "source": [
        "#https://chrisalbon.com/code/machine_learning/model_selection/hyperparameter_tuning_using_random_search/\n",
        "from scipy.stats import uniform\n",
        "from sklearn.model_selection import RandomizedSearchCV\n",
        "penaltyParams = ['l1', 'l2']\n",
        "C = uniform(loc=0, scale=4)\n",
        "\n",
        "hyper_parameters_dict = dict(C=C, penalty=penaltyParams)\n",
        "lrModel = LogisticRegression()\n",
        "\n",
        "\n",
        "clf = RandomizedSearchCV(lrModel, hyper_parameters_dict, random_state=1, n_iter=100, cv=5, verbose=0, n_jobs=-1)"
      ]
    },
    {
      "cell_type": "code",
      "execution_count": null,
      "metadata": {
        "colab": {
          "base_uri": "https://localhost:8080/"
        },
        "id": "GDj-Rqn3bfPB",
        "outputId": "547678dc-c1e9-4bcf-b83a-46fcfe8ee06d"
      },
      "outputs": [
        {
          "output_type": "stream",
          "name": "stderr",
          "text": [
            "/usr/local/lib/python3.8/dist-packages/sklearn/model_selection/_validation.py:372: FitFailedWarning: \n",
            "230 fits failed out of a total of 500.\n",
            "The score on these train-test partitions for these parameters will be set to nan.\n",
            "If these failures are not expected, you can try to debug them by setting error_score='raise'.\n",
            "\n",
            "Below are more details about the failures:\n",
            "--------------------------------------------------------------------------------\n",
            "230 fits failed with the following error:\n",
            "Traceback (most recent call last):\n",
            "  File \"/usr/local/lib/python3.8/dist-packages/sklearn/model_selection/_validation.py\", line 680, in _fit_and_score\n",
            "    estimator.fit(X_train, y_train, **fit_params)\n",
            "  File \"/usr/local/lib/python3.8/dist-packages/sklearn/linear_model/_logistic.py\", line 1461, in fit\n",
            "    solver = _check_solver(self.solver, self.penalty, self.dual)\n",
            "  File \"/usr/local/lib/python3.8/dist-packages/sklearn/linear_model/_logistic.py\", line 447, in _check_solver\n",
            "    raise ValueError(\n",
            "ValueError: Solver lbfgs supports only 'l2' or 'none' penalties, got l1 penalty.\n",
            "\n",
            "  warnings.warn(some_fits_failed_message, FitFailedWarning)\n",
            "/usr/local/lib/python3.8/dist-packages/sklearn/model_selection/_search.py:969: UserWarning: One or more of the test scores are non-finite: [        nan  0.87085399  0.87411846  0.88893939  0.87747934  0.915427\n",
            "         nan         nan         nan         nan  0.89556474  0.88898072\n",
            "         nan  0.90055096  0.85254821  0.90063361         nan         nan\n",
            "  0.87735537         nan  0.88566116  0.87902204         nan  0.85917355\n",
            "         nan  0.87904959  0.89385675  0.85918733  0.85254821  0.87570248\n",
            "  0.88899449         nan         nan  0.88068871         nan         nan\n",
            "  0.86910468  0.89559229         nan         nan  0.86084022  0.8657989\n",
            "         nan         nan         nan  0.87739669  0.88398072  0.84435262\n",
            "         nan  0.87075758         nan         nan  0.87738292         nan\n",
            "  0.93206612         nan         nan         nan         nan         nan\n",
            "  0.84926997         nan         nan         nan         nan  0.89060606\n",
            "         nan         nan  0.8872865   0.90378788         nan         nan\n",
            "  0.89063361  0.9022314          nan         nan  0.87078512  0.87402204\n",
            "  0.86581267  0.87246556  0.88238292         nan  0.87242424  0.87735537\n",
            "  0.91041322         nan  0.89064738         nan  0.90219008  0.89720386\n",
            "  0.84924242  0.90546832         nan  0.88913223         nan         nan\n",
            "         nan  0.8922865   0.87575758  0.8922314 ]\n",
            "  warnings.warn(\n",
            "/usr/local/lib/python3.8/dist-packages/sklearn/linear_model/_logistic.py:814: ConvergenceWarning: lbfgs failed to converge (status=1):\n",
            "STOP: TOTAL NO. of ITERATIONS REACHED LIMIT.\n",
            "\n",
            "Increase the number of iterations (max_iter) or scale the data as shown in:\n",
            "    https://scikit-learn.org/stable/modules/preprocessing.html\n",
            "Please also refer to the documentation for alternative solver options:\n",
            "    https://scikit-learn.org/stable/modules/linear_model.html#logistic-regression\n",
            "  n_iter_i = _check_optimize_result(\n"
          ]
        }
      ],
      "source": [
        "best_model = clf.fit(features, y)"
      ]
    },
    {
      "cell_type": "code",
      "execution_count": null,
      "metadata": {
        "id": "Tkbs_3UQcVV5"
      },
      "outputs": [],
      "source": [
        "# dataset prediction\n",
        "y_pred = best_model.predict(X_test)\n",
        "# Training data prediction\n",
        "y_pred_train = best_model.predict(X_train)"
      ]
    },
    {
      "cell_type": "markdown",
      "metadata": {
        "id": "XZOGiTgiQyvC"
      },
      "source": [
        "### K Fold cross validation and metrics"
      ]
    },
    {
      "cell_type": "code",
      "execution_count": null,
      "metadata": {
        "colab": {
          "base_uri": "https://localhost:8080/"
        },
        "outputId": "24ea0f07-29c5-4fd1-8cf7-3a9118942fb2",
        "id": "8ErZT4-1QyvC"
      },
      "outputs": [
        {
          "output_type": "stream",
          "name": "stderr",
          "text": [
            "/usr/local/lib/python3.8/dist-packages/sklearn/model_selection/_validation.py:372: FitFailedWarning: \n",
            "230 fits failed out of a total of 500.\n",
            "The score on these train-test partitions for these parameters will be set to nan.\n",
            "If these failures are not expected, you can try to debug them by setting error_score='raise'.\n",
            "\n",
            "Below are more details about the failures:\n",
            "--------------------------------------------------------------------------------\n",
            "230 fits failed with the following error:\n",
            "Traceback (most recent call last):\n",
            "  File \"/usr/local/lib/python3.8/dist-packages/sklearn/model_selection/_validation.py\", line 680, in _fit_and_score\n",
            "    estimator.fit(X_train, y_train, **fit_params)\n",
            "  File \"/usr/local/lib/python3.8/dist-packages/sklearn/linear_model/_logistic.py\", line 1461, in fit\n",
            "    solver = _check_solver(self.solver, self.penalty, self.dual)\n",
            "  File \"/usr/local/lib/python3.8/dist-packages/sklearn/linear_model/_logistic.py\", line 447, in _check_solver\n",
            "    raise ValueError(\n",
            "ValueError: Solver lbfgs supports only 'l2' or 'none' penalties, got l1 penalty.\n",
            "\n",
            "  warnings.warn(some_fits_failed_message, FitFailedWarning)\n",
            "/usr/local/lib/python3.8/dist-packages/sklearn/model_selection/_search.py:969: UserWarning: One or more of the test scores are non-finite: [        nan  0.85236568  0.86618551  0.90547982  0.86164127  0.89160652\n",
            "         nan         nan         nan         nan  0.85479818  0.87543438\n",
            "         nan  0.87318899  0.87083667  0.89155306         nan         nan\n",
            "  0.88259824         nan  0.88925421  0.85017375         nan  0.85469126\n",
            "         nan  0.87562149  0.86156108  0.85944935  0.88495055  0.89374499\n",
            "  0.84784817         nan         nan  0.88698209         nan         nan\n",
            "  0.85717723  0.86164127         nan         nan  0.87767976  0.87308206\n",
            "         nan         nan         nan  0.85017375  0.87091687  0.91705426\n",
            "         nan  0.85474472         nan         nan  0.85701684         nan\n",
            "  0.89414595         nan         nan         nan         nan         nan\n",
            "  0.85701684         nan         nan         nan         nan  0.86851109\n",
            "         nan         nan  0.85474472  0.8755413          nan         nan\n",
            "  0.85936915  0.87075648         nan         nan  0.87083667  0.85947608\n",
            "  0.90109596  0.88695536  0.88005881         nan  0.89836942  0.91929965\n",
            "  0.88706228         nan  0.85252606         nan  0.87546111  0.85931569\n",
            "  0.89385191  0.90326116         nan  0.8847367          nan         nan\n",
            "         nan  0.84317028  0.85012029  0.88005881]\n",
            "  warnings.warn(\n",
            "/usr/local/lib/python3.8/dist-packages/sklearn/utils/validation.py:993: DataConversionWarning: A column-vector y was passed when a 1d array was expected. Please change the shape of y to (n_samples, ), for example using ravel().\n",
            "  y = column_or_1d(y, warn=True)\n",
            "/usr/local/lib/python3.8/dist-packages/sklearn/linear_model/_logistic.py:814: ConvergenceWarning: lbfgs failed to converge (status=1):\n",
            "STOP: TOTAL NO. of ITERATIONS REACHED LIMIT.\n",
            "\n",
            "Increase the number of iterations (max_iter) or scale the data as shown in:\n",
            "    https://scikit-learn.org/stable/modules/preprocessing.html\n",
            "Please also refer to the documentation for alternative solver options:\n",
            "    https://scikit-learn.org/stable/modules/linear_model.html#logistic-regression\n",
            "  n_iter_i = _check_optimize_result(\n",
            "/usr/local/lib/python3.8/dist-packages/sklearn/model_selection/_validation.py:372: FitFailedWarning: \n",
            "230 fits failed out of a total of 500.\n",
            "The score on these train-test partitions for these parameters will be set to nan.\n",
            "If these failures are not expected, you can try to debug them by setting error_score='raise'.\n",
            "\n",
            "Below are more details about the failures:\n",
            "--------------------------------------------------------------------------------\n",
            "230 fits failed with the following error:\n",
            "Traceback (most recent call last):\n",
            "  File \"/usr/local/lib/python3.8/dist-packages/sklearn/model_selection/_validation.py\", line 680, in _fit_and_score\n",
            "    estimator.fit(X_train, y_train, **fit_params)\n",
            "  File \"/usr/local/lib/python3.8/dist-packages/sklearn/linear_model/_logistic.py\", line 1461, in fit\n",
            "    solver = _check_solver(self.solver, self.penalty, self.dual)\n",
            "  File \"/usr/local/lib/python3.8/dist-packages/sklearn/linear_model/_logistic.py\", line 447, in _check_solver\n",
            "    raise ValueError(\n",
            "ValueError: Solver lbfgs supports only 'l2' or 'none' penalties, got l1 penalty.\n",
            "\n",
            "  warnings.warn(some_fits_failed_message, FitFailedWarning)\n",
            "/usr/local/lib/python3.8/dist-packages/sklearn/model_selection/_search.py:969: UserWarning: One or more of the test scores are non-finite: [        nan  0.87313553  0.87778669  0.87992515  0.880139    0.91234964\n",
            "         nan         nan         nan         nan  0.90547982  0.86396685\n",
            "         nan  0.88003208  0.87540765  0.86156108         nan         nan\n",
            "  0.86388666         nan  0.88227747  0.85928896         nan  0.85014702\n",
            "         nan  0.86182839  0.88708901  0.88487036  0.8570703   0.90074846\n",
            "  0.91486234         nan         nan  0.90788559         nan         nan\n",
            "  0.85715049  0.85501203         nan         nan  0.87997862  0.86845763\n",
            "         nan         nan         nan  0.90312751  0.87773323  0.88708901\n",
            "         nan  0.87789361         nan         nan  0.88487036         nan\n",
            "  0.90788559         nan         nan         nan         nan         nan\n",
            "  0.90326116         nan         nan         nan         nan  0.8777065\n",
            "         nan         nan  0.90080192  0.87548784         nan         nan\n",
            "  0.90785886  0.88246458         nan         nan  0.88952152  0.8663459\n",
            "  0.87097033  0.8709436   0.89842288         nan  0.85009356  0.87089014\n",
            "  0.86629244         nan  0.91248329         nan  0.87097033  0.86853782\n",
            "  0.89615076  0.88465651         nan  0.90547982         nan         nan\n",
            "         nan  0.88468324  0.89861     0.90082866]\n",
            "  warnings.warn(\n",
            "/usr/local/lib/python3.8/dist-packages/sklearn/utils/validation.py:993: DataConversionWarning: A column-vector y was passed when a 1d array was expected. Please change the shape of y to (n_samples, ), for example using ravel().\n",
            "  y = column_or_1d(y, warn=True)\n",
            "/usr/local/lib/python3.8/dist-packages/sklearn/linear_model/_logistic.py:814: ConvergenceWarning: lbfgs failed to converge (status=1):\n",
            "STOP: TOTAL NO. of ITERATIONS REACHED LIMIT.\n",
            "\n",
            "Increase the number of iterations (max_iter) or scale the data as shown in:\n",
            "    https://scikit-learn.org/stable/modules/preprocessing.html\n",
            "Please also refer to the documentation for alternative solver options:\n",
            "    https://scikit-learn.org/stable/modules/linear_model.html#logistic-regression\n",
            "  n_iter_i = _check_optimize_result(\n",
            "/usr/local/lib/python3.8/dist-packages/sklearn/model_selection/_validation.py:372: FitFailedWarning: \n",
            "230 fits failed out of a total of 500.\n",
            "The score on these train-test partitions for these parameters will be set to nan.\n",
            "If these failures are not expected, you can try to debug them by setting error_score='raise'.\n",
            "\n",
            "Below are more details about the failures:\n",
            "--------------------------------------------------------------------------------\n",
            "230 fits failed with the following error:\n",
            "Traceback (most recent call last):\n",
            "  File \"/usr/local/lib/python3.8/dist-packages/sklearn/model_selection/_validation.py\", line 680, in _fit_and_score\n",
            "    estimator.fit(X_train, y_train, **fit_params)\n",
            "  File \"/usr/local/lib/python3.8/dist-packages/sklearn/linear_model/_logistic.py\", line 1461, in fit\n",
            "    solver = _check_solver(self.solver, self.penalty, self.dual)\n",
            "  File \"/usr/local/lib/python3.8/dist-packages/sklearn/linear_model/_logistic.py\", line 447, in _check_solver\n",
            "    raise ValueError(\n",
            "ValueError: Solver lbfgs supports only 'l2' or 'none' penalties, got l1 penalty.\n",
            "\n",
            "  warnings.warn(some_fits_failed_message, FitFailedWarning)\n",
            "/usr/local/lib/python3.8/dist-packages/sklearn/model_selection/_search.py:969: UserWarning: One or more of the test scores are non-finite: [        nan  0.85041433  0.85028067  0.86415397  0.86859129  0.87564822\n",
            "         nan         nan         nan         nan  0.87559476  0.85009356\n",
            "         nan  0.84100508  0.85733761  0.86621224         nan         nan\n",
            "  0.85728415         nan  0.87102379  0.85950281         nan  0.88005881\n",
            "         nan  0.90788559  0.85934242  0.85731088  0.87546111  0.86407378\n",
            "  0.88019246         nan         nan  0.88029939         nan         nan\n",
            "  0.87329591  0.86410051         nan         nan  0.87794707  0.86623897\n",
            "         nan         nan         nan  0.85482491  0.91242983  0.89863673\n",
            "         nan  0.88267843         nan         nan  0.8709436          nan\n",
            "  0.86658647         nan         nan         nan         nan         nan\n",
            "  0.89633788         nan         nan         nan         nan  0.87802727\n",
            "         nan         nan  0.84333066  0.85952954         nan         nan\n",
            "  0.8617482   0.8432772          nan         nan  0.90566693  0.85241914\n",
            "  0.85477145  0.90328789  0.84792836         nan  0.84792836  0.84790163\n",
            "  0.85947608         nan  0.87794707         nan  0.86185512  0.85931569\n",
            "  0.87570168  0.89647153         nan  0.89877038         nan         nan\n",
            "         nan  0.878054    0.87099706  0.82956429]\n",
            "  warnings.warn(\n",
            "/usr/local/lib/python3.8/dist-packages/sklearn/utils/validation.py:993: DataConversionWarning: A column-vector y was passed when a 1d array was expected. Please change the shape of y to (n_samples, ), for example using ravel().\n",
            "  y = column_or_1d(y, warn=True)\n",
            "/usr/local/lib/python3.8/dist-packages/sklearn/linear_model/_logistic.py:814: ConvergenceWarning: lbfgs failed to converge (status=1):\n",
            "STOP: TOTAL NO. of ITERATIONS REACHED LIMIT.\n",
            "\n",
            "Increase the number of iterations (max_iter) or scale the data as shown in:\n",
            "    https://scikit-learn.org/stable/modules/preprocessing.html\n",
            "Please also refer to the documentation for alternative solver options:\n",
            "    https://scikit-learn.org/stable/modules/linear_model.html#logistic-regression\n",
            "  n_iter_i = _check_optimize_result(\n",
            "/usr/local/lib/python3.8/dist-packages/sklearn/model_selection/_validation.py:372: FitFailedWarning: \n",
            "230 fits failed out of a total of 500.\n",
            "The score on these train-test partitions for these parameters will be set to nan.\n",
            "If these failures are not expected, you can try to debug them by setting error_score='raise'.\n",
            "\n",
            "Below are more details about the failures:\n",
            "--------------------------------------------------------------------------------\n",
            "230 fits failed with the following error:\n",
            "Traceback (most recent call last):\n",
            "  File \"/usr/local/lib/python3.8/dist-packages/sklearn/model_selection/_validation.py\", line 680, in _fit_and_score\n",
            "    estimator.fit(X_train, y_train, **fit_params)\n",
            "  File \"/usr/local/lib/python3.8/dist-packages/sklearn/linear_model/_logistic.py\", line 1461, in fit\n",
            "    solver = _check_solver(self.solver, self.penalty, self.dual)\n",
            "  File \"/usr/local/lib/python3.8/dist-packages/sklearn/linear_model/_logistic.py\", line 447, in _check_solver\n",
            "    raise ValueError(\n",
            "ValueError: Solver lbfgs supports only 'l2' or 'none' penalties, got l1 penalty.\n",
            "\n",
            "  warnings.warn(some_fits_failed_message, FitFailedWarning)\n",
            "/usr/local/lib/python3.8/dist-packages/sklearn/model_selection/_search.py:969: UserWarning: One or more of the test scores are non-finite: [        nan  0.85287356  0.85977011  0.84367816  0.85977011  0.86896552\n",
            "         nan         nan         nan         nan  0.87816092  0.88505747\n",
            "         nan  0.85977011  0.89425287  0.85057471         nan         nan\n",
            "  0.87126437         nan  0.87586207  0.84137931         nan  0.85517241\n",
            "         nan  0.85747126  0.85287356  0.85747126  0.86666667  0.84367816\n",
            "  0.87126437         nan         nan  0.85747126         nan         nan\n",
            "  0.82758621  0.84827586         nan         nan  0.90344828  0.86666667\n",
            "         nan         nan         nan  0.86666667  0.86436782  0.84367816\n",
            "         nan  0.85977011         nan         nan  0.84137931         nan\n",
            "  0.85517241         nan         nan         nan         nan         nan\n",
            "  0.85057471         nan         nan         nan         nan  0.88045977\n",
            "         nan         nan  0.86666667  0.87586207         nan         nan\n",
            "  0.84367816  0.86206897         nan         nan  0.89655172  0.85747126\n",
            "  0.85057471  0.84367816  0.84597701         nan  0.84137931  0.84137931\n",
            "  0.84827586         nan  0.86666667         nan  0.83678161  0.86666667\n",
            "  0.85287356  0.82298851         nan  0.83218391         nan         nan\n",
            "         nan  0.85517241  0.85287356  0.85517241]\n",
            "  warnings.warn(\n",
            "/usr/local/lib/python3.8/dist-packages/sklearn/utils/validation.py:993: DataConversionWarning: A column-vector y was passed when a 1d array was expected. Please change the shape of y to (n_samples, ), for example using ravel().\n",
            "  y = column_or_1d(y, warn=True)\n",
            "/usr/local/lib/python3.8/dist-packages/sklearn/linear_model/_logistic.py:814: ConvergenceWarning: lbfgs failed to converge (status=1):\n",
            "STOP: TOTAL NO. of ITERATIONS REACHED LIMIT.\n",
            "\n",
            "Increase the number of iterations (max_iter) or scale the data as shown in:\n",
            "    https://scikit-learn.org/stable/modules/preprocessing.html\n",
            "Please also refer to the documentation for alternative solver options:\n",
            "    https://scikit-learn.org/stable/modules/linear_model.html#logistic-regression\n",
            "  n_iter_i = _check_optimize_result(\n",
            "/usr/local/lib/python3.8/dist-packages/sklearn/model_selection/_validation.py:372: FitFailedWarning: \n",
            "230 fits failed out of a total of 500.\n",
            "The score on these train-test partitions for these parameters will be set to nan.\n",
            "If these failures are not expected, you can try to debug them by setting error_score='raise'.\n",
            "\n",
            "Below are more details about the failures:\n",
            "--------------------------------------------------------------------------------\n",
            "230 fits failed with the following error:\n",
            "Traceback (most recent call last):\n",
            "  File \"/usr/local/lib/python3.8/dist-packages/sklearn/model_selection/_validation.py\", line 680, in _fit_and_score\n",
            "    estimator.fit(X_train, y_train, **fit_params)\n",
            "  File \"/usr/local/lib/python3.8/dist-packages/sklearn/linear_model/_logistic.py\", line 1461, in fit\n",
            "    solver = _check_solver(self.solver, self.penalty, self.dual)\n",
            "  File \"/usr/local/lib/python3.8/dist-packages/sklearn/linear_model/_logistic.py\", line 447, in _check_solver\n",
            "    raise ValueError(\n",
            "ValueError: Solver lbfgs supports only 'l2' or 'none' penalties, got l1 penalty.\n",
            "\n",
            "  warnings.warn(some_fits_failed_message, FitFailedWarning)\n",
            "/usr/local/lib/python3.8/dist-packages/sklearn/model_selection/_search.py:969: UserWarning: One or more of the test scores are non-finite: [        nan  0.88045977  0.83678161  0.85057471  0.85057471  0.89425287\n",
            "         nan         nan         nan         nan  0.85057471  0.84827586\n",
            "         nan  0.90574713  0.85287356  0.87126437         nan         nan\n",
            "  0.84597701         nan  0.84597701  0.83448276         nan  0.87126437\n",
            "         nan  0.87816092  0.84137931  0.87356322  0.87586207  0.84137931\n",
            "  0.86206897         nan         nan  0.91954023         nan         nan\n",
            "  0.84827586  0.91724138         nan         nan  0.88045977  0.85517241\n",
            "         nan         nan         nan  0.89195402  0.87126437  0.90344828\n",
            "         nan  0.86206897         nan         nan  0.90344828         nan\n",
            "  0.86896552         nan         nan         nan         nan         nan\n",
            "  0.85977011         nan         nan         nan         nan  0.84827586\n",
            "         nan         nan  0.89655172  0.87126437         nan         nan\n",
            "  0.88505747  0.8183908          nan         nan  0.83218391  0.89655172\n",
            "  0.84367816  0.88275862  0.87586207         nan  0.87586207  0.87356322\n",
            "  0.85747126         nan  0.85747126         nan  0.87586207  0.85747126\n",
            "  0.83908046  0.88045977         nan  0.87356322         nan         nan\n",
            "         nan  0.86666667  0.86666667  0.88275862]\n",
            "  warnings.warn(\n",
            "/usr/local/lib/python3.8/dist-packages/sklearn/utils/validation.py:993: DataConversionWarning: A column-vector y was passed when a 1d array was expected. Please change the shape of y to (n_samples, ), for example using ravel().\n",
            "  y = column_or_1d(y, warn=True)\n",
            "/usr/local/lib/python3.8/dist-packages/sklearn/linear_model/_logistic.py:814: ConvergenceWarning: lbfgs failed to converge (status=1):\n",
            "STOP: TOTAL NO. of ITERATIONS REACHED LIMIT.\n",
            "\n",
            "Increase the number of iterations (max_iter) or scale the data as shown in:\n",
            "    https://scikit-learn.org/stable/modules/preprocessing.html\n",
            "Please also refer to the documentation for alternative solver options:\n",
            "    https://scikit-learn.org/stable/modules/linear_model.html#logistic-regression\n",
            "  n_iter_i = _check_optimize_result(\n",
            "/usr/local/lib/python3.8/dist-packages/sklearn/model_selection/_validation.py:372: FitFailedWarning: \n",
            "230 fits failed out of a total of 500.\n",
            "The score on these train-test partitions for these parameters will be set to nan.\n",
            "If these failures are not expected, you can try to debug them by setting error_score='raise'.\n",
            "\n",
            "Below are more details about the failures:\n",
            "--------------------------------------------------------------------------------\n",
            "230 fits failed with the following error:\n",
            "Traceback (most recent call last):\n",
            "  File \"/usr/local/lib/python3.8/dist-packages/sklearn/model_selection/_validation.py\", line 680, in _fit_and_score\n",
            "    estimator.fit(X_train, y_train, **fit_params)\n",
            "  File \"/usr/local/lib/python3.8/dist-packages/sklearn/linear_model/_logistic.py\", line 1461, in fit\n",
            "    solver = _check_solver(self.solver, self.penalty, self.dual)\n",
            "  File \"/usr/local/lib/python3.8/dist-packages/sklearn/linear_model/_logistic.py\", line 447, in _check_solver\n",
            "    raise ValueError(\n",
            "ValueError: Solver lbfgs supports only 'l2' or 'none' penalties, got l1 penalty.\n",
            "\n",
            "  warnings.warn(some_fits_failed_message, FitFailedWarning)\n",
            "/usr/local/lib/python3.8/dist-packages/sklearn/model_selection/_search.py:969: UserWarning: One or more of the test scores are non-finite: [        nan  0.91034483  0.87816092  0.89655172  0.85747126  0.84597701\n",
            "         nan         nan         nan         nan  0.88275862  0.90804598\n",
            "         nan  0.84367816  0.83448276  0.85747126         nan         nan\n",
            "  0.88735632         nan  0.85977011  0.85517241         nan  0.88045977\n",
            "         nan  0.86436782  0.85517241  0.86206897  0.86436782  0.85747126\n",
            "  0.87126437         nan         nan  0.85977011         nan         nan\n",
            "  0.89655172  0.85517241         nan         nan  0.88045977  0.85287356\n",
            "         nan         nan         nan  0.84597701  0.86666667  0.87816092\n",
            "         nan  0.89655172         nan         nan  0.84597701         nan\n",
            "  0.84597701         nan         nan         nan         nan         nan\n",
            "  0.89655172         nan         nan         nan         nan  0.86206897\n",
            "         nan         nan  0.84137931  0.83448276         nan         nan\n",
            "  0.88505747  0.89195402         nan         nan  0.88045977  0.87356322\n",
            "  0.83218391  0.86436782  0.82758621         nan  0.85287356  0.89195402\n",
            "  0.87126437         nan  0.87126437         nan  0.83908046  0.87126437\n",
            "  0.84827586  0.85287356         nan  0.85747126         nan         nan\n",
            "         nan  0.88965517  0.86206897  0.89655172]\n",
            "  warnings.warn(\n",
            "/usr/local/lib/python3.8/dist-packages/sklearn/utils/validation.py:993: DataConversionWarning: A column-vector y was passed when a 1d array was expected. Please change the shape of y to (n_samples, ), for example using ravel().\n",
            "  y = column_or_1d(y, warn=True)\n",
            "/usr/local/lib/python3.8/dist-packages/sklearn/linear_model/_logistic.py:814: ConvergenceWarning: lbfgs failed to converge (status=1):\n",
            "STOP: TOTAL NO. of ITERATIONS REACHED LIMIT.\n",
            "\n",
            "Increase the number of iterations (max_iter) or scale the data as shown in:\n",
            "    https://scikit-learn.org/stable/modules/preprocessing.html\n",
            "Please also refer to the documentation for alternative solver options:\n",
            "    https://scikit-learn.org/stable/modules/linear_model.html#logistic-regression\n",
            "  n_iter_i = _check_optimize_result(\n",
            "/usr/local/lib/python3.8/dist-packages/sklearn/model_selection/_validation.py:372: FitFailedWarning: \n",
            "230 fits failed out of a total of 500.\n",
            "The score on these train-test partitions for these parameters will be set to nan.\n",
            "If these failures are not expected, you can try to debug them by setting error_score='raise'.\n",
            "\n",
            "Below are more details about the failures:\n",
            "--------------------------------------------------------------------------------\n",
            "230 fits failed with the following error:\n",
            "Traceback (most recent call last):\n",
            "  File \"/usr/local/lib/python3.8/dist-packages/sklearn/model_selection/_validation.py\", line 680, in _fit_and_score\n",
            "    estimator.fit(X_train, y_train, **fit_params)\n",
            "  File \"/usr/local/lib/python3.8/dist-packages/sklearn/linear_model/_logistic.py\", line 1461, in fit\n",
            "    solver = _check_solver(self.solver, self.penalty, self.dual)\n",
            "  File \"/usr/local/lib/python3.8/dist-packages/sklearn/linear_model/_logistic.py\", line 447, in _check_solver\n",
            "    raise ValueError(\n",
            "ValueError: Solver lbfgs supports only 'l2' or 'none' penalties, got l1 penalty.\n",
            "\n",
            "  warnings.warn(some_fits_failed_message, FitFailedWarning)\n",
            "/usr/local/lib/python3.8/dist-packages/sklearn/model_selection/_search.py:969: UserWarning: One or more of the test scores are non-finite: [        nan  0.87356322  0.88735632  0.87356322  0.85977011  0.91954023\n",
            "         nan         nan         nan         nan  0.88965517  0.86666667\n",
            "         nan  0.88275862  0.87816092  0.85747126         nan         nan\n",
            "  0.89195402         nan  0.86436782  0.89425287         nan  0.87586207\n",
            "         nan  0.87816092  0.90574713  0.85287356  0.87356322  0.83908046\n",
            "  0.89885057         nan         nan  0.86896552         nan         nan\n",
            "  0.85747126  0.86206897         nan         nan  0.90114943  0.87356322\n",
            "         nan         nan         nan  0.88045977  0.86206897  0.83678161\n",
            "         nan  0.82758621         nan         nan  0.87816092         nan\n",
            "  0.89885057         nan         nan         nan         nan         nan\n",
            "  0.86666667         nan         nan         nan         nan  0.89655172\n",
            "         nan         nan  0.89195402  0.83218391         nan         nan\n",
            "  0.88965517  0.84137931         nan         nan  0.86896552  0.86436782\n",
            "  0.88275862  0.88735632  0.84367816         nan  0.88505747  0.88275862\n",
            "  0.83448276         nan  0.85287356         nan  0.81609195  0.86666667\n",
            "  0.88045977  0.85057471         nan  0.86206897         nan         nan\n",
            "         nan  0.88505747  0.89195402  0.90344828]\n",
            "  warnings.warn(\n",
            "/usr/local/lib/python3.8/dist-packages/sklearn/utils/validation.py:993: DataConversionWarning: A column-vector y was passed when a 1d array was expected. Please change the shape of y to (n_samples, ), for example using ravel().\n",
            "  y = column_or_1d(y, warn=True)\n",
            "/usr/local/lib/python3.8/dist-packages/sklearn/linear_model/_logistic.py:814: ConvergenceWarning: lbfgs failed to converge (status=1):\n",
            "STOP: TOTAL NO. of ITERATIONS REACHED LIMIT.\n",
            "\n",
            "Increase the number of iterations (max_iter) or scale the data as shown in:\n",
            "    https://scikit-learn.org/stable/modules/preprocessing.html\n",
            "Please also refer to the documentation for alternative solver options:\n",
            "    https://scikit-learn.org/stable/modules/linear_model.html#logistic-regression\n",
            "  n_iter_i = _check_optimize_result(\n",
            "/usr/local/lib/python3.8/dist-packages/sklearn/model_selection/_validation.py:372: FitFailedWarning: \n",
            "230 fits failed out of a total of 500.\n",
            "The score on these train-test partitions for these parameters will be set to nan.\n",
            "If these failures are not expected, you can try to debug them by setting error_score='raise'.\n",
            "\n",
            "Below are more details about the failures:\n",
            "--------------------------------------------------------------------------------\n",
            "230 fits failed with the following error:\n",
            "Traceback (most recent call last):\n",
            "  File \"/usr/local/lib/python3.8/dist-packages/sklearn/model_selection/_validation.py\", line 680, in _fit_and_score\n",
            "    estimator.fit(X_train, y_train, **fit_params)\n",
            "  File \"/usr/local/lib/python3.8/dist-packages/sklearn/linear_model/_logistic.py\", line 1461, in fit\n",
            "    solver = _check_solver(self.solver, self.penalty, self.dual)\n",
            "  File \"/usr/local/lib/python3.8/dist-packages/sklearn/linear_model/_logistic.py\", line 447, in _check_solver\n",
            "    raise ValueError(\n",
            "ValueError: Solver lbfgs supports only 'l2' or 'none' penalties, got l1 penalty.\n",
            "\n",
            "  warnings.warn(some_fits_failed_message, FitFailedWarning)\n",
            "/usr/local/lib/python3.8/dist-packages/sklearn/model_selection/_search.py:969: UserWarning: One or more of the test scores are non-finite: [        nan  0.84367816  0.85747126  0.88965517  0.88045977  0.87356322\n",
            "         nan         nan         nan         nan  0.91034483  0.87816092\n",
            "         nan  0.88505747  0.87126437  0.88735632         nan         nan\n",
            "  0.89655172         nan  0.90344828  0.88965517         nan  0.86896552\n",
            "         nan  0.87356322  0.85747126  0.90114943  0.90574713  0.86436782\n",
            "  0.90114943         nan         nan  0.91034483         nan         nan\n",
            "  0.87356322  0.87586207         nan         nan  0.88735632  0.86206897\n",
            "         nan         nan         nan  0.86436782  0.87586207  0.85977011\n",
            "         nan  0.88505747         nan         nan  0.86666667         nan\n",
            "  0.85057471         nan         nan         nan         nan         nan\n",
            "  0.86206897         nan         nan         nan         nan  0.87816092\n",
            "         nan         nan  0.86896552  0.85977011         nan         nan\n",
            "  0.92413793  0.86206897         nan         nan  0.88045977  0.90114943\n",
            "  0.83448276  0.89425287  0.87816092         nan  0.88045977  0.87356322\n",
            "  0.91724138         nan  0.88965517         nan  0.87816092  0.83678161\n",
            "  0.88045977  0.88735632         nan  0.86206897         nan         nan\n",
            "         nan  0.87126437  0.88275862  0.91034483]\n",
            "  warnings.warn(\n",
            "/usr/local/lib/python3.8/dist-packages/sklearn/utils/validation.py:993: DataConversionWarning: A column-vector y was passed when a 1d array was expected. Please change the shape of y to (n_samples, ), for example using ravel().\n",
            "  y = column_or_1d(y, warn=True)\n",
            "/usr/local/lib/python3.8/dist-packages/sklearn/linear_model/_logistic.py:814: ConvergenceWarning: lbfgs failed to converge (status=1):\n",
            "STOP: TOTAL NO. of ITERATIONS REACHED LIMIT.\n",
            "\n",
            "Increase the number of iterations (max_iter) or scale the data as shown in:\n",
            "    https://scikit-learn.org/stable/modules/preprocessing.html\n",
            "Please also refer to the documentation for alternative solver options:\n",
            "    https://scikit-learn.org/stable/modules/linear_model.html#logistic-regression\n",
            "  n_iter_i = _check_optimize_result(\n",
            "/usr/local/lib/python3.8/dist-packages/sklearn/model_selection/_validation.py:372: FitFailedWarning: \n",
            "230 fits failed out of a total of 500.\n",
            "The score on these train-test partitions for these parameters will be set to nan.\n",
            "If these failures are not expected, you can try to debug them by setting error_score='raise'.\n",
            "\n",
            "Below are more details about the failures:\n",
            "--------------------------------------------------------------------------------\n",
            "230 fits failed with the following error:\n",
            "Traceback (most recent call last):\n",
            "  File \"/usr/local/lib/python3.8/dist-packages/sklearn/model_selection/_validation.py\", line 680, in _fit_and_score\n",
            "    estimator.fit(X_train, y_train, **fit_params)\n",
            "  File \"/usr/local/lib/python3.8/dist-packages/sklearn/linear_model/_logistic.py\", line 1461, in fit\n",
            "    solver = _check_solver(self.solver, self.penalty, self.dual)\n",
            "  File \"/usr/local/lib/python3.8/dist-packages/sklearn/linear_model/_logistic.py\", line 447, in _check_solver\n",
            "    raise ValueError(\n",
            "ValueError: Solver lbfgs supports only 'l2' or 'none' penalties, got l1 penalty.\n",
            "\n",
            "  warnings.warn(some_fits_failed_message, FitFailedWarning)\n",
            "/usr/local/lib/python3.8/dist-packages/sklearn/model_selection/_search.py:969: UserWarning: One or more of the test scores are non-finite: [        nan  0.84137931  0.85747126  0.84597701  0.86436782  0.87126437\n",
            "         nan         nan         nan         nan  0.86896552  0.89885057\n",
            "         nan  0.85287356  0.87586207  0.86436782         nan         nan\n",
            "  0.87126437         nan  0.86666667  0.87356322         nan  0.87126437\n",
            "         nan  0.86436782  0.85517241  0.90344828  0.86666667  0.86206897\n",
            "  0.88275862         nan         nan  0.85977011         nan         nan\n",
            "  0.85517241  0.88965517         nan         nan  0.88965517  0.86666667\n",
            "         nan         nan         nan  0.83678161  0.84597701  0.88045977\n",
            "         nan  0.87586207         nan         nan  0.87126437         nan\n",
            "  0.87586207         nan         nan         nan         nan         nan\n",
            "  0.87586207         nan         nan         nan         nan  0.89195402\n",
            "         nan         nan  0.85517241  0.85977011         nan         nan\n",
            "  0.87586207  0.89195402         nan         nan  0.83218391  0.83678161\n",
            "  0.87586207  0.86436782  0.86896552         nan  0.85747126  0.87126437\n",
            "  0.85057471         nan  0.87356322         nan  0.87126437  0.88505747\n",
            "  0.83678161  0.87586207         nan  0.82988506         nan         nan\n",
            "         nan  0.88045977  0.88275862  0.87356322]\n",
            "  warnings.warn(\n",
            "/usr/local/lib/python3.8/dist-packages/sklearn/utils/validation.py:993: DataConversionWarning: A column-vector y was passed when a 1d array was expected. Please change the shape of y to (n_samples, ), for example using ravel().\n",
            "  y = column_or_1d(y, warn=True)\n",
            "/usr/local/lib/python3.8/dist-packages/sklearn/linear_model/_logistic.py:814: ConvergenceWarning: lbfgs failed to converge (status=1):\n",
            "STOP: TOTAL NO. of ITERATIONS REACHED LIMIT.\n",
            "\n",
            "Increase the number of iterations (max_iter) or scale the data as shown in:\n",
            "    https://scikit-learn.org/stable/modules/preprocessing.html\n",
            "Please also refer to the documentation for alternative solver options:\n",
            "    https://scikit-learn.org/stable/modules/linear_model.html#logistic-regression\n",
            "  n_iter_i = _check_optimize_result(\n"
          ]
        },
        {
          "output_type": "stream",
          "name": "stdout",
          "text": [
            "\n",
            "\n",
            "Cross-Validation Testing accuracy: 0.878 +/- 0.057\n",
            "\n",
            "\n",
            "Cross-Validation Training accuracy: 0.880 +/- 0.046\n"
          ]
        },
        {
          "output_type": "stream",
          "name": "stderr",
          "text": [
            "/usr/local/lib/python3.8/dist-packages/sklearn/model_selection/_validation.py:372: FitFailedWarning: \n",
            "230 fits failed out of a total of 500.\n",
            "The score on these train-test partitions for these parameters will be set to nan.\n",
            "If these failures are not expected, you can try to debug them by setting error_score='raise'.\n",
            "\n",
            "Below are more details about the failures:\n",
            "--------------------------------------------------------------------------------\n",
            "230 fits failed with the following error:\n",
            "Traceback (most recent call last):\n",
            "  File \"/usr/local/lib/python3.8/dist-packages/sklearn/model_selection/_validation.py\", line 680, in _fit_and_score\n",
            "    estimator.fit(X_train, y_train, **fit_params)\n",
            "  File \"/usr/local/lib/python3.8/dist-packages/sklearn/linear_model/_logistic.py\", line 1461, in fit\n",
            "    solver = _check_solver(self.solver, self.penalty, self.dual)\n",
            "  File \"/usr/local/lib/python3.8/dist-packages/sklearn/linear_model/_logistic.py\", line 447, in _check_solver\n",
            "    raise ValueError(\n",
            "ValueError: Solver lbfgs supports only 'l2' or 'none' penalties, got l1 penalty.\n",
            "\n",
            "  warnings.warn(some_fits_failed_message, FitFailedWarning)\n",
            "/usr/local/lib/python3.8/dist-packages/sklearn/model_selection/_search.py:969: UserWarning: One or more of the test scores are non-finite: [        nan  0.85747126  0.84827586  0.87586207  0.92183908  0.84367816\n",
            "         nan         nan         nan         nan  0.87816092  0.88965517\n",
            "         nan  0.84137931  0.88505747  0.90344828         nan         nan\n",
            "  0.87586207         nan  0.88505747  0.85057471         nan  0.88275862\n",
            "         nan  0.86896552  0.84597701  0.84827586  0.87816092  0.90114943\n",
            "  0.87356322         nan         nan  0.86436782         nan         nan\n",
            "  0.85057471  0.88275862         nan         nan  0.90574713  0.87356322\n",
            "         nan         nan         nan  0.85747126  0.87586207  0.91954023\n",
            "         nan  0.90344828         nan         nan  0.85057471         nan\n",
            "  0.88735632         nan         nan         nan         nan         nan\n",
            "  0.90114943         nan         nan         nan         nan  0.85747126\n",
            "         nan         nan  0.87586207  0.87356322         nan         nan\n",
            "  0.87586207  0.88505747         nan         nan  0.85287356  0.86666667\n",
            "  0.84367816  0.89195402  0.85977011         nan  0.85517241  0.84367816\n",
            "  0.86896552         nan  0.85057471         nan  0.86896552  0.85287356\n",
            "  0.85517241  0.87126437         nan  0.88965517         nan         nan\n",
            "         nan  0.85747126  0.85287356  0.87126437]\n",
            "  warnings.warn(\n",
            "/usr/local/lib/python3.8/dist-packages/sklearn/utils/validation.py:993: DataConversionWarning: A column-vector y was passed when a 1d array was expected. Please change the shape of y to (n_samples, ), for example using ravel().\n",
            "  y = column_or_1d(y, warn=True)\n",
            "/usr/local/lib/python3.8/dist-packages/sklearn/linear_model/_logistic.py:814: ConvergenceWarning: lbfgs failed to converge (status=1):\n",
            "STOP: TOTAL NO. of ITERATIONS REACHED LIMIT.\n",
            "\n",
            "Increase the number of iterations (max_iter) or scale the data as shown in:\n",
            "    https://scikit-learn.org/stable/modules/preprocessing.html\n",
            "Please also refer to the documentation for alternative solver options:\n",
            "    https://scikit-learn.org/stable/modules/linear_model.html#logistic-regression\n",
            "  n_iter_i = _check_optimize_result(\n"
          ]
        }
      ],
      "source": [
        "from sklearn.model_selection import StratifiedKFold\n",
        "\n",
        "strtfdKFold = StratifiedKFold(n_splits=10)\n",
        "kfold = strtfdKFold.split(X_train, y_train)\n",
        "scores = []\n",
        "scores_training = []\n",
        "for k, (train, test) in enumerate(kfold):\n",
        "  best_model.fit(X_train.iloc[train, :], y_train.iloc[train])\n",
        "  score = best_model.score(X_train.iloc[test, :], y_train.iloc[test])\n",
        "\n",
        "  sc_train = clf.score(X_train.iloc[train, :], y_train.iloc[train])\n",
        "  scores.append(score)\n",
        "  scores_training.append(sc_train)\n",
        "  # print('Fold: %2d, Training/Test Split Distribution: %s, Accuracy: %.3f' % (k+1, np.bincount(y_train.iloc[train]), score))\n",
        "\n",
        "print('\\n\\nCross-Validation Testing accuracy: %.3f +/- %.3f' %(np.mean(scores), np.std(scores)))\n",
        "print('\\n\\nCross-Validation Training accuracy: %.3f +/- %.3f' %(np.mean(scores_training), np.std(scores_training)))"
      ]
    },
    {
      "cell_type": "code",
      "execution_count": null,
      "metadata": {
        "colab": {
          "base_uri": "https://localhost:8080/"
        },
        "outputId": "f035134a-a58d-49ae-d4d3-55f76fbceb46",
        "id": "cMwp6sZEQyvD"
      },
      "outputs": [
        {
          "output_type": "stream",
          "name": "stdout",
          "text": [
            "\n",
            "\n",
            "Cross-Validation accuracy: 0.878 +/- 0.057\n"
          ]
        }
      ],
      "source": [
        "\n",
        "print('\\n\\nCross-Validation accuracy: %.3f +/- %.3f' %(np.mean(scores), np.std(scores)))"
      ]
    },
    {
      "cell_type": "code",
      "execution_count": null,
      "metadata": {
        "colab": {
          "base_uri": "https://localhost:8080/"
        },
        "outputId": "cc66d063-d8d4-47cd-e6f9-72595a64454f",
        "id": "x_baEnkRQyvE"
      },
      "outputs": [
        {
          "output_type": "stream",
          "name": "stdout",
          "text": [
            "Testing accuracy  0.834710743802\n",
            "Training accuracy  0.863354037267\n"
          ]
        }
      ],
      "source": [
        "#accuracy of model\n",
        "from sklearn.metrics import accuracy_score, confusion_matrix\n",
        "\n",
        "print(\"Testing accuracy \" ,accuracy_score(y_test,y_pred))\n",
        "\n",
        "print(\"Training accuracy \" ,accuracy_score(y_train,y_pred_train))\n"
      ]
    },
    {
      "cell_type": "code",
      "execution_count": null,
      "metadata": {
        "colab": {
          "base_uri": "https://localhost:8080/"
        },
        "outputId": "53ed06eb-f671-49fe-b9ff-6b28af7152fe",
        "id": "S3gVOmsOQyvF"
      },
      "outputs": [
        {
          "output_type": "stream",
          "name": "stdout",
          "text": [
            "              precision    recall  f1-score   support\n",
            "\n",
            "           0       0.56      0.82      0.67        11\n",
            "           1       0.91      0.95      0.93        94\n",
            "           2       0.43      0.19      0.26        16\n",
            "\n",
            "    accuracy                           0.83       121\n",
            "   macro avg       0.63      0.65      0.62       121\n",
            "weighted avg       0.81      0.83      0.82       121\n",
            "\n",
            "F1 score :  0.815314708348\n",
            "Precision score :  0.813322229718\n"
          ]
        }
      ],
      "source": [
        "report = classification_report(y_test, y_pred)\n",
        "\n",
        "print(report)\n",
        "\n",
        "# f1 score metrics\n",
        "f1_score_value = f1_score(y_test,y_pred,average='weighted')\n",
        "print(\"F1 score : \", f1_score_value)\n",
        "\n",
        "# precision metrics\n",
        "precision_score_value = precision_score(y_test,y_pred,average='weighted')\n",
        "print(\"Precision score : \", precision_score_value)\n"
      ]
    },
    {
      "cell_type": "markdown",
      "metadata": {
        "id": "ai2aeCWNQyvH"
      },
      "source": [
        "### Logistic regression feature importance"
      ]
    },
    {
      "cell_type": "code",
      "execution_count": null,
      "metadata": {
        "colab": {
          "base_uri": "https://localhost:8080/"
        },
        "outputId": "ffa26dc4-0d92-4f1e-c5c7-0481c8c51631",
        "id": "TOPiL0JHQyvI"
      },
      "outputs": [
        {
          "output_type": "execute_result",
          "data": {
            "text/plain": [
              "Overall Score                  0.052174\n",
              "Teaching Score                 0.163147\n",
              "Research Score                 0.215942\n",
              "Citations Score               -0.007453\n",
              "Industy Income Score           0.031470\n",
              "International Outlook Score   -0.005383\n",
              "dtype: float64"
            ]
          },
          "metadata": {},
          "execution_count": 227
        }
      ],
      "source": [
        "# feature importance based on logistic regression model\n",
        "\n",
        "from sklearn.inspection import permutation_importance\n",
        "feature_score_logistic_reg = permutation_importance(best_model, X_train, y_train, n_repeats=10,\n",
        "                           random_state=0)\n",
        "logistic_feature_score = pd.Series(feature_score_logistic_reg.importances_mean, index=['Overall Score', \t'Teaching Score', \t'Research Score' \t,'Citations Score', \t'Industy Income Score', \t'International Outlook Score'])\n",
        "\n",
        "logistic_feature_score"
      ]
    },
    {
      "cell_type": "code",
      "execution_count": null,
      "metadata": {
        "colab": {
          "base_uri": "https://localhost:8080/",
          "height": 1000
        },
        "outputId": "8dab91d3-fcc0-4c6d-9e15-07996edd0470",
        "id": "3s5GD2gPQyvJ"
      },
      "outputs": [
        {
          "output_type": "display_data",
          "data": {
            "text/plain": [
              "<Figure size 2160x1440 with 1 Axes>"
            ],
            "image/png": "[encoded data removed]"
          },
          "metadata": {}
        }
      ],
      "source": [
        "# plotting feature importance of the decision_tree\n",
        "\n",
        "plt.figure(figsize=(30,20))\n",
        "plt.bar(logistic_feature_score.index,logistic_feature_score,color = \"darkorange\")\n",
        "plt.xlabel(\"Logistic regression feature importance\")\n",
        "\n",
        "plt.show()\n"
      ]
    },
    {
      "cell_type": "markdown",
      "metadata": {
        "id": "pcWUiv3Wk5t5"
      },
      "source": [
        "## Decision tree Model"
      ]
    },
    {
      "cell_type": "code",
      "execution_count": null,
      "metadata": {
        "id": "BPHHi8Hbk5t8"
      },
      "outputs": [],
      "source": [
        "# Decision Tree Model\n",
        "X_train_dt = X_train.drop(['Overall Score'],axis=1)\n",
        "X_test_dt = X_test.drop(['Overall Score'],axis=1)\n",
        "\n",
        "dtModel = DecisionTreeClassifier()\n",
        "dtModel.fit(X_train_dt,y_train)\n",
        "\n",
        "# predicting the test dataset\n",
        "y_pred = dtModel.predict(X_test_dt)"
      ]
    },
    {
      "cell_type": "markdown",
      "metadata": {
        "id": "M7mrsdE8c-Lg"
      },
      "source": [
        "### K Fold cross validation and metrics"
      ]
    },
    {
      "cell_type": "code",
      "execution_count": null,
      "metadata": {
        "colab": {
          "base_uri": "https://localhost:8080/"
        },
        "id": "CTaGr_Ubc-Li",
        "outputId": "be285861-ad21-4491-fdc2-bfc8c5b35e3a"
      },
      "outputs": [
        {
          "output_type": "stream",
          "name": "stdout",
          "text": [
            "\n",
            "\n",
            "Cross-Validation Testing accuracy: 0.967 +/- 0.025\n",
            "\n",
            "\n",
            "Cross-Validation Training accuracy: 1.000 +/- 0.000\n"
          ]
        }
      ],
      "source": [
        "from sklearn.model_selection import StratifiedKFold\n",
        "\n",
        "# 10 Fold Cross validation\n",
        "strtfdKFold = StratifiedKFold(n_splits=10)\n",
        "kfold = strtfdKFold.split(X_train_dt, y_train)\n",
        "scores = []\n",
        "scores_training =[]\n",
        "for k, (train, test) in enumerate(kfold):\n",
        "  dtModel.fit(X_train_dt.iloc[train, :], y_train.iloc[train])\n",
        "  score = dtModel.score(X_train_dt.iloc[test, :], y_train.iloc[test])\n",
        "\n",
        "  sc_train = dtModel.score(X_train_dt.iloc[train, :], y_train.iloc[train])\n",
        "  scores.append(score)\n",
        "  scores_training.append(sc_train)\n",
        "  # print('Fold: %2d, Training/Test Split Distribution: %s, Accuracy: %.3f' % (k+1, np.bincount(y_train.iloc[train]), score))\n",
        "\n",
        "print('\\n\\nCross-Validation Testing accuracy: %.3f +/- %.3f' %(np.mean(scores), np.std(scores)))\n",
        "print('\\n\\nCross-Validation Training accuracy: %.3f +/- %.3f' %(np.mean(scores_training), np.std(scores_training)))"
      ]
    },
    {
      "cell_type": "code",
      "execution_count": null,
      "metadata": {
        "colab": {
          "base_uri": "https://localhost:8080/"
        },
        "id": "_7PednUWc-Lj",
        "outputId": "51907c31-c4e3-4485-9a77-7449227abe98"
      },
      "outputs": [
        {
          "output_type": "stream",
          "name": "stdout",
          "text": [
            "\n",
            "\n",
            "Cross-Validation accuracy: 0.967 +/- 0.025\n"
          ]
        }
      ],
      "source": [
        "\n",
        "print('\\n\\nCross-Validation accuracy: %.3f +/- %.3f' %(np.mean(scores), np.std(scores)))"
      ]
    },
    {
      "cell_type": "code",
      "execution_count": null,
      "metadata": {
        "colab": {
          "base_uri": "https://localhost:8080/"
        },
        "id": "zrdVZZtMc-Lk",
        "outputId": "bffc823a-cf87-4317-ac14-518a65bbe21b"
      },
      "outputs": [
        {
          "output_type": "stream",
          "name": "stdout",
          "text": [
            "Accuracy Score :  0.99173553719\n"
          ]
        }
      ],
      "source": [
        "# accuracy score\n",
        "accLRModel = accuracy_score(y_test,y_pred)\n",
        "print(\"Accuracy Score : \", accLRModel)"
      ]
    },
    {
      "cell_type": "code",
      "execution_count": null,
      "metadata": {
        "colab": {
          "base_uri": "https://localhost:8080/"
        },
        "id": "Y7LJ1yvcc-Lk",
        "outputId": "134de854-bd8d-4db7-b0e4-32a00e61c3af"
      },
      "outputs": [
        {
          "output_type": "stream",
          "name": "stdout",
          "text": [
            "              precision    recall  f1-score   support\n",
            "\n",
            "           0       1.00      1.00      1.00        11\n",
            "           1       0.99      1.00      0.99        94\n",
            "           2       1.00      0.94      0.97        16\n",
            "\n",
            "    accuracy                           0.99       121\n",
            "   macro avg       1.00      0.98      0.99       121\n",
            "weighted avg       0.99      0.99      0.99       121\n",
            "\n",
            "F1 score :  0.991624103061\n",
            "Precision score :  0.991822531535\n"
          ]
        }
      ],
      "source": [
        "report = classification_report(y_test, y_pred)\n",
        "\n",
        "print(report)\n",
        "\n",
        "# f1 score metrics\n",
        "f1_score_value = f1_score(y_test,y_pred,average='weighted')\n",
        "print(\"F1 score : \", f1_score_value)\n",
        "\n",
        "# precision metrics\n",
        "precision_score_value = precision_score(y_test,y_pred,average='weighted')\n",
        "print(\"Precision score : \", precision_score_value)\n"
      ]
    },
    {
      "cell_type": "markdown",
      "metadata": {
        "id": "ehXX8hX8KyV6"
      },
      "source": [
        "### Decision tree feature importance"
      ]
    },
    {
      "cell_type": "code",
      "execution_count": null,
      "metadata": {
        "colab": {
          "base_uri": "https://localhost:8080/"
        },
        "id": "daVvqSgyIUZw",
        "outputId": "742e4ee3-12fe-4522-b59e-f7cef18a6225"
      },
      "outputs": [
        {
          "output_type": "execute_result",
          "data": {
            "text/plain": [
              "Research Score                 0.613989\n",
              "Teaching Score                 0.229509\n",
              "Citations Score                0.149053\n",
              "International Outlook Score    0.007449\n",
              "Industy Income Score           0.000000\n",
              "dtype: float64"
            ]
          },
          "metadata": {},
          "execution_count": 255
        }
      ],
      "source": [
        "dt_feature_imp = pd.Series(dtModel.feature_importances_, index=['Teaching Score', \t'Research Score' \t,'Citations Score', \t'Industy Income Score', \t'International Outlook Score']).sort_values(ascending=False)\n",
        "\n",
        "dt_feature_imp"
      ]
    },
    {
      "cell_type": "code",
      "execution_count": null,
      "metadata": {
        "colab": {
          "base_uri": "https://localhost:8080/",
          "height": 595
        },
        "id": "bO0InsZ5Iuiy",
        "outputId": "b7ea8902-ac91-4df0-f9ed-1dd7d3c1bca2"
      },
      "outputs": [
        {
          "output_type": "display_data",
          "data": {
            "text/plain": [
              "<Figure size 1440x648 with 1 Axes>"
            ],
            "image/png": "[encoded data removed]"
          },
          "metadata": {}
        }
      ],
      "source": [
        "# plotting feature importance of the decision_tree\n",
        "\n",
        "plt.figure(figsize=(20, 9))\n",
        "plt.bar(dt_feature_imp.index,dt_feature_imp, color = \"darkorange\")\n",
        "plt.xlabel(\"Decision tree feature importance\")\n",
        "\n",
        "plt.show()\n"
      ]
    },
    {
      "cell_type": "markdown",
      "metadata": {
        "id": "KOyU3u2GeJBd"
      },
      "source": [
        "## Hyper parameter tuning"
      ]
    },
    {
      "cell_type": "code",
      "execution_count": null,
      "metadata": {
        "id": "PhjgonCGeLye"
      },
      "outputs": [],
      "source": [
        "from scipy.stats import randint\n",
        "\n",
        "from sklearn.model_selection import RandomizedSearchCV\n",
        "dtModel = DecisionTreeClassifier()\n",
        "\n",
        "params = {\n",
        "    'max_depth': [2, 3, 5, 10, 20],\n",
        "    'min_samples_leaf': [5, 10, 20, 50, 100],\n",
        "    'criterion': [\"gini\", \"entropy\"]\n",
        "}\n",
        "\n",
        "best_model = RandomizedSearchCV(dtModel,\n",
        "                        param_distributions=params,\n",
        "                        n_iter=2,\n",
        "                        cv=3,\n",
        "                        n_jobs=-1,\n",
        "                        )\n",
        "\n",
        "best_model_dt = best_model.fit(X_train_dt, y_train)"
      ]
    },
    {
      "cell_type": "code",
      "execution_count": null,
      "metadata": {
        "colab": {
          "base_uri": "https://localhost:8080/"
        },
        "id": "d_ChkHHZgr11",
        "outputId": "32bb29af-d625-4c0c-f712-a6ebc3830a73"
      },
      "outputs": [
        {
          "output_type": "execute_result",
          "data": {
            "text/plain": [
              "{'min_samples_leaf': 5, 'max_depth': 3, 'criterion': 'gini'}"
            ]
          },
          "metadata": {},
          "execution_count": 258
        }
      ],
      "source": [
        "best_model_dt.best_params_"
      ]
    },
    {
      "cell_type": "code",
      "execution_count": null,
      "metadata": {
        "id": "W-qD4xatgagC"
      },
      "outputs": [],
      "source": [
        "# predicting the test dataset\n",
        "y_pred = best_model_dt.predict(X_test_dt)\n",
        "\n",
        "y_pred_train = best_model_dt.predict(X_train_dt)"
      ]
    },
    {
      "cell_type": "markdown",
      "metadata": {
        "id": "xYdkrG4tQ2Ix"
      },
      "source": [
        "### K Fold cross validation and metrics"
      ]
    },
    {
      "cell_type": "code",
      "execution_count": null,
      "metadata": {
        "colab": {
          "base_uri": "https://localhost:8080/"
        },
        "outputId": "f582a7a6-41f0-4dce-868d-75b032e726cb",
        "id": "20LrOvd_Q2Ix"
      },
      "outputs": [
        {
          "output_type": "stream",
          "name": "stdout",
          "text": [
            "\n",
            "\n",
            "Cross-Validation Testing accuracy: 0.923 +/- 0.026\n",
            "\n",
            "\n",
            "Cross-Validation Training accuracy: 0.949 +/- 0.011\n"
          ]
        }
      ],
      "source": [
        "from sklearn.model_selection import StratifiedKFold\n",
        "\n",
        "# 10 Fold Cross validation\n",
        "strtfdKFold = StratifiedKFold(n_splits=10)\n",
        "kfold = strtfdKFold.split(X_train_dt, y_train)\n",
        "scores = []\n",
        "scores_training =[]\n",
        "for k, (train, test) in enumerate(kfold):\n",
        "  best_model_dt.fit(X_train_dt.iloc[train, :], y_train.iloc[train])\n",
        "  score = best_model_dt.score(X_train_dt.iloc[test, :], y_train.iloc[test])\n",
        "\n",
        "  sc_train = best_model_dt.score(X_train_dt.iloc[train, :], y_train.iloc[train])\n",
        "  scores.append(score)\n",
        "  scores_training.append(sc_train)\n",
        "  # print('Fold: %2d, Training/Test Split Distribution: %s, Accuracy: %.3f' % (k+1, np.bincount(y_train.iloc[train]), score))\n",
        "\n",
        "print('\\n\\nCross-Validation Testing accuracy: %.3f +/- %.3f' %(np.mean(scores), np.std(scores)))\n",
        "print('\\n\\nCross-Validation Training accuracy: %.3f +/- %.3f' %(np.mean(scores_training), np.std(scores_training)))"
      ]
    },
    {
      "cell_type": "code",
      "execution_count": null,
      "metadata": {
        "colab": {
          "base_uri": "https://localhost:8080/"
        },
        "outputId": "0ec6867d-b765-448b-d9b1-dfacdde4b92d",
        "id": "829dcU1BQ2Iy"
      },
      "outputs": [
        {
          "output_type": "stream",
          "name": "stdout",
          "text": [
            "\n",
            "\n",
            "Cross-Validation accuracy: 0.923 +/- 0.026\n"
          ]
        }
      ],
      "source": [
        "\n",
        "print('\\n\\nCross-Validation accuracy: %.3f +/- %.3f' %(np.mean(scores), np.std(scores)))"
      ]
    },
    {
      "cell_type": "code",
      "execution_count": null,
      "metadata": {
        "colab": {
          "base_uri": "https://localhost:8080/"
        },
        "outputId": "1c6cfa76-db4f-4cb2-a894-03eae58a400e",
        "id": "bMTSc5y8Q2Iz"
      },
      "outputs": [
        {
          "output_type": "stream",
          "name": "stdout",
          "text": [
            "Testing accuracy  0.95041322314\n",
            "Training accuracy  0.968944099379\n"
          ]
        }
      ],
      "source": [
        "#accuracy of model\n",
        "from sklearn.metrics import accuracy_score, confusion_matrix\n",
        "\n",
        "print(\"Testing accuracy \" ,accuracy_score(y_test,y_pred))\n",
        "\n",
        "print(\"Training accuracy \" ,accuracy_score(y_train,y_pred_train))\n"
      ]
    },
    {
      "cell_type": "code",
      "execution_count": null,
      "metadata": {
        "colab": {
          "base_uri": "https://localhost:8080/"
        },
        "outputId": "346db33e-6a64-44dc-961c-8a6002a4ff6e",
        "id": "gkmiOk8TQ2Iz"
      },
      "outputs": [
        {
          "output_type": "stream",
          "name": "stdout",
          "text": [
            "              precision    recall  f1-score   support\n",
            "\n",
            "           0       1.00      0.91      0.95        11\n",
            "           1       0.95      1.00      0.97        94\n",
            "           2       0.92      0.69      0.79        16\n",
            "\n",
            "    accuracy                           0.95       121\n",
            "   macro avg       0.96      0.87      0.90       121\n",
            "weighted avg       0.95      0.95      0.95       121\n",
            "\n",
            "F1 score :  0.947209800719\n",
            "Precision score :  0.949745387762\n"
          ]
        }
      ],
      "source": [
        "report = classification_report(y_test, y_pred)\n",
        "\n",
        "print(report)\n",
        "\n",
        "# f1 score metrics\n",
        "f1_score_value = f1_score(y_test,y_pred,average='weighted')\n",
        "print(\"F1 score : \", f1_score_value)\n",
        "\n",
        "# precision metrics\n",
        "precision_score_value = precision_score(y_test,y_pred,average='weighted')\n",
        "print(\"Precision score : \", precision_score_value)\n"
      ]
    },
    {
      "cell_type": "markdown",
      "metadata": {
        "id": "Q0xdh2hJQ2I2"
      },
      "source": [
        "### Decision tree feature importance"
      ]
    },
    {
      "cell_type": "code",
      "execution_count": null,
      "metadata": {
        "colab": {
          "base_uri": "https://localhost:8080/"
        },
        "id": "iRe8kd1Dgl7-",
        "outputId": "12b4c5e0-22fb-4736-a82f-718b8bdcd488"
      },
      "outputs": [
        {
          "output_type": "execute_result",
          "data": {
            "text/plain": [
              "{'min_samples_leaf': 5, 'max_depth': 2, 'criterion': 'entropy'}"
            ]
          },
          "metadata": {},
          "execution_count": 265
        }
      ],
      "source": [
        "best_model_dt.best_params_"
      ]
    },
    {
      "cell_type": "code",
      "execution_count": null,
      "metadata": {
        "id": "PVTUsxEzg8Es"
      },
      "outputs": [],
      "source": [
        "dt = DecisionTreeClassifier(min_samples_leaf=5,max_depth=20,criterion='entropy')"
      ]
    },
    {
      "cell_type": "code",
      "execution_count": null,
      "metadata": {
        "colab": {
          "base_uri": "https://localhost:8080/"
        },
        "id": "KRjnkvdDhEn5",
        "outputId": "582d00a5-9edf-45fe-a2bc-c07378df4549"
      },
      "outputs": [
        {
          "output_type": "execute_result",
          "data": {
            "text/plain": [
              "DecisionTreeClassifier(criterion='entropy', max_depth=20, min_samples_leaf=5)"
            ]
          },
          "metadata": {},
          "execution_count": 267
        }
      ],
      "source": [
        "dt.fit(X_train_dt,y_train)"
      ]
    },
    {
      "cell_type": "code",
      "execution_count": null,
      "metadata": {
        "colab": {
          "base_uri": "https://localhost:8080/"
        },
        "outputId": "883f2644-573c-4b8c-d46f-98e4bb622ecc",
        "id": "72PFBGPKQ2I3"
      },
      "outputs": [
        {
          "output_type": "execute_result",
          "data": {
            "text/plain": [
              "Research Score                 0.678047\n",
              "Teaching Score                 0.164359\n",
              "Citations Score                0.122707\n",
              "Industy Income Score           0.018619\n",
              "International Outlook Score    0.016268\n",
              "dtype: float64"
            ]
          },
          "metadata": {},
          "execution_count": 268
        }
      ],
      "source": [
        "dt_feature_imp = pd.Series(dt.feature_importances_, index=['Teaching Score', \t'Research Score' \t,'Citations Score', \t'Industy Income Score', \t'International Outlook Score']).sort_values(ascending=False)\n",
        "\n",
        "dt_feature_imp"
      ]
    },
    {
      "cell_type": "code",
      "execution_count": null,
      "metadata": {
        "colab": {
          "base_uri": "https://localhost:8080/",
          "height": 534
        },
        "outputId": "1e76d39d-8de1-4974-9f2c-461c382c4141",
        "id": "2xDPZv48Q2I4"
      },
      "outputs": [
        {
          "output_type": "display_data",
          "data": {
            "text/plain": [
              "<Figure size 2160x720 with 1 Axes>"
            ],
            "image/png": "[encoded data removed]"
          },
          "metadata": {}
        }
      ],
      "source": [
        "# plotting feature importance of the decision_tree\n",
        "\n",
        "plt.figure(figsize=(30,10))\n",
        "plt.bar(dt_feature_imp.index,dt_feature_imp, color = \"darkorange\")\n",
        "plt.xlabel(\"Decision tree feature importance\")\n",
        "\n",
        "plt.show()\n"
      ]
    },
    {
      "cell_type": "markdown",
      "metadata": {
        "id": "E2Lgy-Agyk2i"
      },
      "source": [
        "## Random Forest Classifier"
      ]
    },
    {
      "cell_type": "code",
      "execution_count": null,
      "metadata": {
        "colab": {
          "base_uri": "https://localhost:8080/"
        },
        "id": "1fmbTpLREOfH",
        "outputId": "211a49e7-a6fb-45a2-d774-fc16c57778c2"
      },
      "outputs": [
        {
          "output_type": "stream",
          "name": "stderr",
          "text": [
            "<ipython-input-271-6097540de6e0>:7: DataConversionWarning: A column-vector y was passed when a 1d array was expected. Please change the shape of y to (n_samples,), for example using ravel().\n",
            "  clf.fit(X_train, y_train)\n"
          ]
        }
      ],
      "source": [
        "#Random forest classifier\n",
        "from sklearn.ensemble import RandomForestClassifier\n",
        "\n",
        "clf=RandomForestClassifier(n_estimators=100)\n",
        "\n",
        "#fitting the data\n",
        "clf.fit(X_train, y_train)\n",
        "\n",
        "#predicting\n",
        "y_pred = clf.predict(X_test)\n",
        "\n",
        "\n",
        "y_pred_train = clf.predict(X_train)"
      ]
    },
    {
      "cell_type": "markdown",
      "metadata": {
        "id": "UA7um7aSdAQY"
      },
      "source": [
        "### K Fold cross validation and metrics"
      ]
    },
    {
      "cell_type": "code",
      "execution_count": null,
      "metadata": {
        "colab": {
          "base_uri": "https://localhost:8080/"
        },
        "id": "IcaiPA5edAQa",
        "outputId": "1b5a10da-e74d-4539-979c-8a81644df123"
      },
      "outputs": [
        {
          "output_type": "stream",
          "name": "stderr",
          "text": [
            "<ipython-input-272-66b995037615>:8: DataConversionWarning: A column-vector y was passed when a 1d array was expected. Please change the shape of y to (n_samples,), for example using ravel().\n",
            "  clf.fit(X_train.iloc[train, :], y_train.iloc[train])\n",
            "<ipython-input-272-66b995037615>:8: DataConversionWarning: A column-vector y was passed when a 1d array was expected. Please change the shape of y to (n_samples,), for example using ravel().\n",
            "  clf.fit(X_train.iloc[train, :], y_train.iloc[train])\n",
            "<ipython-input-272-66b995037615>:8: DataConversionWarning: A column-vector y was passed when a 1d array was expected. Please change the shape of y to (n_samples,), for example using ravel().\n",
            "  clf.fit(X_train.iloc[train, :], y_train.iloc[train])\n",
            "<ipython-input-272-66b995037615>:8: DataConversionWarning: A column-vector y was passed when a 1d array was expected. Please change the shape of y to (n_samples,), for example using ravel().\n",
            "  clf.fit(X_train.iloc[train, :], y_train.iloc[train])\n",
            "<ipython-input-272-66b995037615>:8: DataConversionWarning: A column-vector y was passed when a 1d array was expected. Please change the shape of y to (n_samples,), for example using ravel().\n",
            "  clf.fit(X_train.iloc[train, :], y_train.iloc[train])\n",
            "<ipython-input-272-66b995037615>:8: DataConversionWarning: A column-vector y was passed when a 1d array was expected. Please change the shape of y to (n_samples,), for example using ravel().\n",
            "  clf.fit(X_train.iloc[train, :], y_train.iloc[train])\n",
            "<ipython-input-272-66b995037615>:8: DataConversionWarning: A column-vector y was passed when a 1d array was expected. Please change the shape of y to (n_samples,), for example using ravel().\n",
            "  clf.fit(X_train.iloc[train, :], y_train.iloc[train])\n",
            "<ipython-input-272-66b995037615>:8: DataConversionWarning: A column-vector y was passed when a 1d array was expected. Please change the shape of y to (n_samples,), for example using ravel().\n",
            "  clf.fit(X_train.iloc[train, :], y_train.iloc[train])\n",
            "<ipython-input-272-66b995037615>:8: DataConversionWarning: A column-vector y was passed when a 1d array was expected. Please change the shape of y to (n_samples,), for example using ravel().\n",
            "  clf.fit(X_train.iloc[train, :], y_train.iloc[train])\n",
            "<ipython-input-272-66b995037615>:8: DataConversionWarning: A column-vector y was passed when a 1d array was expected. Please change the shape of y to (n_samples,), for example using ravel().\n",
            "  clf.fit(X_train.iloc[train, :], y_train.iloc[train])\n"
          ]
        },
        {
          "output_type": "stream",
          "name": "stdout",
          "text": [
            "\n",
            "\n",
            "Cross-Validation Testing accuracy: 0.981 +/- 0.014\n",
            "\n",
            "\n",
            "Cross-Validation Training accuracy: 1.000 +/- 0.000\n"
          ]
        }
      ],
      "source": [
        "from sklearn.model_selection import StratifiedKFold\n",
        "\n",
        "strtfdKFold = StratifiedKFold(n_splits=10)\n",
        "kfold = strtfdKFold.split(X_train, y_train)\n",
        "scores = []\n",
        "scores_training =[]\n",
        "for k, (train, test) in enumerate(kfold):\n",
        "  clf.fit(X_train.iloc[train, :], y_train.iloc[train])\n",
        "  score = clf.score(X_train.iloc[test, :], y_train.iloc[test])\n",
        "  sc_train = clf.score(X_train.iloc[train, :], y_train.iloc[train])\n",
        "  scores.append(score)\n",
        "  scores_training.append(sc_train)\n",
        "  # print('Fold: %2d, Training/Test Split Distribution: %s, Accuracy: %.3f' % (k+1, np.bincount(y_train.iloc[train]), score))\n",
        "\n",
        "print('\\n\\nCross-Validation Testing accuracy: %.3f +/- %.3f' %(np.mean(scores), np.std(scores)))\n",
        "print('\\n\\nCross-Validation Training accuracy: %.3f +/- %.3f' %(np.mean(scores_training), np.std(scores_training)))"
      ]
    },
    {
      "cell_type": "code",
      "execution_count": null,
      "metadata": {
        "colab": {
          "base_uri": "https://localhost:8080/"
        },
        "id": "JmxdRm2XdAQa",
        "outputId": "a0041b8b-95b7-460c-9c96-112025b82215"
      },
      "outputs": [
        {
          "output_type": "stream",
          "name": "stdout",
          "text": [
            "\n",
            "\n",
            "Cross-Validation accuracy: 0.981 +/- 0.014\n"
          ]
        }
      ],
      "source": [
        "\n",
        "print('\\n\\nCross-Validation accuracy: %.3f +/- %.3f' %(np.mean(scores), np.std(scores)))"
      ]
    },
    {
      "cell_type": "code",
      "execution_count": null,
      "metadata": {
        "colab": {
          "base_uri": "https://localhost:8080/"
        },
        "id": "rhxsDDRqEQkO",
        "outputId": "083ffd08-ed8d-4c10-dce0-fea6a975ada7"
      },
      "outputs": [
        {
          "output_type": "execute_result",
          "data": {
            "text/plain": [
              "1.0"
            ]
          },
          "metadata": {},
          "execution_count": 274
        }
      ],
      "source": [
        "#accuracy of model\n",
        "from sklearn.metrics import accuracy_score, confusion_matrix\n",
        "\n",
        "accuracy_score(y_test,y_pred )"
      ]
    },
    {
      "cell_type": "code",
      "execution_count": null,
      "metadata": {
        "colab": {
          "base_uri": "https://localhost:8080/"
        },
        "id": "LYYJ1vmSlDi0",
        "outputId": "fea15b00-0bbd-4f4e-9b9c-1d2a8f73f960"
      },
      "outputs": [
        {
          "output_type": "stream",
          "name": "stdout",
          "text": [
            "              precision    recall  f1-score   support\n",
            "\n",
            "           0       1.00      1.00      1.00        11\n",
            "           1       1.00      1.00      1.00        94\n",
            "           2       1.00      1.00      1.00        16\n",
            "\n",
            "    accuracy                           1.00       121\n",
            "   macro avg       1.00      1.00      1.00       121\n",
            "weighted avg       1.00      1.00      1.00       121\n",
            "\n",
            "F1 score :  1.0\n",
            "Precision score :  1.0\n"
          ]
        }
      ],
      "source": [
        "report = classification_report(y_test, y_pred)\n",
        "\n",
        "print(report)\n",
        "\n",
        "# f1 score metrics\n",
        "f1_score_value = f1_score(y_test,y_pred,average='weighted')\n",
        "print(\"F1 score : \", f1_score_value)\n",
        "\n",
        "# precision metrics\n",
        "precision_score_value = precision_score(y_test,y_pred,average='weighted')\n",
        "print(\"Precision score : \", precision_score_value)\n"
      ]
    },
    {
      "cell_type": "markdown",
      "metadata": {
        "id": "Sqq3-EEN9gF9"
      },
      "source": [
        "### Random Forest feature importance"
      ]
    },
    {
      "cell_type": "code",
      "execution_count": null,
      "metadata": {
        "colab": {
          "base_uri": "https://localhost:8080/"
        },
        "id": "jkE4XbEv9jjO",
        "outputId": "bb60e4f2-c1d3-4615-da08-4b033c43b3b4"
      },
      "outputs": [
        {
          "output_type": "execute_result",
          "data": {
            "text/plain": [
              "Overall Score                  0.419528\n",
              "Research Score                 0.301470\n",
              "Teaching Score                 0.180998\n",
              "Citations Score                0.062494\n",
              "International Outlook Score    0.021066\n",
              "Industy Income Score           0.014444\n",
              "dtype: float64"
            ]
          },
          "metadata": {},
          "execution_count": 276
        }
      ],
      "source": [
        "random_forest_feature_scores = pd.Series(clf.feature_importances_, index=['Overall Score', \t'Teaching Score', \t'Research Score' \t,'Citations Score', \t'Industy Income Score', \t'International Outlook Score']).sort_values(ascending=False)\n",
        "\n",
        "random_forest_feature_scores"
      ]
    },
    {
      "cell_type": "code",
      "execution_count": null,
      "metadata": {
        "colab": {
          "base_uri": "https://localhost:8080/",
          "height": 532
        },
        "id": "_7ttlnO9_jW0",
        "outputId": "10bba049-2502-4aa3-acb3-89bd8e3fe479"
      },
      "outputs": [
        {
          "output_type": "display_data",
          "data": {
            "text/plain": [
              "<Figure size 2160x720 with 1 Axes>"
            ],
            "image/png": "[encoded data removed]"
          },
          "metadata": {}
        }
      ],
      "source": [
        "# plotting feature importance of the Random Forest\n",
        "\n",
        "plt.figure(figsize=(30, 10))\n",
        "plt.bar(random_forest_feature_scores.index, random_forest_feature_scores, color = \"darkorange\")\n",
        "plt.xlabel(\"Feature importance\")\n",
        "\n",
        "plt.show()\n"
      ]
    },
    {
      "cell_type": "markdown",
      "metadata": {
        "id": "ckZF0kq1dwSa"
      },
      "source": [
        "## Hyper parameter tuning"
      ]
    },
    {
      "cell_type": "code",
      "execution_count": null,
      "metadata": {
        "colab": {
          "base_uri": "https://localhost:8080/"
        },
        "id": "lQ66z5Jzdvg3",
        "outputId": "81ff82d2-8758-4fed-90d0-2b1b1e67335e"
      },
      "outputs": [
        {
          "output_type": "execute_result",
          "data": {
            "text/plain": [
              "RandomizedSearchCV(cv=3, estimator=RandomForestClassifier(), n_iter=2,\n",
              "                   n_jobs=-1,\n",
              "                   param_distributions={'bootstrap': [True, False],\n",
              "                                        'criterion': ['gini', 'entropy'],\n",
              "                                        'max_depth': [3, 5, 10, None],\n",
              "                                        'max_features': <scipy.stats._distn_infrastructure.rv_frozen object at 0x7f97d1b01b80>,\n",
              "                                        'min_samples_leaf': <scipy.stats._distn_infrastructure.rv_frozen object at 0x7f97d199b070>,\n",
              "                                        'n_estimators': [100, 200, 300, 400,\n",
              "                                                         500]})"
            ]
          },
          "metadata": {},
          "execution_count": 278
        }
      ],
      "source": [
        "from scipy.stats import randint\n",
        "\n",
        "clf=RandomForestClassifier()\n",
        "\n",
        "parameters = {\n",
        "    \"max_depth\": [3, 5, 10, None],\n",
        "    \"n_estimators\": [100, 200, 300, 400, 500],\n",
        "    \"max_features\": randint(1, 3),\n",
        "    \"criterion\": [\"gini\", \"entropy\"],\n",
        "    \"bootstrap\": [True, False],\n",
        "    \"min_samples_leaf\": randint(1, 4)\n",
        "}\n",
        "\n",
        "# parameters = {\n",
        "#     \"max_depth\": [3, 5, 10, None],\n",
        "#     \"n_estimators\": [100, 200, 300, 400, 500]\n",
        "# }\n",
        "\n",
        "optimal_model = RandomizedSearchCV(clf,\n",
        "                        param_distributions=parameters,\n",
        "                        n_iter=2,\n",
        "                        cv=3,\n",
        "                        n_jobs=-1,\n",
        "                        )\n",
        "\n",
        "optimal_model.fit(features, y)\n",
        "\n"
      ]
    },
    {
      "cell_type": "code",
      "execution_count": null,
      "metadata": {
        "colab": {
          "base_uri": "https://localhost:8080/"
        },
        "id": "7g9hlWBbl3zs",
        "outputId": "670df39c-74d6-4d36-99f1-e90be53c3c5a"
      },
      "outputs": [
        {
          "output_type": "execute_result",
          "data": {
            "text/plain": [
              "{'bootstrap': True,\n",
              " 'criterion': 'gini',\n",
              " 'max_depth': 10,\n",
              " 'max_features': 2,\n",
              " 'min_samples_leaf': 2,\n",
              " 'n_estimators': 100}"
            ]
          },
          "metadata": {},
          "execution_count": 279
        }
      ],
      "source": [
        "optimal_model.best_params_"
      ]
    },
    {
      "cell_type": "code",
      "execution_count": null,
      "metadata": {
        "colab": {
          "base_uri": "https://localhost:8080/"
        },
        "id": "eFpXdSGjlz9H",
        "outputId": "557dcc7d-d396-47af-e20e-4969f514052c"
      },
      "outputs": [
        {
          "output_type": "stream",
          "name": "stderr",
          "text": [
            "<ipython-input-280-338a82bb47d5>:2: DataConversionWarning: A column-vector y was passed when a 1d array was expected. Please change the shape of y to (n_samples,), for example using ravel().\n",
            "  clf.fit(X_train,y_train)\n"
          ]
        }
      ],
      "source": [
        "clf=RandomForestClassifier(bootstrap=False,criterion='gini',max_depth=None,max_features=1,min_samples_leaf=1,n_estimators=300)\n",
        "clf.fit(X_train,y_train)\n",
        "#predicting\n",
        "y_pred = clf.predict(X_test)\n",
        "y_pred_train = clf.predict(X_train)"
      ]
    },
    {
      "cell_type": "markdown",
      "metadata": {
        "id": "NTVaQI7gQ66p"
      },
      "source": [
        "### K Fold cross validation and metrics"
      ]
    },
    {
      "cell_type": "code",
      "execution_count": null,
      "metadata": {
        "colab": {
          "base_uri": "https://localhost:8080/"
        },
        "outputId": "c2d5d366-21ff-4385-f663-39a6f45acce1",
        "id": "1-kNubTZQ66p"
      },
      "outputs": [
        {
          "output_type": "stream",
          "name": "stderr",
          "text": [
            "<ipython-input-281-66b995037615>:8: DataConversionWarning: A column-vector y was passed when a 1d array was expected. Please change the shape of y to (n_samples,), for example using ravel().\n",
            "  clf.fit(X_train.iloc[train, :], y_train.iloc[train])\n",
            "<ipython-input-281-66b995037615>:8: DataConversionWarning: A column-vector y was passed when a 1d array was expected. Please change the shape of y to (n_samples,), for example using ravel().\n",
            "  clf.fit(X_train.iloc[train, :], y_train.iloc[train])\n",
            "<ipython-input-281-66b995037615>:8: DataConversionWarning: A column-vector y was passed when a 1d array was expected. Please change the shape of y to (n_samples,), for example using ravel().\n",
            "  clf.fit(X_train.iloc[train, :], y_train.iloc[train])\n",
            "<ipython-input-281-66b995037615>:8: DataConversionWarning: A column-vector y was passed when a 1d array was expected. Please change the shape of y to (n_samples,), for example using ravel().\n",
            "  clf.fit(X_train.iloc[train, :], y_train.iloc[train])\n",
            "<ipython-input-281-66b995037615>:8: DataConversionWarning: A column-vector y was passed when a 1d array was expected. Please change the shape of y to (n_samples,), for example using ravel().\n",
            "  clf.fit(X_train.iloc[train, :], y_train.iloc[train])\n",
            "<ipython-input-281-66b995037615>:8: DataConversionWarning: A column-vector y was passed when a 1d array was expected. Please change the shape of y to (n_samples,), for example using ravel().\n",
            "  clf.fit(X_train.iloc[train, :], y_train.iloc[train])\n",
            "<ipython-input-281-66b995037615>:8: DataConversionWarning: A column-vector y was passed when a 1d array was expected. Please change the shape of y to (n_samples,), for example using ravel().\n",
            "  clf.fit(X_train.iloc[train, :], y_train.iloc[train])\n",
            "<ipython-input-281-66b995037615>:8: DataConversionWarning: A column-vector y was passed when a 1d array was expected. Please change the shape of y to (n_samples,), for example using ravel().\n",
            "  clf.fit(X_train.iloc[train, :], y_train.iloc[train])\n",
            "<ipython-input-281-66b995037615>:8: DataConversionWarning: A column-vector y was passed when a 1d array was expected. Please change the shape of y to (n_samples,), for example using ravel().\n",
            "  clf.fit(X_train.iloc[train, :], y_train.iloc[train])\n",
            "<ipython-input-281-66b995037615>:8: DataConversionWarning: A column-vector y was passed when a 1d array was expected. Please change the shape of y to (n_samples,), for example using ravel().\n",
            "  clf.fit(X_train.iloc[train, :], y_train.iloc[train])\n"
          ]
        },
        {
          "output_type": "stream",
          "name": "stdout",
          "text": [
            "\n",
            "\n",
            "Cross-Validation Testing accuracy: 0.979 +/- 0.016\n",
            "\n",
            "\n",
            "Cross-Validation Training accuracy: 1.000 +/- 0.000\n"
          ]
        }
      ],
      "source": [
        "from sklearn.model_selection import StratifiedKFold\n",
        "\n",
        "strtfdKFold = StratifiedKFold(n_splits=10)\n",
        "kfold = strtfdKFold.split(X_train, y_train)\n",
        "scores = []\n",
        "scores_training =[]\n",
        "for k, (train, test) in enumerate(kfold):\n",
        "  clf.fit(X_train.iloc[train, :], y_train.iloc[train])\n",
        "  score = clf.score(X_train.iloc[test, :], y_train.iloc[test])\n",
        "  sc_train = clf.score(X_train.iloc[train, :], y_train.iloc[train])\n",
        "  scores.append(score)\n",
        "  scores_training.append(sc_train)\n",
        "  # print('Fold: %2d, Training/Test Split Distribution: %s, Accuracy: %.3f' % (k+1, np.bincount(y_train.iloc[train]), score))\n",
        "\n",
        "print('\\n\\nCross-Validation Testing accuracy: %.3f +/- %.3f' %(np.mean(scores), np.std(scores)))\n",
        "print('\\n\\nCross-Validation Training accuracy: %.3f +/- %.3f' %(np.mean(scores_training), np.std(scores_training)))"
      ]
    },
    {
      "cell_type": "code",
      "execution_count": null,
      "metadata": {
        "colab": {
          "base_uri": "https://localhost:8080/"
        },
        "outputId": "ccb57ed0-9e1a-4bc7-c29a-7cedee6198b9",
        "id": "yuqY_iKaQ66q"
      },
      "outputs": [
        {
          "output_type": "stream",
          "name": "stdout",
          "text": [
            "\n",
            "\n",
            "Cross-Validation accuracy: 0.979 +/- 0.016\n"
          ]
        }
      ],
      "source": [
        "\n",
        "print('\\n\\nCross-Validation accuracy: %.3f +/- %.3f' %(np.mean(scores), np.std(scores)))"
      ]
    },
    {
      "cell_type": "code",
      "execution_count": null,
      "metadata": {
        "colab": {
          "base_uri": "https://localhost:8080/"
        },
        "outputId": "395f9339-b70d-4839-d4e5-82c08a7e7793",
        "id": "Po-87zBCQ66r"
      },
      "outputs": [
        {
          "output_type": "stream",
          "name": "stdout",
          "text": [
            "Testing accuracy  1.0\n",
            "Training accuracy  1.0\n"
          ]
        }
      ],
      "source": [
        "#accuracy of model\n",
        "from sklearn.metrics import accuracy_score, confusion_matrix\n",
        "\n",
        "print(\"Testing accuracy \" ,accuracy_score(y_test,y_pred))\n",
        "\n",
        "print(\"Training accuracy \" ,accuracy_score(y_train,y_pred_train))\n"
      ]
    },
    {
      "cell_type": "code",
      "execution_count": null,
      "metadata": {
        "colab": {
          "base_uri": "https://localhost:8080/"
        },
        "outputId": "dfdb480e-f07d-4b64-8cc0-df2e5983a86b",
        "id": "Xurrn-ibQ66r"
      },
      "outputs": [
        {
          "output_type": "stream",
          "name": "stdout",
          "text": [
            "              precision    recall  f1-score   support\n",
            "\n",
            "           0       1.00      1.00      1.00        11\n",
            "           1       1.00      1.00      1.00        94\n",
            "           2       1.00      1.00      1.00        16\n",
            "\n",
            "    accuracy                           1.00       121\n",
            "   macro avg       1.00      1.00      1.00       121\n",
            "weighted avg       1.00      1.00      1.00       121\n",
            "\n",
            "F1 score :  1.0\n",
            "Precision score :  1.0\n"
          ]
        }
      ],
      "source": [
        "report = classification_report(y_test, y_pred)\n",
        "\n",
        "print(report)\n",
        "\n",
        "# f1 score metrics\n",
        "f1_score_value = f1_score(y_test,y_pred,average='weighted')\n",
        "print(\"F1 score : \", f1_score_value)\n",
        "\n",
        "# precision metrics\n",
        "precision_score_value = precision_score(y_test,y_pred,average='weighted')\n",
        "print(\"Precision score : \", precision_score_value)\n"
      ]
    },
    {
      "cell_type": "markdown",
      "metadata": {
        "id": "esCsMa5-Q66u"
      },
      "source": [
        "### Random Forest feature importance"
      ]
    },
    {
      "cell_type": "code",
      "execution_count": null,
      "metadata": {
        "colab": {
          "base_uri": "https://localhost:8080/"
        },
        "outputId": "88f9f81d-9356-4fcf-f071-2ec63c0a2207",
        "id": "1j1ScPP_Q66u"
      },
      "outputs": [
        {
          "output_type": "execute_result",
          "data": {
            "text/plain": [
              "Overall Score                  0.348424\n",
              "Research Score                 0.244638\n",
              "Teaching Score                 0.225457\n",
              "Citations Score                0.101269\n",
              "International Outlook Score    0.043968\n",
              "Industy Income Score           0.036244\n",
              "dtype: float64"
            ]
          },
          "metadata": {},
          "execution_count": 285
        }
      ],
      "source": [
        "random_forest_feature_scores = pd.Series(clf.feature_importances_, index=['Overall Score', \t'Teaching Score', \t'Research Score' \t,'Citations Score', \t'Industy Income Score', \t'International Outlook Score']).sort_values(ascending=False)\n",
        "\n",
        "random_forest_feature_scores"
      ]
    },
    {
      "cell_type": "code",
      "execution_count": null,
      "metadata": {
        "colab": {
          "base_uri": "https://localhost:8080/",
          "height": 532
        },
        "outputId": "2efd2f27-3bc6-4f31-ed7e-eb7a0344c732",
        "id": "Z6KBcxdqQ66v"
      },
      "outputs": [
        {
          "output_type": "display_data",
          "data": {
            "text/plain": [
              "<Figure size 2160x720 with 1 Axes>"
            ],
            "image/png": "[encoded data removed]"
          },
          "metadata": {}
        }
      ],
      "source": [
        "# plotting feature importance of the Random Forest\n",
        "\n",
        "plt.figure(figsize=(30, 10))\n",
        "plt.bar(random_forest_feature_scores.index, random_forest_feature_scores, color = \"darkorange\")\n",
        "plt.xlabel(\"Feature importance\")\n",
        "\n",
        "plt.show()\n"
      ]
    },
    {
      "cell_type": "markdown",
      "source": [
        "# Predicting for 2023\n"
      ],
      "metadata": {
        "id": "qWLDRFDAWGx9"
      }
    },
    {
      "cell_type": "code",
      "source": [
        "#df_2023\n",
        "\n",
        "features = df_2023.drop(['Ranking ','Year','University','Country'],axis=1)\n",
        "# label_data = labels"
      ],
      "metadata": {
        "id": "2mvXqLQiWJMQ"
      },
      "execution_count": null,
      "outputs": []
    },
    {
      "cell_type": "code",
      "source": [
        "features['Overall Score'] =features['Overall Score'].replace('51.2–54.3','51.2')"
      ],
      "metadata": {
        "id": "9Mbp4ndSWc7b"
      },
      "execution_count": null,
      "outputs": []
    },
    {
      "cell_type": "code",
      "source": [
        "label_data = clf.predict(features)"
      ],
      "metadata": {
        "id": "dL1EgIOUWSlZ"
      },
      "execution_count": null,
      "outputs": []
    },
    {
      "cell_type": "code",
      "source": [
        "label_data"
      ],
      "metadata": {
        "colab": {
          "base_uri": "https://localhost:8080/"
        },
        "id": "OqJPLLytXJ8p",
        "outputId": "f3b2195c-1e3f-48b1-ed7b-211b9e2a0567"
      },
      "execution_count": null,
      "outputs": [
        {
          "output_type": "execute_result",
          "data": {
            "text/plain": [
              "array([0, 0, 0, 0, 0, 0, 0, 0, 0, 0, 0, 0, 0, 0, 0, 0, 0, 0, 0, 0, 0, 0, 2,\n",
              "       2, 2, 2, 2, 2, 2, 2, 2, 2, 2, 2, 2, 2, 2, 2, 2, 2, 2, 2, 2, 2, 2, 2,\n",
              "       2, 2, 2, 2, 2, 2, 2, 1, 1, 1, 1, 1, 1, 1, 1, 1, 1, 1, 1, 1, 1, 1, 1,\n",
              "       1, 1, 1, 1, 1, 1, 1, 1, 1, 1, 1, 1, 1, 1, 1, 1, 1, 1, 1, 1, 1, 1, 1,\n",
              "       1, 1, 1, 1, 1, 1, 1, 1, 1, 1, 1, 1, 1, 1, 1, 1, 1, 1, 1, 1, 1, 1, 1,\n",
              "       1, 1, 1, 1, 1, 1, 1, 1, 1, 1, 1, 1, 1, 1, 1, 1, 1, 1, 1, 1, 1, 1, 1,\n",
              "       1, 1, 1, 1, 1, 1, 1, 1, 1, 1, 1, 1, 1, 1, 1, 1, 1, 1, 1, 1, 1, 1, 1,\n",
              "       1, 1, 1, 1, 1, 1, 1, 1, 1, 1, 1, 1, 1, 1, 1, 1, 1, 1, 1, 1, 1, 1, 1,\n",
              "       1, 1, 1, 1, 1, 1, 1, 1, 1, 1, 1, 1, 1, 1, 1, 1, 1])"
            ]
          },
          "metadata": {},
          "execution_count": 290
        }
      ]
    },
    {
      "cell_type": "code",
      "source": [
        "labels = []\n",
        "# Original form is  ['High' 'Low' 'Medium']\n",
        "# Encoded labels are  [0, 1, 2]  respectively\n",
        "for i in label_data:\n",
        "  if(i==0):\n",
        "    labels.append('High')\n",
        "  if(i==1):\n",
        "    labels.append('Low')\n",
        "  if(i==2):\n",
        "    labels.append('Medium')\n",
        ""
      ],
      "metadata": {
        "id": "ytQCPjYxW1wc"
      },
      "execution_count": null,
      "outputs": []
    },
    {
      "cell_type": "code",
      "source": [
        "df_2023['Output'] = labels"
      ],
      "metadata": {
        "colab": {
          "base_uri": "https://localhost:8080/"
        },
        "id": "A7jaUdChWmp2",
        "outputId": "fa3a82f5-df12-41ba-cd6b-5bfe0237a1e1"
      },
      "execution_count": null,
      "outputs": [
        {
          "output_type": "stream",
          "name": "stderr",
          "text": [
            "<ipython-input-292-6dcb22b529cf>:1: SettingWithCopyWarning: \n",
            "A value is trying to be set on a copy of a slice from a DataFrame.\n",
            "Try using .loc[row_indexer,col_indexer] = value instead\n",
            "\n",
            "See the caveats in the documentation: https://pandas.pydata.org/pandas-docs/stable/user_guide/indexing.html#returning-a-view-versus-a-copy\n",
            "  df_2023['Output'] = labels\n"
          ]
        }
      ]
    },
    {
      "cell_type": "code",
      "source": [
        "df_2023[0:50]"
      ],
      "metadata": {
        "colab": {
          "base_uri": "https://localhost:8080/",
          "height": 1000
        },
        "id": "Jt755yipXD2P",
        "outputId": "d3fda936-2451-45ef-e3c8-1295a0324336"
      },
      "execution_count": null,
      "outputs": [
        {
          "output_type": "execute_result",
          "data": {
            "text/plain": [
              "    Year  Ranking                                          University  \\\n",
              "0   2023         1                               University of Oxford   \n",
              "1   2023         2                                 Harvard University   \n",
              "2   2023         3                            University of Cambridge   \n",
              "3   2023         3                                Stanford University   \n",
              "4   2023         5              Massachusetts Institute of Technology   \n",
              "5   2023         6                 California Institute of Technology   \n",
              "6   2023         7                               Princeton University   \n",
              "7   2023         8                 University of California, Berkeley   \n",
              "8   2023         9                                    Yale University   \n",
              "9   2023        10                            Imperial College London   \n",
              "10  2023        11                                Columbia University   \n",
              "11  2023        11                                         ETH Zurich   \n",
              "12  2023        13                          The University of Chicago   \n",
              "13  2023        14                         University of Pennsylvania   \n",
              "14  2023        15                           Johns Hopkins University   \n",
              "15  2023        16                                Tsinghua University   \n",
              "16  2023        17                                  Peking University   \n",
              "17  2023        18                              University of Toronto   \n",
              "18  2023        19                   National University of Singapore   \n",
              "19  2023        20                                 Cornell University   \n",
              "20  2023        21              University of California, Los Angeles   \n",
              "21  2023        22                                                UCL   \n",
              "22  2023        23                   University of Michigan-Ann Arbor   \n",
              "23  2023        24                                New York University   \n",
              "24  2023        25                                    Duke University   \n",
              "25  2023        26                            Northwestern University   \n",
              "26  2023        26                           University of Washington   \n",
              "27  2023        28                         Carnegie Mellon University   \n",
              "28  2023        29                            University of Edinburgh   \n",
              "29  2023        30                     Technical University of Munich   \n",
              "30  2023        31                            University of Hong Kong   \n",
              "31  2023        32                University of California, San Diego   \n",
              "32  2023        33                                         LMU Munich   \n",
              "33  2023        34                            University of Melbourne   \n",
              "34  2023        35                              King’s College London   \n",
              "35  2023        36        Nanyang Technological University, Singapore   \n",
              "36  2023        37   London School of Economics and Political Science   \n",
              "37  2023        38                    Georgia Institute of Technology   \n",
              "38  2023        39                            The University of Tokyo   \n",
              "39  2023        40                     University of British Columbia   \n",
              "40  2023        41           École Polytechnique Fédérale de Lausanne   \n",
              "41  2023        42                                          KU Leuven   \n",
              "42  2023        43                             Universität Heidelberg   \n",
              "43  2023        44                                  Monash University   \n",
              "44  2023        45                    Chinese University of Hong Kong   \n",
              "45  2023        46                                  McGill University   \n",
              "46  2023        47  Paris Sciences et Lettres – PSL Research Unive...   \n",
              "47  2023        48         University of Illinois at Urbana-Champaign   \n",
              "48  2023        49                               Karolinska Institute   \n",
              "49  2023        50                      University of Texas at Austin   \n",
              "\n",
              "           Country Overall Score  Teaching Score  Research Score  \\\n",
              "0   United Kingdom          96.4            92.3            99.7   \n",
              "1    United States          95.2            94.8            99.0   \n",
              "2   United Kingdom          94.8            90.9            99.5   \n",
              "3    United States          94.8            94.2            96.7   \n",
              "4    United States          94.2            90.7            93.6   \n",
              "5    United States          94.1            90.9            97.0   \n",
              "6    United States          92.4            87.6            95.9   \n",
              "7    United States          92.1            86.4            95.8   \n",
              "8    United States          91.4            92.6            92.7   \n",
              "9   United Kingdom          90.4            82.8            90.8   \n",
              "10   United States          89.4            89.4            87.7   \n",
              "11     Switzerland          89.4            82.6            95.4   \n",
              "12   United States          88.9            86.5            88.8   \n",
              "13   United States          88.8            86.0            88.8   \n",
              "14   United States          88.3            79.4            91.5   \n",
              "15           China          88.2            90.1            97.4   \n",
              "16           China          88.1            92.5            96.7   \n",
              "17          Canada          87.4            77.3            93.3   \n",
              "18       Singapore          87.1            76.4            93.0   \n",
              "19   United States          85.9            80.2            86.1   \n",
              "20   United States          85.8            80.4            88.9   \n",
              "21  United Kingdom          85.7            74.5            85.4   \n",
              "22   United States          82.9            79.3            84.6   \n",
              "23   United States          82.7            74.2            84.0   \n",
              "24   United States          82.6            78.1            76.2   \n",
              "25   United States          82.1            71.7            80.7   \n",
              "26   United States          82.1            71.6            82.8   \n",
              "27   United States          81.1            65.4            81.8   \n",
              "28  United Kingdom          79.8            66.9            74.5   \n",
              "29         Germany          79.3            69.8            82.2   \n",
              "30       Hong Kong          78.5            65.6            74.1   \n",
              "31   United States          78.1            60.2            77.2   \n",
              "32         Germany          77.7            67.3            78.3   \n",
              "33       Australia          77.6            67.1            75.9   \n",
              "34  United Kingdom          77.1            58.0            72.9   \n",
              "35       Singapore            77            60.9            77.9   \n",
              "36  United Kingdom          76.5            59.2            74.3   \n",
              "37   United States            76            60.2            75.9   \n",
              "38           Japan          75.9            88.1            91.4   \n",
              "39          Canada          75.7            62.9            73.1   \n",
              "40     Switzerland          75.4            65.6            70.7   \n",
              "41         Belgium          74.6            59.7            74.9   \n",
              "42         Germany          74.1            67.2            61.5   \n",
              "43       Australia          73.6            56.9            68.7   \n",
              "44       Hong Kong          73.2            59.1            61.1   \n",
              "45          Canada            73            62.0            72.4   \n",
              "46          France          72.9            68.2            73.5   \n",
              "47   United States          72.7            67.1            78.9   \n",
              "48          Sweden          72.4            51.1            68.8   \n",
              "49   United States          72.3            66.2            73.1   \n",
              "\n",
              "    Citations Score  Industy Income Score  International Outlook Score  Output  \n",
              "0              99.0                  74.9                         96.2    High  \n",
              "1              99.3                  49.5                         80.5    High  \n",
              "2              97.0                  54.2                         95.8    High  \n",
              "3              99.8                  65.0                         79.8    High  \n",
              "4              99.8                  90.9                         89.3    High  \n",
              "5              97.3                  89.8                         83.6    High  \n",
              "6              99.1                  66.0                         80.3    High  \n",
              "7              99.0                  76.8                         78.4    High  \n",
              "8              97.0                  55.0                         70.9    High  \n",
              "9              98.3                  59.8                         97.5    High  \n",
              "10             97.1                  44.8                         79.9    High  \n",
              "11             90.7                  59.1                         97.7    High  \n",
              "12             97.7                  56.2                         74.2    High  \n",
              "13             97.0                  75.8                         71.5    High  \n",
              "14             97.0                  89.5                         75.3    High  \n",
              "15             88.0                 100.0                         40.3    High  \n",
              "16             80.4                  91.8                         65.0    High  \n",
              "17             92.8                  65.5                         89.7    High  \n",
              "18             90.2                  87.0                         94.0    High  \n",
              "19             97.3                  40.4                         76.9    High  \n",
              "20             95.4                  58.8                         65.0    High  \n",
              "21             97.9                  44.5                         96.7    High  \n",
              "22             93.6                  48.7                         59.2  Medium  \n",
              "23             95.0                  44.6                         74.7  Medium  \n",
              "24             95.7                  99.6                         68.0  Medium  \n",
              "25             97.5                  85.0                         67.0  Medium  \n",
              "26             98.9                  53.9                         63.0  Medium  \n",
              "27             98.7                  55.2                         80.1  Medium  \n",
              "28             97.1                  40.9                         95.6  Medium  \n",
              "29             84.5                 100.0                         77.7  Medium  \n",
              "30             92.4                  60.6                         98.7  Medium  \n",
              "31             98.2                  93.0                         67.8  Medium  \n",
              "32             87.4                 100.0                         70.5  Medium  \n",
              "33             85.8                  78.1                         93.6  Medium  \n",
              "34             98.2                  45.6                         96.1  Medium  \n",
              "35             87.2                  84.5                         94.5  Medium  \n",
              "36             95.1                  37.8                         92.8  Medium  \n",
              "37             91.4                  64.9                         81.2  Medium  \n",
              "38             55.5                  86.7                         43.3  Medium  \n",
              "39             88.8                  47.9                         94.8  Medium  \n",
              "40             84.5                  71.7                         98.0  Medium  \n",
              "41             86.7                  99.2                         76.8  Medium  \n",
              "42             96.0                  55.7                         71.2  Medium  \n",
              "43             90.4                  78.4                         91.0  Medium  \n",
              "44             95.7                  60.9                         92.5  Medium  \n",
              "45             82.5                  43.5                         91.0  Medium  \n",
              "46             75.5                  78.8                         76.3  Medium  \n",
              "47             78.1                  50.1                         56.2  Medium  \n",
              "48             94.0                  66.4                         87.3  Medium  \n",
              "49             87.5                  51.3                         40.1  Medium  "
            ],
            "text/html": [
              "\n",
              "  <div id=\"df-8aaf39d3-8ee6-4ba8-8764-7d8b690bcae4\">\n",
              "    <div class=\"colab-df-container\">\n",
              "      <div>\n",
              "<style scoped>\n",
              "    .dataframe tbody tr th:only-of-type {\n",
              "        vertical-align: middle;\n",
              "    }\n",
              "\n",
              "    .dataframe tbody tr th {\n",
              "        vertical-align: top;\n",
              "    }\n",
              "\n",
              "    .dataframe thead th {\n",
              "        text-align: right;\n",
              "    }\n",
              "</style>\n",
              "<table border=\"1\" class=\"dataframe\">\n",
              "  <thead>\n",
              "    <tr style=\"text-align: right;\">\n",
              "      <th></th>\n",
              "      <th>Year</th>\n",
              "      <th>Ranking</th>\n",
              "      <th>University</th>\n",
              "      <th>Country</th>\n",
              "      <th>Overall Score</th>\n",
              "      <th>Teaching Score</th>\n",
              "      <th>Research Score</th>\n",
              "      <th>Citations Score</th>\n",
              "      <th>Industy Income Score</th>\n",
              "      <th>International Outlook Score</th>\n",
              "      <th>Output</th>\n",
              "    </tr>\n",
              "  </thead>\n",
              "  <tbody>\n",
              "    <tr>\n",
              "      <th>0</th>\n",
              "      <td>2023</td>\n",
              "      <td>1</td>\n",
              "      <td>University of Oxford</td>\n",
              "      <td>United Kingdom</td>\n",
              "      <td>96.4</td>\n",
              "      <td>92.3</td>\n",
              "      <td>99.7</td>\n",
              "      <td>99.0</td>\n",
              "      <td>74.9</td>\n",
              "      <td>96.2</td>\n",
              "      <td>High</td>\n",
              "    </tr>\n",
              "    <tr>\n",
              "      <th>1</th>\n",
              "      <td>2023</td>\n",
              "      <td>2</td>\n",
              "      <td>Harvard University</td>\n",
              "      <td>United States</td>\n",
              "      <td>95.2</td>\n",
              "      <td>94.8</td>\n",
              "      <td>99.0</td>\n",
              "      <td>99.3</td>\n",
              "      <td>49.5</td>\n",
              "      <td>80.5</td>\n",
              "      <td>High</td>\n",
              "    </tr>\n",
              "    <tr>\n",
              "      <th>2</th>\n",
              "      <td>2023</td>\n",
              "      <td>3</td>\n",
              "      <td>University of Cambridge</td>\n",
              "      <td>United Kingdom</td>\n",
              "      <td>94.8</td>\n",
              "      <td>90.9</td>\n",
              "      <td>99.5</td>\n",
              "      <td>97.0</td>\n",
              "      <td>54.2</td>\n",
              "      <td>95.8</td>\n",
              "      <td>High</td>\n",
              "    </tr>\n",
              "    <tr>\n",
              "      <th>3</th>\n",
              "      <td>2023</td>\n",
              "      <td>3</td>\n",
              "      <td>Stanford University</td>\n",
              "      <td>United States</td>\n",
              "      <td>94.8</td>\n",
              "      <td>94.2</td>\n",
              "      <td>96.7</td>\n",
              "      <td>99.8</td>\n",
              "      <td>65.0</td>\n",
              "      <td>79.8</td>\n",
              "      <td>High</td>\n",
              "    </tr>\n",
              "    <tr>\n",
              "      <th>4</th>\n",
              "      <td>2023</td>\n",
              "      <td>5</td>\n",
              "      <td>Massachusetts Institute of Technology</td>\n",
              "      <td>United States</td>\n",
              "      <td>94.2</td>\n",
              "      <td>90.7</td>\n",
              "      <td>93.6</td>\n",
              "      <td>99.8</td>\n",
              "      <td>90.9</td>\n",
              "      <td>89.3</td>\n",
              "      <td>High</td>\n",
              "    </tr>\n",
              "    <tr>\n",
              "      <th>5</th>\n",
              "      <td>2023</td>\n",
              "      <td>6</td>\n",
              "      <td>California Institute of Technology</td>\n",
              "      <td>United States</td>\n",
              "      <td>94.1</td>\n",
              "      <td>90.9</td>\n",
              "      <td>97.0</td>\n",
              "      <td>97.3</td>\n",
              "      <td>89.8</td>\n",
              "      <td>83.6</td>\n",
              "      <td>High</td>\n",
              "    </tr>\n",
              "    <tr>\n",
              "      <th>6</th>\n",
              "      <td>2023</td>\n",
              "      <td>7</td>\n",
              "      <td>Princeton University</td>\n",
              "      <td>United States</td>\n",
              "      <td>92.4</td>\n",
              "      <td>87.6</td>\n",
              "      <td>95.9</td>\n",
              "      <td>99.1</td>\n",
              "      <td>66.0</td>\n",
              "      <td>80.3</td>\n",
              "      <td>High</td>\n",
              "    </tr>\n",
              "    <tr>\n",
              "      <th>7</th>\n",
              "      <td>2023</td>\n",
              "      <td>8</td>\n",
              "      <td>University of California, Berkeley</td>\n",
              "      <td>United States</td>\n",
              "      <td>92.1</td>\n",
              "      <td>86.4</td>\n",
              "      <td>95.8</td>\n",
              "      <td>99.0</td>\n",
              "      <td>76.8</td>\n",
              "      <td>78.4</td>\n",
              "      <td>High</td>\n",
              "    </tr>\n",
              "    <tr>\n",
              "      <th>8</th>\n",
              "      <td>2023</td>\n",
              "      <td>9</td>\n",
              "      <td>Yale University</td>\n",
              "      <td>United States</td>\n",
              "      <td>91.4</td>\n",
              "      <td>92.6</td>\n",
              "      <td>92.7</td>\n",
              "      <td>97.0</td>\n",
              "      <td>55.0</td>\n",
              "      <td>70.9</td>\n",
              "      <td>High</td>\n",
              "    </tr>\n",
              "    <tr>\n",
              "      <th>9</th>\n",
              "      <td>2023</td>\n",
              "      <td>10</td>\n",
              "      <td>Imperial College London</td>\n",
              "      <td>United Kingdom</td>\n",
              "      <td>90.4</td>\n",
              "      <td>82.8</td>\n",
              "      <td>90.8</td>\n",
              "      <td>98.3</td>\n",
              "      <td>59.8</td>\n",
              "      <td>97.5</td>\n",
              "      <td>High</td>\n",
              "    </tr>\n",
              "    <tr>\n",
              "      <th>10</th>\n",
              "      <td>2023</td>\n",
              "      <td>11</td>\n",
              "      <td>Columbia University</td>\n",
              "      <td>United States</td>\n",
              "      <td>89.4</td>\n",
              "      <td>89.4</td>\n",
              "      <td>87.7</td>\n",
              "      <td>97.1</td>\n",
              "      <td>44.8</td>\n",
              "      <td>79.9</td>\n",
              "      <td>High</td>\n",
              "    </tr>\n",
              "    <tr>\n",
              "      <th>11</th>\n",
              "      <td>2023</td>\n",
              "      <td>11</td>\n",
              "      <td>ETH Zurich</td>\n",
              "      <td>Switzerland</td>\n",
              "      <td>89.4</td>\n",
              "      <td>82.6</td>\n",
              "      <td>95.4</td>\n",
              "      <td>90.7</td>\n",
              "      <td>59.1</td>\n",
              "      <td>97.7</td>\n",
              "      <td>High</td>\n",
              "    </tr>\n",
              "    <tr>\n",
              "      <th>12</th>\n",
              "      <td>2023</td>\n",
              "      <td>13</td>\n",
              "      <td>The University of Chicago</td>\n",
              "      <td>United States</td>\n",
              "      <td>88.9</td>\n",
              "      <td>86.5</td>\n",
              "      <td>88.8</td>\n",
              "      <td>97.7</td>\n",
              "      <td>56.2</td>\n",
              "      <td>74.2</td>\n",
              "      <td>High</td>\n",
              "    </tr>\n",
              "    <tr>\n",
              "      <th>13</th>\n",
              "      <td>2023</td>\n",
              "      <td>14</td>\n",
              "      <td>University of Pennsylvania</td>\n",
              "      <td>United States</td>\n",
              "      <td>88.8</td>\n",
              "      <td>86.0</td>\n",
              "      <td>88.8</td>\n",
              "      <td>97.0</td>\n",
              "      <td>75.8</td>\n",
              "      <td>71.5</td>\n",
              "      <td>High</td>\n",
              "    </tr>\n",
              "    <tr>\n",
              "      <th>14</th>\n",
              "      <td>2023</td>\n",
              "      <td>15</td>\n",
              "      <td>Johns Hopkins University</td>\n",
              "      <td>United States</td>\n",
              "      <td>88.3</td>\n",
              "      <td>79.4</td>\n",
              "      <td>91.5</td>\n",
              "      <td>97.0</td>\n",
              "      <td>89.5</td>\n",
              "      <td>75.3</td>\n",
              "      <td>High</td>\n",
              "    </tr>\n",
              "    <tr>\n",
              "      <th>15</th>\n",
              "      <td>2023</td>\n",
              "      <td>16</td>\n",
              "      <td>Tsinghua University</td>\n",
              "      <td>China</td>\n",
              "      <td>88.2</td>\n",
              "      <td>90.1</td>\n",
              "      <td>97.4</td>\n",
              "      <td>88.0</td>\n",
              "      <td>100.0</td>\n",
              "      <td>40.3</td>\n",
              "      <td>High</td>\n",
              "    </tr>\n",
              "    <tr>\n",
              "      <th>16</th>\n",
              "      <td>2023</td>\n",
              "      <td>17</td>\n",
              "      <td>Peking University</td>\n",
              "      <td>China</td>\n",
              "      <td>88.1</td>\n",
              "      <td>92.5</td>\n",
              "      <td>96.7</td>\n",
              "      <td>80.4</td>\n",
              "      <td>91.8</td>\n",
              "      <td>65.0</td>\n",
              "      <td>High</td>\n",
              "    </tr>\n",
              "    <tr>\n",
              "      <th>17</th>\n",
              "      <td>2023</td>\n",
              "      <td>18</td>\n",
              "      <td>University of Toronto</td>\n",
              "      <td>Canada</td>\n",
              "      <td>87.4</td>\n",
              "      <td>77.3</td>\n",
              "      <td>93.3</td>\n",
              "      <td>92.8</td>\n",
              "      <td>65.5</td>\n",
              "      <td>89.7</td>\n",
              "      <td>High</td>\n",
              "    </tr>\n",
              "    <tr>\n",
              "      <th>18</th>\n",
              "      <td>2023</td>\n",
              "      <td>19</td>\n",
              "      <td>National University of Singapore</td>\n",
              "      <td>Singapore</td>\n",
              "      <td>87.1</td>\n",
              "      <td>76.4</td>\n",
              "      <td>93.0</td>\n",
              "      <td>90.2</td>\n",
              "      <td>87.0</td>\n",
              "      <td>94.0</td>\n",
              "      <td>High</td>\n",
              "    </tr>\n",
              "    <tr>\n",
              "      <th>19</th>\n",
              "      <td>2023</td>\n",
              "      <td>20</td>\n",
              "      <td>Cornell University</td>\n",
              "      <td>United States</td>\n",
              "      <td>85.9</td>\n",
              "      <td>80.2</td>\n",
              "      <td>86.1</td>\n",
              "      <td>97.3</td>\n",
              "      <td>40.4</td>\n",
              "      <td>76.9</td>\n",
              "      <td>High</td>\n",
              "    </tr>\n",
              "    <tr>\n",
              "      <th>20</th>\n",
              "      <td>2023</td>\n",
              "      <td>21</td>\n",
              "      <td>University of California, Los Angeles</td>\n",
              "      <td>United States</td>\n",
              "      <td>85.8</td>\n",
              "      <td>80.4</td>\n",
              "      <td>88.9</td>\n",
              "      <td>95.4</td>\n",
              "      <td>58.8</td>\n",
              "      <td>65.0</td>\n",
              "      <td>High</td>\n",
              "    </tr>\n",
              "    <tr>\n",
              "      <th>21</th>\n",
              "      <td>2023</td>\n",
              "      <td>22</td>\n",
              "      <td>UCL</td>\n",
              "      <td>United Kingdom</td>\n",
              "      <td>85.7</td>\n",
              "      <td>74.5</td>\n",
              "      <td>85.4</td>\n",
              "      <td>97.9</td>\n",
              "      <td>44.5</td>\n",
              "      <td>96.7</td>\n",
              "      <td>High</td>\n",
              "    </tr>\n",
              "    <tr>\n",
              "      <th>22</th>\n",
              "      <td>2023</td>\n",
              "      <td>23</td>\n",
              "      <td>University of Michigan-Ann Arbor</td>\n",
              "      <td>United States</td>\n",
              "      <td>82.9</td>\n",
              "      <td>79.3</td>\n",
              "      <td>84.6</td>\n",
              "      <td>93.6</td>\n",
              "      <td>48.7</td>\n",
              "      <td>59.2</td>\n",
              "      <td>Medium</td>\n",
              "    </tr>\n",
              "    <tr>\n",
              "      <th>23</th>\n",
              "      <td>2023</td>\n",
              "      <td>24</td>\n",
              "      <td>New York University</td>\n",
              "      <td>United States</td>\n",
              "      <td>82.7</td>\n",
              "      <td>74.2</td>\n",
              "      <td>84.0</td>\n",
              "      <td>95.0</td>\n",
              "      <td>44.6</td>\n",
              "      <td>74.7</td>\n",
              "      <td>Medium</td>\n",
              "    </tr>\n",
              "    <tr>\n",
              "      <th>24</th>\n",
              "      <td>2023</td>\n",
              "      <td>25</td>\n",
              "      <td>Duke University</td>\n",
              "      <td>United States</td>\n",
              "      <td>82.6</td>\n",
              "      <td>78.1</td>\n",
              "      <td>76.2</td>\n",
              "      <td>95.7</td>\n",
              "      <td>99.6</td>\n",
              "      <td>68.0</td>\n",
              "      <td>Medium</td>\n",
              "    </tr>\n",
              "    <tr>\n",
              "      <th>25</th>\n",
              "      <td>2023</td>\n",
              "      <td>26</td>\n",
              "      <td>Northwestern University</td>\n",
              "      <td>United States</td>\n",
              "      <td>82.1</td>\n",
              "      <td>71.7</td>\n",
              "      <td>80.7</td>\n",
              "      <td>97.5</td>\n",
              "      <td>85.0</td>\n",
              "      <td>67.0</td>\n",
              "      <td>Medium</td>\n",
              "    </tr>\n",
              "    <tr>\n",
              "      <th>26</th>\n",
              "      <td>2023</td>\n",
              "      <td>26</td>\n",
              "      <td>University of Washington</td>\n",
              "      <td>United States</td>\n",
              "      <td>82.1</td>\n",
              "      <td>71.6</td>\n",
              "      <td>82.8</td>\n",
              "      <td>98.9</td>\n",
              "      <td>53.9</td>\n",
              "      <td>63.0</td>\n",
              "      <td>Medium</td>\n",
              "    </tr>\n",
              "    <tr>\n",
              "      <th>27</th>\n",
              "      <td>2023</td>\n",
              "      <td>28</td>\n",
              "      <td>Carnegie Mellon University</td>\n",
              "      <td>United States</td>\n",
              "      <td>81.1</td>\n",
              "      <td>65.4</td>\n",
              "      <td>81.8</td>\n",
              "      <td>98.7</td>\n",
              "      <td>55.2</td>\n",
              "      <td>80.1</td>\n",
              "      <td>Medium</td>\n",
              "    </tr>\n",
              "    <tr>\n",
              "      <th>28</th>\n",
              "      <td>2023</td>\n",
              "      <td>29</td>\n",
              "      <td>University of Edinburgh</td>\n",
              "      <td>United Kingdom</td>\n",
              "      <td>79.8</td>\n",
              "      <td>66.9</td>\n",
              "      <td>74.5</td>\n",
              "      <td>97.1</td>\n",
              "      <td>40.9</td>\n",
              "      <td>95.6</td>\n",
              "      <td>Medium</td>\n",
              "    </tr>\n",
              "    <tr>\n",
              "      <th>29</th>\n",
              "      <td>2023</td>\n",
              "      <td>30</td>\n",
              "      <td>Technical University of Munich</td>\n",
              "      <td>Germany</td>\n",
              "      <td>79.3</td>\n",
              "      <td>69.8</td>\n",
              "      <td>82.2</td>\n",
              "      <td>84.5</td>\n",
              "      <td>100.0</td>\n",
              "      <td>77.7</td>\n",
              "      <td>Medium</td>\n",
              "    </tr>\n",
              "    <tr>\n",
              "      <th>30</th>\n",
              "      <td>2023</td>\n",
              "      <td>31</td>\n",
              "      <td>University of Hong Kong</td>\n",
              "      <td>Hong Kong</td>\n",
              "      <td>78.5</td>\n",
              "      <td>65.6</td>\n",
              "      <td>74.1</td>\n",
              "      <td>92.4</td>\n",
              "      <td>60.6</td>\n",
              "      <td>98.7</td>\n",
              "      <td>Medium</td>\n",
              "    </tr>\n",
              "    <tr>\n",
              "      <th>31</th>\n",
              "      <td>2023</td>\n",
              "      <td>32</td>\n",
              "      <td>University of California, San Diego</td>\n",
              "      <td>United States</td>\n",
              "      <td>78.1</td>\n",
              "      <td>60.2</td>\n",
              "      <td>77.2</td>\n",
              "      <td>98.2</td>\n",
              "      <td>93.0</td>\n",
              "      <td>67.8</td>\n",
              "      <td>Medium</td>\n",
              "    </tr>\n",
              "    <tr>\n",
              "      <th>32</th>\n",
              "      <td>2023</td>\n",
              "      <td>33</td>\n",
              "      <td>LMU Munich</td>\n",
              "      <td>Germany</td>\n",
              "      <td>77.7</td>\n",
              "      <td>67.3</td>\n",
              "      <td>78.3</td>\n",
              "      <td>87.4</td>\n",
              "      <td>100.0</td>\n",
              "      <td>70.5</td>\n",
              "      <td>Medium</td>\n",
              "    </tr>\n",
              "    <tr>\n",
              "      <th>33</th>\n",
              "      <td>2023</td>\n",
              "      <td>34</td>\n",
              "      <td>University of Melbourne</td>\n",
              "      <td>Australia</td>\n",
              "      <td>77.6</td>\n",
              "      <td>67.1</td>\n",
              "      <td>75.9</td>\n",
              "      <td>85.8</td>\n",
              "      <td>78.1</td>\n",
              "      <td>93.6</td>\n",
              "      <td>Medium</td>\n",
              "    </tr>\n",
              "    <tr>\n",
              "      <th>34</th>\n",
              "      <td>2023</td>\n",
              "      <td>35</td>\n",
              "      <td>King’s College London</td>\n",
              "      <td>United Kingdom</td>\n",
              "      <td>77.1</td>\n",
              "      <td>58.0</td>\n",
              "      <td>72.9</td>\n",
              "      <td>98.2</td>\n",
              "      <td>45.6</td>\n",
              "      <td>96.1</td>\n",
              "      <td>Medium</td>\n",
              "    </tr>\n",
              "    <tr>\n",
              "      <th>35</th>\n",
              "      <td>2023</td>\n",
              "      <td>36</td>\n",
              "      <td>Nanyang Technological University, Singapore</td>\n",
              "      <td>Singapore</td>\n",
              "      <td>77</td>\n",
              "      <td>60.9</td>\n",
              "      <td>77.9</td>\n",
              "      <td>87.2</td>\n",
              "      <td>84.5</td>\n",
              "      <td>94.5</td>\n",
              "      <td>Medium</td>\n",
              "    </tr>\n",
              "    <tr>\n",
              "      <th>36</th>\n",
              "      <td>2023</td>\n",
              "      <td>37</td>\n",
              "      <td>London School of Economics and Political Science</td>\n",
              "      <td>United Kingdom</td>\n",
              "      <td>76.5</td>\n",
              "      <td>59.2</td>\n",
              "      <td>74.3</td>\n",
              "      <td>95.1</td>\n",
              "      <td>37.8</td>\n",
              "      <td>92.8</td>\n",
              "      <td>Medium</td>\n",
              "    </tr>\n",
              "    <tr>\n",
              "      <th>37</th>\n",
              "      <td>2023</td>\n",
              "      <td>38</td>\n",
              "      <td>Georgia Institute of Technology</td>\n",
              "      <td>United States</td>\n",
              "      <td>76</td>\n",
              "      <td>60.2</td>\n",
              "      <td>75.9</td>\n",
              "      <td>91.4</td>\n",
              "      <td>64.9</td>\n",
              "      <td>81.2</td>\n",
              "      <td>Medium</td>\n",
              "    </tr>\n",
              "    <tr>\n",
              "      <th>38</th>\n",
              "      <td>2023</td>\n",
              "      <td>39</td>\n",
              "      <td>The University of Tokyo</td>\n",
              "      <td>Japan</td>\n",
              "      <td>75.9</td>\n",
              "      <td>88.1</td>\n",
              "      <td>91.4</td>\n",
              "      <td>55.5</td>\n",
              "      <td>86.7</td>\n",
              "      <td>43.3</td>\n",
              "      <td>Medium</td>\n",
              "    </tr>\n",
              "    <tr>\n",
              "      <th>39</th>\n",
              "      <td>2023</td>\n",
              "      <td>40</td>\n",
              "      <td>University of British Columbia</td>\n",
              "      <td>Canada</td>\n",
              "      <td>75.7</td>\n",
              "      <td>62.9</td>\n",
              "      <td>73.1</td>\n",
              "      <td>88.8</td>\n",
              "      <td>47.9</td>\n",
              "      <td>94.8</td>\n",
              "      <td>Medium</td>\n",
              "    </tr>\n",
              "    <tr>\n",
              "      <th>40</th>\n",
              "      <td>2023</td>\n",
              "      <td>41</td>\n",
              "      <td>École Polytechnique Fédérale de Lausanne</td>\n",
              "      <td>Switzerland</td>\n",
              "      <td>75.4</td>\n",
              "      <td>65.6</td>\n",
              "      <td>70.7</td>\n",
              "      <td>84.5</td>\n",
              "      <td>71.7</td>\n",
              "      <td>98.0</td>\n",
              "      <td>Medium</td>\n",
              "    </tr>\n",
              "    <tr>\n",
              "      <th>41</th>\n",
              "      <td>2023</td>\n",
              "      <td>42</td>\n",
              "      <td>KU Leuven</td>\n",
              "      <td>Belgium</td>\n",
              "      <td>74.6</td>\n",
              "      <td>59.7</td>\n",
              "      <td>74.9</td>\n",
              "      <td>86.7</td>\n",
              "      <td>99.2</td>\n",
              "      <td>76.8</td>\n",
              "      <td>Medium</td>\n",
              "    </tr>\n",
              "    <tr>\n",
              "      <th>42</th>\n",
              "      <td>2023</td>\n",
              "      <td>43</td>\n",
              "      <td>Universität Heidelberg</td>\n",
              "      <td>Germany</td>\n",
              "      <td>74.1</td>\n",
              "      <td>67.2</td>\n",
              "      <td>61.5</td>\n",
              "      <td>96.0</td>\n",
              "      <td>55.7</td>\n",
              "      <td>71.2</td>\n",
              "      <td>Medium</td>\n",
              "    </tr>\n",
              "    <tr>\n",
              "      <th>43</th>\n",
              "      <td>2023</td>\n",
              "      <td>44</td>\n",
              "      <td>Monash University</td>\n",
              "      <td>Australia</td>\n",
              "      <td>73.6</td>\n",
              "      <td>56.9</td>\n",
              "      <td>68.7</td>\n",
              "      <td>90.4</td>\n",
              "      <td>78.4</td>\n",
              "      <td>91.0</td>\n",
              "      <td>Medium</td>\n",
              "    </tr>\n",
              "    <tr>\n",
              "      <th>44</th>\n",
              "      <td>2023</td>\n",
              "      <td>45</td>\n",
              "      <td>Chinese University of Hong Kong</td>\n",
              "      <td>Hong Kong</td>\n",
              "      <td>73.2</td>\n",
              "      <td>59.1</td>\n",
              "      <td>61.1</td>\n",
              "      <td>95.7</td>\n",
              "      <td>60.9</td>\n",
              "      <td>92.5</td>\n",
              "      <td>Medium</td>\n",
              "    </tr>\n",
              "    <tr>\n",
              "      <th>45</th>\n",
              "      <td>2023</td>\n",
              "      <td>46</td>\n",
              "      <td>McGill University</td>\n",
              "      <td>Canada</td>\n",
              "      <td>73</td>\n",
              "      <td>62.0</td>\n",
              "      <td>72.4</td>\n",
              "      <td>82.5</td>\n",
              "      <td>43.5</td>\n",
              "      <td>91.0</td>\n",
              "      <td>Medium</td>\n",
              "    </tr>\n",
              "    <tr>\n",
              "      <th>46</th>\n",
              "      <td>2023</td>\n",
              "      <td>47</td>\n",
              "      <td>Paris Sciences et Lettres – PSL Research Unive...</td>\n",
              "      <td>France</td>\n",
              "      <td>72.9</td>\n",
              "      <td>68.2</td>\n",
              "      <td>73.5</td>\n",
              "      <td>75.5</td>\n",
              "      <td>78.8</td>\n",
              "      <td>76.3</td>\n",
              "      <td>Medium</td>\n",
              "    </tr>\n",
              "    <tr>\n",
              "      <th>47</th>\n",
              "      <td>2023</td>\n",
              "      <td>48</td>\n",
              "      <td>University of Illinois at Urbana-Champaign</td>\n",
              "      <td>United States</td>\n",
              "      <td>72.7</td>\n",
              "      <td>67.1</td>\n",
              "      <td>78.9</td>\n",
              "      <td>78.1</td>\n",
              "      <td>50.1</td>\n",
              "      <td>56.2</td>\n",
              "      <td>Medium</td>\n",
              "    </tr>\n",
              "    <tr>\n",
              "      <th>48</th>\n",
              "      <td>2023</td>\n",
              "      <td>49</td>\n",
              "      <td>Karolinska Institute</td>\n",
              "      <td>Sweden</td>\n",
              "      <td>72.4</td>\n",
              "      <td>51.1</td>\n",
              "      <td>68.8</td>\n",
              "      <td>94.0</td>\n",
              "      <td>66.4</td>\n",
              "      <td>87.3</td>\n",
              "      <td>Medium</td>\n",
              "    </tr>\n",
              "    <tr>\n",
              "      <th>49</th>\n",
              "      <td>2023</td>\n",
              "      <td>50</td>\n",
              "      <td>University of Texas at Austin</td>\n",
              "      <td>United States</td>\n",
              "      <td>72.3</td>\n",
              "      <td>66.2</td>\n",
              "      <td>73.1</td>\n",
              "      <td>87.5</td>\n",
              "      <td>51.3</td>\n",
              "      <td>40.1</td>\n",
              "      <td>Medium</td>\n",
              "    </tr>\n",
              "  </tbody>\n",
              "</table>\n",
              "</div>\n",
              "      <button class=\"colab-df-convert\" onclick=\"convertToInteractive('df-8aaf39d3-8ee6-4ba8-8764-7d8b690bcae4')\"\n",
              "              title=\"Convert this dataframe to an interactive table.\"\n",
              "              style=\"display:none;\">\n",
              "        \n",
              "  <svg xmlns=\"http://www.w3.org/2000/svg\" height=\"24px\"viewBox=\"0 0 24 24\"\n",
              "       width=\"24px\">\n",
              "    <path d=\"M0 0h24v24H0V0z\" fill=\"none\"/>\n",
              "    <path d=\"M18.56 5.44l.94 2.06.94-2.06 2.06-.94-2.06-.94-.94-2.06-.94 2.06-2.06.94zm-11 1L8.5 8.5l.94-2.06 2.06-.94-2.06-.94L8.5 2.5l-.94 2.06-2.06.94zm10 10l.94 2.06.94-2.06 2.06-.94-2.06-.94-.94-2.06-.94 2.06-2.06.94z\"/><path d=\"M17.41 7.96l-1.37-1.37c-.4-.4-.92-.59-1.43-.59-.52 0-1.04.2-1.43.59L10.3 9.45l-7.72 7.72c-.78.78-.78 2.05 0 2.83L4 21.41c.39.39.9.59 1.41.59.51 0 1.02-.2 1.41-.59l7.78-7.78 2.81-2.81c.8-.78.8-2.07 0-2.86zM5.41 20L4 18.59l7.72-7.72 1.47 1.35L5.41 20z\"/>\n",
              "  </svg>\n",
              "      </button>\n",
              "      \n",
              "  <style>\n",
              "    .colab-df-container {\n",
              "      display:flex;\n",
              "      flex-wrap:wrap;\n",
              "      gap: 12px;\n",
              "    }\n",
              "\n",
              "    .colab-df-convert {\n",
              "      background-color: #E8F0FE;\n",
              "      border: none;\n",
              "      border-radius: 50%;\n",
              "      cursor: pointer;\n",
              "      display: none;\n",
              "      fill: #1967D2;\n",
              "      height: 32px;\n",
              "      padding: 0 0 0 0;\n",
              "      width: 32px;\n",
              "    }\n",
              "\n",
              "    .colab-df-convert:hover {\n",
              "      background-color: #E2EBFA;\n",
              "      box-shadow: 0px 1px 2px rgba(60, 64, 67, 0.3), 0px 1px 3px 1px rgba(60, 64, 67, 0.15);\n",
              "      fill: #174EA6;\n",
              "    }\n",
              "\n",
              "    [theme=dark] .colab-df-convert {\n",
              "      background-color: #3B4455;\n",
              "      fill: #D2E3FC;\n",
              "    }\n",
              "\n",
              "    [theme=dark] .colab-df-convert:hover {\n",
              "      background-color: #434B5C;\n",
              "      box-shadow: 0px 1px 3px 1px rgba(0, 0, 0, 0.15);\n",
              "      filter: drop-shadow(0px 1px 2px rgba(0, 0, 0, 0.3));\n",
              "      fill: #FFFFFF;\n",
              "    }\n",
              "  </style>\n",
              "\n",
              "      <script>\n",
              "        const buttonEl =\n",
              "          document.querySelector('#df-8aaf39d3-8ee6-4ba8-8764-7d8b690bcae4 button.colab-df-convert');\n",
              "        buttonEl.style.display =\n",
              "          google.colab.kernel.accessAllowed ? 'block' : 'none';\n",
              "\n",
              "        async function convertToInteractive(key) {\n",
              "          const element = document.querySelector('#df-8aaf39d3-8ee6-4ba8-8764-7d8b690bcae4');\n",
              "          const dataTable =\n",
              "            await google.colab.kernel.invokeFunction('convertToInteractive',\n",
              "                                                     [key], {});\n",
              "          if (!dataTable) return;\n",
              "\n",
              "          const docLinkHtml = 'Like what you see? Visit the ' +\n",
              "            '<a target=\"_blank\" href=https://colab.research.google.com/notebooks/data_table.ipynb>data table notebook</a>'\n",
              "            + ' to learn more about interactive tables.';\n",
              "          element.innerHTML = '';\n",
              "          dataTable['output_type'] = 'display_data';\n",
              "          await google.colab.output.renderOutput(dataTable, element);\n",
              "          const docLink = document.createElement('div');\n",
              "          docLink.innerHTML = docLinkHtml;\n",
              "          element.appendChild(docLink);\n",
              "        }\n",
              "      </script>\n",
              "    </div>\n",
              "  </div>\n",
              "  "
            ]
          },
          "metadata": {},
          "execution_count": 293
        }
      ]
    }
  ]
}